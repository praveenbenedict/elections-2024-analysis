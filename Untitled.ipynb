{
 "cells": [
  {
   "cell_type": "code",
   "execution_count": 1,
   "id": "7bbe4c52-ce78-488b-94eb-efda7d31e599",
   "metadata": {},
   "outputs": [],
   "source": [
    "import pandas as pd"
   ]
  },
  {
   "cell_type": "code",
   "execution_count": 4,
   "id": "dd9a070f-0f1c-4eac-b422-3d89015b783d",
   "metadata": {},
   "outputs": [],
   "source": [
    "state_ut_mapper = [{'type': 'U', 'name': 'Andaman & Nicobar Islands', 'code': 'U01'}, {'type': 'S', 'name': 'Andhra Pradesh', 'code': 'S01'}, {'type': 'S', 'name': 'Arunachal Pradesh', 'code': 'S02'}, {'type': 'S', 'name': 'Assam', 'code': 'S03'}, {'type': 'S', 'name': 'Bihar', 'code': 'S04'}, {'type': 'U', 'name': 'Chandigarh', 'code': 'U02'}, {'type': 'S', 'name': 'Chhattisgarh', 'code': 'S26'}, {'type': 'U', 'name': 'Dadra & Nagar Haveli and Daman & Diu', 'code': 'U03'}, {'type': 'S', 'name': 'Goa', 'code': 'S05'}, {'type': 'S', 'name': 'Gujarat', 'code': 'S06'}, {'type': 'S', 'name': 'Haryana', 'code': 'S07'}, {'type': 'S', 'name': 'Himachal Pradesh', 'code': 'S08'}, {'type': 'U', 'name': 'Jammu and Kashmir', 'code': 'U08'}, {'type': 'S', 'name': 'Jharkhand', 'code': 'S27'}, {'type': 'S', 'name': 'Karnataka', 'code': 'S10'}, {'type': 'S', 'name': 'Kerala', 'code': 'S11'}, {'type': 'U', 'name': 'Ladakh', 'code': 'U09'}, {'type': 'U', 'name': 'Lakshadweep', 'code': 'U06'}, {'type': 'S', 'name': 'Madhya Pradesh', 'code': 'S12'}, {'type': 'S', 'name': 'Maharashtra', 'code': 'S13'}, {'type': 'S', 'name': 'Manipur', 'code': 'S14'}, {'type': 'S', 'name': 'Meghalaya', 'code': 'S15'}, {'type': 'S', 'name': 'Mizoram', 'code': 'S16'}, {'type': 'S', 'name': 'Nagaland', 'code': 'S17'}, {'type': 'U', 'name': 'NCT OF Delhi', 'code': 'U05'}, {'type': 'S', 'name': 'Odisha', 'code': 'S18'}, {'type': 'U', 'name': 'Puducherry', 'code': 'U07'}, {'type': 'S', 'name': 'Punjab', 'code': 'S19'}, {'type': 'S', 'name': 'Rajasthan', 'code': 'S20'}, {'type': 'S', 'name': 'Sikkim', 'code': 'S21'}, {'type': 'S', 'name': 'Tamil Nadu', 'code': 'S22'}, {'type': 'S', 'name': 'Telangana', 'code': 'S29'}, {'type': 'S', 'name': 'Tripura', 'code': 'S23'}, {'type': 'S', 'name': 'Uttar Pradesh', 'code': 'S24'}, {'type': 'S', 'name': 'Uttarakhand', 'code': 'S28'}, {'type': 'S', 'name': 'West Bengal', 'code': 'S25'}]"
   ]
  },
  {
   "cell_type": "code",
   "execution_count": 5,
   "id": "145c93c1-76e0-49bb-852e-a3fdd0e11111",
   "metadata": {},
   "outputs": [
    {
     "data": {
      "text/plain": [
       "[{'type': 'U', 'name': 'Andaman & Nicobar Islands', 'code': 'U01'},\n",
       " {'type': 'S', 'name': 'Andhra Pradesh', 'code': 'S01'},\n",
       " {'type': 'S', 'name': 'Arunachal Pradesh', 'code': 'S02'},\n",
       " {'type': 'S', 'name': 'Assam', 'code': 'S03'},\n",
       " {'type': 'S', 'name': 'Bihar', 'code': 'S04'},\n",
       " {'type': 'U', 'name': 'Chandigarh', 'code': 'U02'},\n",
       " {'type': 'S', 'name': 'Chhattisgarh', 'code': 'S26'},\n",
       " {'type': 'U', 'name': 'Dadra & Nagar Haveli and Daman & Diu', 'code': 'U03'},\n",
       " {'type': 'S', 'name': 'Goa', 'code': 'S05'},\n",
       " {'type': 'S', 'name': 'Gujarat', 'code': 'S06'},\n",
       " {'type': 'S', 'name': 'Haryana', 'code': 'S07'},\n",
       " {'type': 'S', 'name': 'Himachal Pradesh', 'code': 'S08'},\n",
       " {'type': 'U', 'name': 'Jammu and Kashmir', 'code': 'U08'},\n",
       " {'type': 'S', 'name': 'Jharkhand', 'code': 'S27'},\n",
       " {'type': 'S', 'name': 'Karnataka', 'code': 'S10'},\n",
       " {'type': 'S', 'name': 'Kerala', 'code': 'S11'},\n",
       " {'type': 'U', 'name': 'Ladakh', 'code': 'U09'},\n",
       " {'type': 'U', 'name': 'Lakshadweep', 'code': 'U06'},\n",
       " {'type': 'S', 'name': 'Madhya Pradesh', 'code': 'S12'},\n",
       " {'type': 'S', 'name': 'Maharashtra', 'code': 'S13'},\n",
       " {'type': 'S', 'name': 'Manipur', 'code': 'S14'},\n",
       " {'type': 'S', 'name': 'Meghalaya', 'code': 'S15'},\n",
       " {'type': 'S', 'name': 'Mizoram', 'code': 'S16'},\n",
       " {'type': 'S', 'name': 'Nagaland', 'code': 'S17'},\n",
       " {'type': 'U', 'name': 'NCT OF Delhi', 'code': 'U05'},\n",
       " {'type': 'S', 'name': 'Odisha', 'code': 'S18'},\n",
       " {'type': 'U', 'name': 'Puducherry', 'code': 'U07'},\n",
       " {'type': 'S', 'name': 'Punjab', 'code': 'S19'},\n",
       " {'type': 'S', 'name': 'Rajasthan', 'code': 'S20'},\n",
       " {'type': 'S', 'name': 'Sikkim', 'code': 'S21'},\n",
       " {'type': 'S', 'name': 'Tamil Nadu', 'code': 'S22'},\n",
       " {'type': 'S', 'name': 'Telangana', 'code': 'S29'},\n",
       " {'type': 'S', 'name': 'Tripura', 'code': 'S23'},\n",
       " {'type': 'S', 'name': 'Uttar Pradesh', 'code': 'S24'},\n",
       " {'type': 'S', 'name': 'Uttarakhand', 'code': 'S28'},\n",
       " {'type': 'S', 'name': 'West Bengal', 'code': 'S25'}]"
      ]
     },
     "execution_count": 5,
     "metadata": {},
     "output_type": "execute_result"
    }
   ],
   "source": [
    "state_ut_mapper"
   ]
  },
  {
   "cell_type": "code",
   "execution_count": 8,
   "id": "0b97cde3-30d6-41dc-a297-65a7eae70324",
   "metadata": {},
   "outputs": [],
   "source": [
    "state_ut_mapper_dict = {}\n",
    "for state_ut in state_up_mapper:\n",
    "    state_ut_mapper_dict[state_ut['code']] = {\n",
    "        'name': state_ut['name'],\n",
    "        'type': state_ut['type']\n",
    "    }"
   ]
  },
  {
   "cell_type": "code",
   "execution_count": 7,
   "id": "0c56f1ae-7972-413b-9dc4-9d355bcb39ca",
   "metadata": {},
   "outputs": [
    {
     "data": {
      "text/html": [
       "<div>\n",
       "<style scoped>\n",
       "    .dataframe tbody tr th:only-of-type {\n",
       "        vertical-align: middle;\n",
       "    }\n",
       "\n",
       "    .dataframe tbody tr th {\n",
       "        vertical-align: top;\n",
       "    }\n",
       "\n",
       "    .dataframe thead th {\n",
       "        text-align: right;\n",
       "    }\n",
       "</style>\n",
       "<table border=\"1\" class=\"dataframe\">\n",
       "  <thead>\n",
       "    <tr style=\"text-align: right;\">\n",
       "      <th></th>\n",
       "      <th>state_ut_code</th>\n",
       "      <th>constituency_code</th>\n",
       "      <th>constituency_name</th>\n",
       "      <th>candidate_name</th>\n",
       "      <th>candidate_party</th>\n",
       "      <th>total_votes</th>\n",
       "    </tr>\n",
       "  </thead>\n",
       "  <tbody>\n",
       "    <tr>\n",
       "      <th>0</th>\n",
       "      <td>U01</td>\n",
       "      <td>1</td>\n",
       "      <td>Andaman&amp;NicobarIslands</td>\n",
       "      <td>BISHNU PADA RAY</td>\n",
       "      <td>Bharatiya Janata Party</td>\n",
       "      <td>102436</td>\n",
       "    </tr>\n",
       "    <tr>\n",
       "      <th>1</th>\n",
       "      <td>U01</td>\n",
       "      <td>1</td>\n",
       "      <td>Andaman&amp;NicobarIslands</td>\n",
       "      <td>KULDEEP RAI SHARMA</td>\n",
       "      <td>Indian National Congress</td>\n",
       "      <td>78040</td>\n",
       "    </tr>\n",
       "    <tr>\n",
       "      <th>2</th>\n",
       "      <td>U01</td>\n",
       "      <td>1</td>\n",
       "      <td>Andaman&amp;NicobarIslands</td>\n",
       "      <td>MANOJ PAUL</td>\n",
       "      <td>Andaman Nicobar Democratic Congress</td>\n",
       "      <td>8254</td>\n",
       "    </tr>\n",
       "    <tr>\n",
       "      <th>3</th>\n",
       "      <td>U01</td>\n",
       "      <td>1</td>\n",
       "      <td>Andaman&amp;NicobarIslands</td>\n",
       "      <td>D AYYAPPAN</td>\n",
       "      <td>Communist Party of India  (Marxist)</td>\n",
       "      <td>6017</td>\n",
       "    </tr>\n",
       "    <tr>\n",
       "      <th>4</th>\n",
       "      <td>U01</td>\n",
       "      <td>1</td>\n",
       "      <td>Andaman&amp;NicobarIslands</td>\n",
       "      <td>V.K. ABDUL AZIZ</td>\n",
       "      <td>Independent</td>\n",
       "      <td>2203</td>\n",
       "    </tr>\n",
       "  </tbody>\n",
       "</table>\n",
       "</div>"
      ],
      "text/plain": [
       "  state_ut_code  constituency_code       constituency_name  \\\n",
       "0           U01                  1  Andaman&NicobarIslands   \n",
       "1           U01                  1  Andaman&NicobarIslands   \n",
       "2           U01                  1  Andaman&NicobarIslands   \n",
       "3           U01                  1  Andaman&NicobarIslands   \n",
       "4           U01                  1  Andaman&NicobarIslands   \n",
       "\n",
       "       candidate_name                      candidate_party total_votes  \n",
       "0     BISHNU PADA RAY               Bharatiya Janata Party      102436  \n",
       "1  KULDEEP RAI SHARMA             Indian National Congress       78040  \n",
       "2          MANOJ PAUL  Andaman Nicobar Democratic Congress        8254  \n",
       "3          D AYYAPPAN  Communist Party of India  (Marxist)        6017  \n",
       "4     V.K. ABDUL AZIZ                          Independent        2203  "
      ]
     },
     "execution_count": 7,
     "metadata": {},
     "output_type": "execute_result"
    }
   ],
   "source": [
    "constituency_wide_data = pd.read_csv('Constituency Wide Data.csv')\n",
    "constituency_wide_data.head()"
   ]
  },
  {
   "cell_type": "code",
   "execution_count": 14,
   "id": "9f0aa679-a27d-4af0-833b-3cb824365a11",
   "metadata": {},
   "outputs": [],
   "source": [
    "def apply_state_name(row):\n",
    "    return state_ut_mapper_dict[row['state_ut_code']]['name']"
   ]
  },
  {
   "cell_type": "code",
   "execution_count": 17,
   "id": "17bfc83a-b78b-4c37-af34-67f8198d0f55",
   "metadata": {},
   "outputs": [],
   "source": [
    "def apply_type(row):\n",
    "    if state_ut_mapper_dict[row['state_ut_code']]['type'] == 'S':\n",
    "        return 'State'\n",
    "    else:\n",
    "        return 'Union Territory'"
   ]
  },
  {
   "cell_type": "code",
   "execution_count": 15,
   "id": "896dcb9f-0467-498b-977f-7475cf52a5dd",
   "metadata": {},
   "outputs": [],
   "source": [
    "constituency_wide_data['name_of_state_or_ut'] = constituency_wide_data.apply(apply_state_name, axis=1)"
   ]
  },
  {
   "cell_type": "code",
   "execution_count": 18,
   "id": "a19b458c-889d-4013-895a-4d80e588725c",
   "metadata": {},
   "outputs": [],
   "source": [
    "constituency_wide_data['type'] = constituency_wide_data.apply(apply_type, axis=1)"
   ]
  },
  {
   "cell_type": "code",
   "execution_count": 24,
   "id": "71e120a8-4b4f-4e07-9d99-050b1ea06cd9",
   "metadata": {},
   "outputs": [],
   "source": [
    "constituency_wide_data.to_csv('Constituency Wide Data.csv', index=False)"
   ]
  },
  {
   "cell_type": "code",
   "execution_count": 21,
   "id": "b3b37ba9-ddc8-4507-8d40-cfa59b9e30de",
   "metadata": {},
   "outputs": [
    {
     "data": {
      "text/plain": [
       "Index(['state_ut_code', 'constituency_code', 'constituency_name',\n",
       "       'candidate_name', 'candidate_party', 'total_votes',\n",
       "       'name_of_state_or_ut', 'type'],\n",
       "      dtype='object')"
      ]
     },
     "execution_count": 21,
     "metadata": {},
     "output_type": "execute_result"
    }
   ],
   "source": [
    "constituency_wide_data.columns"
   ]
  },
  {
   "cell_type": "code",
   "execution_count": 23,
   "id": "fc26b9f0-cb52-4af0-bdac-7c0b7a4356cd",
   "metadata": {},
   "outputs": [],
   "source": [
    "constituency_wide_data = constituency_wide_data[['name_of_state_or_ut', 'type', 'state_ut_code', 'constituency_code', 'constituency_name', 'candidate_name', 'candidate_party', 'total_votes']]"
   ]
  },
  {
   "cell_type": "code",
   "execution_count": null,
   "id": "821cebef-f254-4eeb-8a02-f5ec6f46e56a",
   "metadata": {},
   "outputs": [],
   "source": []
  }
 ],
 "metadata": {
  "kernelspec": {
   "display_name": "Python 3 (ipykernel)",
   "language": "python",
   "name": "python3"
  },
  "language_info": {
   "codemirror_mode": {
    "name": "ipython",
    "version": 3
   },
   "file_extension": ".py",
   "mimetype": "text/x-python",
   "name": "python",
   "nbconvert_exporter": "python",
   "pygments_lexer": "ipython3",
   "version": "3.9.19"
  }
 },
 "nbformat": 4,
 "nbformat_minor": 5
}
