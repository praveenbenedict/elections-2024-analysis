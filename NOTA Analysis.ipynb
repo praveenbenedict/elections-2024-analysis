{
 "cells": [
  {
   "cell_type": "markdown",
   "id": "0323847d-0b9c-4b8b-ae1f-7339af4ee197",
   "metadata": {},
   "source": [
    "### Data Prep\n",
    "\n",
    "Scroll to analysis section if you already have the _NOTA In top 3.csv_ file."
   ]
  },
  {
   "cell_type": "code",
   "execution_count": 1,
   "id": "bc8a03de-4b5e-4116-8d6b-488bd54fd206",
   "metadata": {},
   "outputs": [],
   "source": [
    "import pandas as pd\n",
    "import numpy as np"
   ]
  },
  {
   "cell_type": "code",
   "execution_count": 2,
   "id": "1db62144-89cc-4d02-8f3c-25c006ef161c",
   "metadata": {},
   "outputs": [],
   "source": [
    "constituency_wide_data = pd.read_csv('Constituency Wide Data.csv')\n",
    "constituency_wide_data = constituency_wide_data.astype({'total_votes': int})"
   ]
  },
  {
   "cell_type": "code",
   "execution_count": 3,
   "id": "5548bea7-43ad-475d-b6f9-0e375f290e19",
   "metadata": {},
   "outputs": [
    {
     "data": {
      "text/html": [
       "<div>\n",
       "<style scoped>\n",
       "    .dataframe tbody tr th:only-of-type {\n",
       "        vertical-align: middle;\n",
       "    }\n",
       "\n",
       "    .dataframe tbody tr th {\n",
       "        vertical-align: top;\n",
       "    }\n",
       "\n",
       "    .dataframe thead th {\n",
       "        text-align: right;\n",
       "    }\n",
       "</style>\n",
       "<table border=\"1\" class=\"dataframe\">\n",
       "  <thead>\n",
       "    <tr style=\"text-align: right;\">\n",
       "      <th></th>\n",
       "      <th>name_of_state_or_ut</th>\n",
       "      <th>type</th>\n",
       "      <th>state_ut_code</th>\n",
       "      <th>constituency_code</th>\n",
       "      <th>constituency_name</th>\n",
       "      <th>candidate_name</th>\n",
       "      <th>candidate_party</th>\n",
       "      <th>total_votes</th>\n",
       "    </tr>\n",
       "  </thead>\n",
       "  <tbody>\n",
       "    <tr>\n",
       "      <th>0</th>\n",
       "      <td>Andaman &amp; Nicobar Islands</td>\n",
       "      <td>Union Territory</td>\n",
       "      <td>U01</td>\n",
       "      <td>1</td>\n",
       "      <td>Andaman&amp;NicobarIslands</td>\n",
       "      <td>BISHNU PADA RAY</td>\n",
       "      <td>Bharatiya Janata Party</td>\n",
       "      <td>102436</td>\n",
       "    </tr>\n",
       "    <tr>\n",
       "      <th>1</th>\n",
       "      <td>Andaman &amp; Nicobar Islands</td>\n",
       "      <td>Union Territory</td>\n",
       "      <td>U01</td>\n",
       "      <td>1</td>\n",
       "      <td>Andaman&amp;NicobarIslands</td>\n",
       "      <td>KULDEEP RAI SHARMA</td>\n",
       "      <td>Indian National Congress</td>\n",
       "      <td>78040</td>\n",
       "    </tr>\n",
       "    <tr>\n",
       "      <th>2</th>\n",
       "      <td>Andaman &amp; Nicobar Islands</td>\n",
       "      <td>Union Territory</td>\n",
       "      <td>U01</td>\n",
       "      <td>1</td>\n",
       "      <td>Andaman&amp;NicobarIslands</td>\n",
       "      <td>MANOJ PAUL</td>\n",
       "      <td>Andaman Nicobar Democratic Congress</td>\n",
       "      <td>8254</td>\n",
       "    </tr>\n",
       "    <tr>\n",
       "      <th>3</th>\n",
       "      <td>Andaman &amp; Nicobar Islands</td>\n",
       "      <td>Union Territory</td>\n",
       "      <td>U01</td>\n",
       "      <td>1</td>\n",
       "      <td>Andaman&amp;NicobarIslands</td>\n",
       "      <td>D AYYAPPAN</td>\n",
       "      <td>Communist Party of India  (Marxist)</td>\n",
       "      <td>6017</td>\n",
       "    </tr>\n",
       "    <tr>\n",
       "      <th>4</th>\n",
       "      <td>Andaman &amp; Nicobar Islands</td>\n",
       "      <td>Union Territory</td>\n",
       "      <td>U01</td>\n",
       "      <td>1</td>\n",
       "      <td>Andaman&amp;NicobarIslands</td>\n",
       "      <td>V.K. ABDUL AZIZ</td>\n",
       "      <td>Independent</td>\n",
       "      <td>2203</td>\n",
       "    </tr>\n",
       "  </tbody>\n",
       "</table>\n",
       "</div>"
      ],
      "text/plain": [
       "         name_of_state_or_ut             type state_ut_code  \\\n",
       "0  Andaman & Nicobar Islands  Union Territory           U01   \n",
       "1  Andaman & Nicobar Islands  Union Territory           U01   \n",
       "2  Andaman & Nicobar Islands  Union Territory           U01   \n",
       "3  Andaman & Nicobar Islands  Union Territory           U01   \n",
       "4  Andaman & Nicobar Islands  Union Territory           U01   \n",
       "\n",
       "   constituency_code       constituency_name      candidate_name  \\\n",
       "0                  1  Andaman&NicobarIslands     BISHNU PADA RAY   \n",
       "1                  1  Andaman&NicobarIslands  KULDEEP RAI SHARMA   \n",
       "2                  1  Andaman&NicobarIslands          MANOJ PAUL   \n",
       "3                  1  Andaman&NicobarIslands          D AYYAPPAN   \n",
       "4                  1  Andaman&NicobarIslands     V.K. ABDUL AZIZ   \n",
       "\n",
       "                       candidate_party  total_votes  \n",
       "0               Bharatiya Janata Party       102436  \n",
       "1             Indian National Congress        78040  \n",
       "2  Andaman Nicobar Democratic Congress         8254  \n",
       "3  Communist Party of India  (Marxist)         6017  \n",
       "4                          Independent         2203  "
      ]
     },
     "execution_count": 3,
     "metadata": {},
     "output_type": "execute_result"
    }
   ],
   "source": [
    "constituency_wide_data.head()"
   ]
  },
  {
   "cell_type": "code",
   "execution_count": 4,
   "id": "435f37b9-28e8-4afc-b5d8-90e92a9b0486",
   "metadata": {},
   "outputs": [
    {
     "data": {
      "text/html": [
       "<div>\n",
       "<style scoped>\n",
       "    .dataframe tbody tr th:only-of-type {\n",
       "        vertical-align: middle;\n",
       "    }\n",
       "\n",
       "    .dataframe tbody tr th {\n",
       "        vertical-align: top;\n",
       "    }\n",
       "\n",
       "    .dataframe thead th {\n",
       "        text-align: right;\n",
       "    }\n",
       "</style>\n",
       "<table border=\"1\" class=\"dataframe\">\n",
       "  <thead>\n",
       "    <tr style=\"text-align: right;\">\n",
       "      <th></th>\n",
       "      <th>name_of_state_or_ut</th>\n",
       "      <th>type</th>\n",
       "      <th>state_ut_code</th>\n",
       "      <th>constituency_code</th>\n",
       "      <th>constituency_name</th>\n",
       "      <th>candidate_name</th>\n",
       "      <th>candidate_party</th>\n",
       "      <th>total_votes</th>\n",
       "    </tr>\n",
       "  </thead>\n",
       "  <tbody>\n",
       "    <tr>\n",
       "      <th>12</th>\n",
       "      <td>Andaman &amp; Nicobar Islands</td>\n",
       "      <td>Union Territory</td>\n",
       "      <td>U01</td>\n",
       "      <td>1</td>\n",
       "      <td>Andaman&amp;NicobarIslands</td>\n",
       "      <td>NOTA</td>\n",
       "      <td>None of the Above</td>\n",
       "      <td>1809</td>\n",
       "    </tr>\n",
       "    <tr>\n",
       "      <th>28</th>\n",
       "      <td>Andhra Pradesh</td>\n",
       "      <td>State</td>\n",
       "      <td>S01</td>\n",
       "      <td>7</td>\n",
       "      <td>Amalapuram(SC)</td>\n",
       "      <td>NOTA</td>\n",
       "      <td>None of the Above</td>\n",
       "      <td>13518</td>\n",
       "    </tr>\n",
       "    <tr>\n",
       "      <th>44</th>\n",
       "      <td>Andhra Pradesh</td>\n",
       "      <td>State</td>\n",
       "      <td>S01</td>\n",
       "      <td>5</td>\n",
       "      <td>Anakapalle</td>\n",
       "      <td>NOTA</td>\n",
       "      <td>None of the Above</td>\n",
       "      <td>26235</td>\n",
       "    </tr>\n",
       "    <tr>\n",
       "      <th>66</th>\n",
       "      <td>Andhra Pradesh</td>\n",
       "      <td>State</td>\n",
       "      <td>S01</td>\n",
       "      <td>19</td>\n",
       "      <td>Ananthapur</td>\n",
       "      <td>NOTA</td>\n",
       "      <td>None of the Above</td>\n",
       "      <td>9199</td>\n",
       "    </tr>\n",
       "    <tr>\n",
       "      <th>80</th>\n",
       "      <td>Andhra Pradesh</td>\n",
       "      <td>State</td>\n",
       "      <td>S01</td>\n",
       "      <td>1</td>\n",
       "      <td>Araku(ST)</td>\n",
       "      <td>NOTA</td>\n",
       "      <td>None of the Above</td>\n",
       "      <td>50470</td>\n",
       "    </tr>\n",
       "    <tr>\n",
       "      <th>...</th>\n",
       "      <td>...</td>\n",
       "      <td>...</td>\n",
       "      <td>...</td>\n",
       "      <td>...</td>\n",
       "      <td>...</td>\n",
       "      <td>...</td>\n",
       "      <td>...</td>\n",
       "      <td>...</td>\n",
       "    </tr>\n",
       "    <tr>\n",
       "      <th>8858</th>\n",
       "      <td>West Bengal</td>\n",
       "      <td>State</td>\n",
       "      <td>S25</td>\n",
       "      <td>5</td>\n",
       "      <td>Raiganj</td>\n",
       "      <td>NOTA</td>\n",
       "      <td>None of the Above</td>\n",
       "      <td>1940</td>\n",
       "    </tr>\n",
       "    <tr>\n",
       "      <th>8866</th>\n",
       "      <td>West Bengal</td>\n",
       "      <td>State</td>\n",
       "      <td>S25</td>\n",
       "      <td>13</td>\n",
       "      <td>Ranaghat</td>\n",
       "      <td>NOTA</td>\n",
       "      <td>None of the Above</td>\n",
       "      <td>9893</td>\n",
       "    </tr>\n",
       "    <tr>\n",
       "      <th>8878</th>\n",
       "      <td>West Bengal</td>\n",
       "      <td>State</td>\n",
       "      <td>S25</td>\n",
       "      <td>27</td>\n",
       "      <td>Srerampur</td>\n",
       "      <td>NOTA</td>\n",
       "      <td>None of the Above</td>\n",
       "      <td>15034</td>\n",
       "    </tr>\n",
       "    <tr>\n",
       "      <th>8888</th>\n",
       "      <td>West Bengal</td>\n",
       "      <td>State</td>\n",
       "      <td>S25</td>\n",
       "      <td>30</td>\n",
       "      <td>Tamluk</td>\n",
       "      <td>NOTA</td>\n",
       "      <td>None of the Above</td>\n",
       "      <td>8265</td>\n",
       "    </tr>\n",
       "    <tr>\n",
       "      <th>8901</th>\n",
       "      <td>West Bengal</td>\n",
       "      <td>State</td>\n",
       "      <td>S25</td>\n",
       "      <td>26</td>\n",
       "      <td>Uluberia</td>\n",
       "      <td>NOTA</td>\n",
       "      <td>None of the Above</td>\n",
       "      <td>11318</td>\n",
       "    </tr>\n",
       "  </tbody>\n",
       "</table>\n",
       "<p>542 rows × 8 columns</p>\n",
       "</div>"
      ],
      "text/plain": [
       "            name_of_state_or_ut             type state_ut_code  \\\n",
       "12    Andaman & Nicobar Islands  Union Territory           U01   \n",
       "28               Andhra Pradesh            State           S01   \n",
       "44               Andhra Pradesh            State           S01   \n",
       "66               Andhra Pradesh            State           S01   \n",
       "80               Andhra Pradesh            State           S01   \n",
       "...                         ...              ...           ...   \n",
       "8858                West Bengal            State           S25   \n",
       "8866                West Bengal            State           S25   \n",
       "8878                West Bengal            State           S25   \n",
       "8888                West Bengal            State           S25   \n",
       "8901                West Bengal            State           S25   \n",
       "\n",
       "      constituency_code       constituency_name candidate_name  \\\n",
       "12                    1  Andaman&NicobarIslands           NOTA   \n",
       "28                    7          Amalapuram(SC)           NOTA   \n",
       "44                    5              Anakapalle           NOTA   \n",
       "66                   19              Ananthapur           NOTA   \n",
       "80                    1               Araku(ST)           NOTA   \n",
       "...                 ...                     ...            ...   \n",
       "8858                  5                 Raiganj           NOTA   \n",
       "8866                 13                Ranaghat           NOTA   \n",
       "8878                 27               Srerampur           NOTA   \n",
       "8888                 30                  Tamluk           NOTA   \n",
       "8901                 26                Uluberia           NOTA   \n",
       "\n",
       "        candidate_party  total_votes  \n",
       "12    None of the Above         1809  \n",
       "28    None of the Above        13518  \n",
       "44    None of the Above        26235  \n",
       "66    None of the Above         9199  \n",
       "80    None of the Above        50470  \n",
       "...                 ...          ...  \n",
       "8858  None of the Above         1940  \n",
       "8866  None of the Above         9893  \n",
       "8878  None of the Above        15034  \n",
       "8888  None of the Above         8265  \n",
       "8901  None of the Above        11318  \n",
       "\n",
       "[542 rows x 8 columns]"
      ]
     },
     "execution_count": 4,
     "metadata": {},
     "output_type": "execute_result"
    }
   ],
   "source": [
    "constituency_wide_data[constituency_wide_data['candidate_party']=='None of the Above']"
   ]
  },
  {
   "cell_type": "code",
   "execution_count": 5,
   "id": "25d3ba92-9026-4431-8ead-680fd4c82bdc",
   "metadata": {},
   "outputs": [],
   "source": [
    "constituencies = list(constituency_wide_data.value_counts(['state_ut_code', 'constituency_code']).index)"
   ]
  },
  {
   "cell_type": "code",
   "execution_count": 6,
   "id": "b9600a78-4450-4063-8b19-57a5410523f0",
   "metadata": {},
   "outputs": [
    {
     "data": {
      "text/plain": [
       "543"
      ]
     },
     "execution_count": 6,
     "metadata": {},
     "output_type": "execute_result"
    }
   ],
   "source": [
    "len(constituencies)"
   ]
  },
  {
   "cell_type": "code",
   "execution_count": null,
   "id": "7368d653-f45b-49cd-94f6-a5e040795e36",
   "metadata": {},
   "outputs": [],
   "source": [
    "nota_in_top_3 = {\n",
    "    'name_of_state_or_ut': [],\n",
    "    'state_ut_code': [],\n",
    "    'constituency_code': [],\n",
    "    'constituency_name': [],\n",
    "    'winner_votes': [],\n",
    "    'nota_votes': [],\n",
    "    'nota_position': [],\n",
    "    'runner_votes': []\n",
    "}\n",
    "for constituency in constituencies:\n",
    "    constituency_info = constituency_wide_data[(constituency_wide_data['state_ut_code'] == constituency[0]) & (constituency_wide_data['constituency_code'] == constituency[1])]\n",
    "    constituency_info.sort_values('total_votes', ascending=False, inplace=True)\n",
    "    constituency_info = constituency_info.iloc[:3]\n",
    "    if 'None of the Above' in constituency_info['candidate_party'].values:\n",
    "        print(constituency_info['name_of_state_or_ut'].iloc[0], constituency_info['constituency_name'].iloc[0])\n",
    "        nota_in_top_3['name_of_state_or_ut'].append(constituency_info['name_of_state_or_ut'].iloc[0])\n",
    "        nota_in_top_3['state_ut_code'].append(constituency_info['state_ut_code'].iloc[0])\n",
    "        nota_in_top_3['constituency_code'].append(constituency_info['constituency_code'].iloc[0])\n",
    "        nota_in_top_3['constituency_name'].append(constituency_info['constituency_name'].iloc[0])\n",
    "        nota_in_top_3['winner_votes'].append(constituency_info['total_votes'].iloc[0])\n",
    "        nota_in_top_3['nota_votes'].append(\n",
    "           constituency_info.iloc[list(constituency_info['candidate_party'].values).index('None of the Above')]['total_votes']\n",
    "        )\n",
    "        if list(constituency_info['candidate_party'].values).index('None of the Above') == 1:\n",
    "            nota_in_top_3['runner_votes'].append(constituency_info['total_votes'].iloc[2])\n",
    "        else:\n",
    "            nota_in_top_3['runner_votes'].append(constituency_info['total_votes'].iloc[1])\n",
    "        nota_in_top_3['nota_position'].append(list(constituency_info['candidate_party'].values).index('None of the Above') + 1)"
   ]
  },
  {
   "cell_type": "code",
   "execution_count": 16,
   "id": "281aa639-ade7-4b4c-95ee-04ff7c6c876a",
   "metadata": {},
   "outputs": [],
   "source": [
    "nota_in_top_3_df = pd.DataFrame(nota_in_top_3)"
   ]
  },
  {
   "cell_type": "code",
   "execution_count": 17,
   "id": "f0775bc5-f35c-47ee-b8a8-c72d4294d0be",
   "metadata": {},
   "outputs": [
    {
     "data": {
      "text/html": [
       "<div>\n",
       "<style scoped>\n",
       "    .dataframe tbody tr th:only-of-type {\n",
       "        vertical-align: middle;\n",
       "    }\n",
       "\n",
       "    .dataframe tbody tr th {\n",
       "        vertical-align: top;\n",
       "    }\n",
       "\n",
       "    .dataframe thead th {\n",
       "        text-align: right;\n",
       "    }\n",
       "</style>\n",
       "<table border=\"1\" class=\"dataframe\">\n",
       "  <thead>\n",
       "    <tr style=\"text-align: right;\">\n",
       "      <th></th>\n",
       "      <th>name_of_state_or_ut</th>\n",
       "      <th>state_ut_code</th>\n",
       "      <th>constituency_code</th>\n",
       "      <th>constituency_name</th>\n",
       "      <th>winner_votes</th>\n",
       "      <th>nota_votes</th>\n",
       "      <th>nota_position</th>\n",
       "      <th>runner_votes</th>\n",
       "    </tr>\n",
       "  </thead>\n",
       "  <tbody>\n",
       "    <tr>\n",
       "      <th>0</th>\n",
       "      <td>Karnataka</td>\n",
       "      <td>S10</td>\n",
       "      <td>27</td>\n",
       "      <td>Chikkballapur</td>\n",
       "      <td>822619</td>\n",
       "      <td>6596</td>\n",
       "      <td>3</td>\n",
       "      <td>659159</td>\n",
       "    </tr>\n",
       "    <tr>\n",
       "      <th>1</th>\n",
       "      <td>Maharashtra</td>\n",
       "      <td>S13</td>\n",
       "      <td>29</td>\n",
       "      <td>MumbaiNorthCentral</td>\n",
       "      <td>445545</td>\n",
       "      <td>9749</td>\n",
       "      <td>3</td>\n",
       "      <td>429031</td>\n",
       "    </tr>\n",
       "    <tr>\n",
       "      <th>2</th>\n",
       "      <td>Karnataka</td>\n",
       "      <td>S10</td>\n",
       "      <td>25</td>\n",
       "      <td>Bangalorecentral</td>\n",
       "      <td>658915</td>\n",
       "      <td>12126</td>\n",
       "      <td>3</td>\n",
       "      <td>626208</td>\n",
       "    </tr>\n",
       "    <tr>\n",
       "      <th>3</th>\n",
       "      <td>NCT OF Delhi</td>\n",
       "      <td>U05</td>\n",
       "      <td>6</td>\n",
       "      <td>WestDelhi</td>\n",
       "      <td>842658</td>\n",
       "      <td>8699</td>\n",
       "      <td>3</td>\n",
       "      <td>643645</td>\n",
       "    </tr>\n",
       "    <tr>\n",
       "      <th>4</th>\n",
       "      <td>Maharashtra</td>\n",
       "      <td>S13</td>\n",
       "      <td>25</td>\n",
       "      <td>Thane</td>\n",
       "      <td>734231</td>\n",
       "      <td>17901</td>\n",
       "      <td>3</td>\n",
       "      <td>517220</td>\n",
       "    </tr>\n",
       "    <tr>\n",
       "      <th>...</th>\n",
       "      <td>...</td>\n",
       "      <td>...</td>\n",
       "      <td>...</td>\n",
       "      <td>...</td>\n",
       "      <td>...</td>\n",
       "      <td>...</td>\n",
       "      <td>...</td>\n",
       "      <td>...</td>\n",
       "    </tr>\n",
       "    <tr>\n",
       "      <th>97</th>\n",
       "      <td>Gujarat</td>\n",
       "      <td>S06</td>\n",
       "      <td>4</td>\n",
       "      <td>Mahesana</td>\n",
       "      <td>686406</td>\n",
       "      <td>11626</td>\n",
       "      <td>3</td>\n",
       "      <td>358360</td>\n",
       "    </tr>\n",
       "    <tr>\n",
       "      <th>98</th>\n",
       "      <td>Madhya Pradesh</td>\n",
       "      <td>S12</td>\n",
       "      <td>27</td>\n",
       "      <td>KHARGONE</td>\n",
       "      <td>819863</td>\n",
       "      <td>18257</td>\n",
       "      <td>3</td>\n",
       "      <td>684845</td>\n",
       "    </tr>\n",
       "    <tr>\n",
       "      <th>99</th>\n",
       "      <td>Bihar</td>\n",
       "      <td>S04</td>\n",
       "      <td>19</td>\n",
       "      <td>Maharajganj</td>\n",
       "      <td>529533</td>\n",
       "      <td>21687</td>\n",
       "      <td>3</td>\n",
       "      <td>426882</td>\n",
       "    </tr>\n",
       "    <tr>\n",
       "      <th>100</th>\n",
       "      <td>Assam</td>\n",
       "      <td>S03</td>\n",
       "      <td>14</td>\n",
       "      <td>Jorhat</td>\n",
       "      <td>751771</td>\n",
       "      <td>14555</td>\n",
       "      <td>3</td>\n",
       "      <td>607378</td>\n",
       "    </tr>\n",
       "    <tr>\n",
       "      <th>101</th>\n",
       "      <td>Gujarat</td>\n",
       "      <td>S06</td>\n",
       "      <td>23</td>\n",
       "      <td>Bardoli</td>\n",
       "      <td>763950</td>\n",
       "      <td>25542</td>\n",
       "      <td>3</td>\n",
       "      <td>533697</td>\n",
       "    </tr>\n",
       "  </tbody>\n",
       "</table>\n",
       "<p>102 rows × 8 columns</p>\n",
       "</div>"
      ],
      "text/plain": [
       "    name_of_state_or_ut state_ut_code  constituency_code   constituency_name  \\\n",
       "0             Karnataka           S10                 27       Chikkballapur   \n",
       "1           Maharashtra           S13                 29  MumbaiNorthCentral   \n",
       "2             Karnataka           S10                 25    Bangalorecentral   \n",
       "3          NCT OF Delhi           U05                  6           WestDelhi   \n",
       "4           Maharashtra           S13                 25               Thane   \n",
       "..                  ...           ...                ...                 ...   \n",
       "97              Gujarat           S06                  4            Mahesana   \n",
       "98       Madhya Pradesh           S12                 27            KHARGONE   \n",
       "99                Bihar           S04                 19         Maharajganj   \n",
       "100               Assam           S03                 14              Jorhat   \n",
       "101             Gujarat           S06                 23             Bardoli   \n",
       "\n",
       "     winner_votes  nota_votes  nota_position  runner_votes  \n",
       "0          822619        6596              3        659159  \n",
       "1          445545        9749              3        429031  \n",
       "2          658915       12126              3        626208  \n",
       "3          842658        8699              3        643645  \n",
       "4          734231       17901              3        517220  \n",
       "..            ...         ...            ...           ...  \n",
       "97         686406       11626              3        358360  \n",
       "98         819863       18257              3        684845  \n",
       "99         529533       21687              3        426882  \n",
       "100        751771       14555              3        607378  \n",
       "101        763950       25542              3        533697  \n",
       "\n",
       "[102 rows x 8 columns]"
      ]
     },
     "execution_count": 17,
     "metadata": {},
     "output_type": "execute_result"
    }
   ],
   "source": [
    "nota_in_top_3_df"
   ]
  },
  {
   "cell_type": "code",
   "execution_count": 18,
   "id": "f4c80b90-0add-4493-9f4c-59c9cf54ce26",
   "metadata": {},
   "outputs": [],
   "source": [
    "nota_in_top_3_df.to_csv('NOTA In Top 3.csv', index=False)"
   ]
  },
  {
   "cell_type": "code",
   "execution_count": 19,
   "id": "cb51ee06-f5da-46ad-9919-94bd159c7f4e",
   "metadata": {},
   "outputs": [
    {
     "data": {
      "text/html": [
       "<div>\n",
       "<style scoped>\n",
       "    .dataframe tbody tr th:only-of-type {\n",
       "        vertical-align: middle;\n",
       "    }\n",
       "\n",
       "    .dataframe tbody tr th {\n",
       "        vertical-align: top;\n",
       "    }\n",
       "\n",
       "    .dataframe thead th {\n",
       "        text-align: right;\n",
       "    }\n",
       "</style>\n",
       "<table border=\"1\" class=\"dataframe\">\n",
       "  <thead>\n",
       "    <tr style=\"text-align: right;\">\n",
       "      <th></th>\n",
       "      <th>name_of_state_or_ut</th>\n",
       "      <th>type</th>\n",
       "      <th>state_ut_code</th>\n",
       "      <th>constituency_code</th>\n",
       "      <th>constituency_name</th>\n",
       "      <th>candidate_name</th>\n",
       "      <th>candidate_party</th>\n",
       "      <th>total_votes</th>\n",
       "    </tr>\n",
       "  </thead>\n",
       "  <tbody>\n",
       "    <tr>\n",
       "      <th>1737</th>\n",
       "      <td>Gujarat</td>\n",
       "      <td>State</td>\n",
       "      <td>S06</td>\n",
       "      <td>24</td>\n",
       "      <td>Surat</td>\n",
       "      <td>MUKESHKUMAR CHANDRAKAANT DALAL ( Uncontested )</td>\n",
       "      <td>Bharatiya Janata Party</td>\n",
       "      <td>0</td>\n",
       "    </tr>\n",
       "  </tbody>\n",
       "</table>\n",
       "</div>"
      ],
      "text/plain": [
       "     name_of_state_or_ut   type state_ut_code  constituency_code  \\\n",
       "1737             Gujarat  State           S06                 24   \n",
       "\n",
       "     constituency_name                                  candidate_name  \\\n",
       "1737             Surat  MUKESHKUMAR CHANDRAKAANT DALAL ( Uncontested )   \n",
       "\n",
       "             candidate_party  total_votes  \n",
       "1737  Bharatiya Janata Party            0  "
      ]
     },
     "execution_count": 19,
     "metadata": {},
     "output_type": "execute_result"
    }
   ],
   "source": [
    "constituency_info"
   ]
  },
  {
   "cell_type": "code",
   "execution_count": 20,
   "id": "ca07a5aa-5635-4d87-b533-bb99fb59266a",
   "metadata": {},
   "outputs": [
    {
     "data": {
      "text/plain": [
       "0"
      ]
     },
     "execution_count": 20,
     "metadata": {},
     "output_type": "execute_result"
    }
   ],
   "source": [
    "list(constituency_info['candidate_party'].values).index('Bharatiya Janata Party')"
   ]
  },
  {
   "cell_type": "markdown",
   "id": "9a02e0a2-d7ef-4c56-b59b-97b858af5e9d",
   "metadata": {},
   "source": [
    "## Data Analysis"
   ]
  },
  {
   "cell_type": "code",
   "execution_count": 26,
   "id": "6fa10f9b-863b-4e24-bf2d-663880b2f73e",
   "metadata": {},
   "outputs": [],
   "source": [
    "import pandas as pd\n",
    "import numpy as np\n",
    "import matplotlib.pyplot as plt\n",
    "import altair as alt\n",
    "import plotly.express as px"
   ]
  },
  {
   "cell_type": "code",
   "execution_count": 21,
   "id": "790e95e4-3852-4bb7-b885-c63064b66c86",
   "metadata": {},
   "outputs": [],
   "source": [
    "constituency_wise_data_df = pd.read_csv('Constituency Wide Data.csv')\n",
    "# nota_in_top_3_df = pd.read_csv('NOTA In Top 3.csv')"
   ]
  },
  {
   "cell_type": "code",
   "execution_count": 22,
   "id": "11463ec5-f3a1-4c9a-95e2-fed1d79b95f1",
   "metadata": {},
   "outputs": [
    {
     "data": {
      "text/html": [
       "<div>\n",
       "<style scoped>\n",
       "    .dataframe tbody tr th:only-of-type {\n",
       "        vertical-align: middle;\n",
       "    }\n",
       "\n",
       "    .dataframe tbody tr th {\n",
       "        vertical-align: top;\n",
       "    }\n",
       "\n",
       "    .dataframe thead th {\n",
       "        text-align: right;\n",
       "    }\n",
       "</style>\n",
       "<table border=\"1\" class=\"dataframe\">\n",
       "  <thead>\n",
       "    <tr style=\"text-align: right;\">\n",
       "      <th></th>\n",
       "      <th>name_of_state_or_ut</th>\n",
       "      <th>type</th>\n",
       "      <th>state_ut_code</th>\n",
       "      <th>constituency_code</th>\n",
       "      <th>constituency_name</th>\n",
       "      <th>candidate_name</th>\n",
       "      <th>candidate_party</th>\n",
       "      <th>total_votes</th>\n",
       "    </tr>\n",
       "  </thead>\n",
       "  <tbody>\n",
       "    <tr>\n",
       "      <th>0</th>\n",
       "      <td>Andaman &amp; Nicobar Islands</td>\n",
       "      <td>Union Territory</td>\n",
       "      <td>U01</td>\n",
       "      <td>1</td>\n",
       "      <td>Andaman&amp;NicobarIslands</td>\n",
       "      <td>BISHNU PADA RAY</td>\n",
       "      <td>Bharatiya Janata Party</td>\n",
       "      <td>102436</td>\n",
       "    </tr>\n",
       "    <tr>\n",
       "      <th>1</th>\n",
       "      <td>Andaman &amp; Nicobar Islands</td>\n",
       "      <td>Union Territory</td>\n",
       "      <td>U01</td>\n",
       "      <td>1</td>\n",
       "      <td>Andaman&amp;NicobarIslands</td>\n",
       "      <td>KULDEEP RAI SHARMA</td>\n",
       "      <td>Indian National Congress</td>\n",
       "      <td>78040</td>\n",
       "    </tr>\n",
       "    <tr>\n",
       "      <th>2</th>\n",
       "      <td>Andaman &amp; Nicobar Islands</td>\n",
       "      <td>Union Territory</td>\n",
       "      <td>U01</td>\n",
       "      <td>1</td>\n",
       "      <td>Andaman&amp;NicobarIslands</td>\n",
       "      <td>MANOJ PAUL</td>\n",
       "      <td>Andaman Nicobar Democratic Congress</td>\n",
       "      <td>8254</td>\n",
       "    </tr>\n",
       "    <tr>\n",
       "      <th>3</th>\n",
       "      <td>Andaman &amp; Nicobar Islands</td>\n",
       "      <td>Union Territory</td>\n",
       "      <td>U01</td>\n",
       "      <td>1</td>\n",
       "      <td>Andaman&amp;NicobarIslands</td>\n",
       "      <td>D AYYAPPAN</td>\n",
       "      <td>Communist Party of India  (Marxist)</td>\n",
       "      <td>6017</td>\n",
       "    </tr>\n",
       "    <tr>\n",
       "      <th>4</th>\n",
       "      <td>Andaman &amp; Nicobar Islands</td>\n",
       "      <td>Union Territory</td>\n",
       "      <td>U01</td>\n",
       "      <td>1</td>\n",
       "      <td>Andaman&amp;NicobarIslands</td>\n",
       "      <td>V.K. ABDUL AZIZ</td>\n",
       "      <td>Independent</td>\n",
       "      <td>2203</td>\n",
       "    </tr>\n",
       "  </tbody>\n",
       "</table>\n",
       "</div>"
      ],
      "text/plain": [
       "         name_of_state_or_ut             type state_ut_code  \\\n",
       "0  Andaman & Nicobar Islands  Union Territory           U01   \n",
       "1  Andaman & Nicobar Islands  Union Territory           U01   \n",
       "2  Andaman & Nicobar Islands  Union Territory           U01   \n",
       "3  Andaman & Nicobar Islands  Union Territory           U01   \n",
       "4  Andaman & Nicobar Islands  Union Territory           U01   \n",
       "\n",
       "   constituency_code       constituency_name      candidate_name  \\\n",
       "0                  1  Andaman&NicobarIslands     BISHNU PADA RAY   \n",
       "1                  1  Andaman&NicobarIslands  KULDEEP RAI SHARMA   \n",
       "2                  1  Andaman&NicobarIslands          MANOJ PAUL   \n",
       "3                  1  Andaman&NicobarIslands          D AYYAPPAN   \n",
       "4                  1  Andaman&NicobarIslands     V.K. ABDUL AZIZ   \n",
       "\n",
       "                       candidate_party  total_votes  \n",
       "0               Bharatiya Janata Party       102436  \n",
       "1             Indian National Congress        78040  \n",
       "2  Andaman Nicobar Democratic Congress         8254  \n",
       "3  Communist Party of India  (Marxist)         6017  \n",
       "4                          Independent         2203  "
      ]
     },
     "execution_count": 22,
     "metadata": {},
     "output_type": "execute_result"
    }
   ],
   "source": [
    "constituency_wise_data_df.head()"
   ]
  },
  {
   "cell_type": "code",
   "execution_count": 23,
   "id": "67b31f2f-f42a-40fe-bde6-e4b56e53977f",
   "metadata": {},
   "outputs": [
    {
     "data": {
      "text/html": [
       "<div>\n",
       "<style scoped>\n",
       "    .dataframe tbody tr th:only-of-type {\n",
       "        vertical-align: middle;\n",
       "    }\n",
       "\n",
       "    .dataframe tbody tr th {\n",
       "        vertical-align: top;\n",
       "    }\n",
       "\n",
       "    .dataframe thead th {\n",
       "        text-align: right;\n",
       "    }\n",
       "</style>\n",
       "<table border=\"1\" class=\"dataframe\">\n",
       "  <thead>\n",
       "    <tr style=\"text-align: right;\">\n",
       "      <th></th>\n",
       "      <th>name_of_state_or_ut</th>\n",
       "      <th>state_ut_code</th>\n",
       "      <th>constituency_code</th>\n",
       "      <th>constituency_name</th>\n",
       "      <th>winner_votes</th>\n",
       "      <th>nota_votes</th>\n",
       "      <th>nota_position</th>\n",
       "      <th>runner_votes</th>\n",
       "    </tr>\n",
       "  </thead>\n",
       "  <tbody>\n",
       "    <tr>\n",
       "      <th>0</th>\n",
       "      <td>Karnataka</td>\n",
       "      <td>S10</td>\n",
       "      <td>27</td>\n",
       "      <td>Chikkballapur</td>\n",
       "      <td>822619</td>\n",
       "      <td>6596</td>\n",
       "      <td>3</td>\n",
       "      <td>659159</td>\n",
       "    </tr>\n",
       "    <tr>\n",
       "      <th>1</th>\n",
       "      <td>Maharashtra</td>\n",
       "      <td>S13</td>\n",
       "      <td>29</td>\n",
       "      <td>MumbaiNorthCentral</td>\n",
       "      <td>445545</td>\n",
       "      <td>9749</td>\n",
       "      <td>3</td>\n",
       "      <td>429031</td>\n",
       "    </tr>\n",
       "    <tr>\n",
       "      <th>2</th>\n",
       "      <td>Karnataka</td>\n",
       "      <td>S10</td>\n",
       "      <td>25</td>\n",
       "      <td>Bangalorecentral</td>\n",
       "      <td>658915</td>\n",
       "      <td>12126</td>\n",
       "      <td>3</td>\n",
       "      <td>626208</td>\n",
       "    </tr>\n",
       "    <tr>\n",
       "      <th>3</th>\n",
       "      <td>NCT OF Delhi</td>\n",
       "      <td>U05</td>\n",
       "      <td>6</td>\n",
       "      <td>WestDelhi</td>\n",
       "      <td>842658</td>\n",
       "      <td>8699</td>\n",
       "      <td>3</td>\n",
       "      <td>643645</td>\n",
       "    </tr>\n",
       "    <tr>\n",
       "      <th>4</th>\n",
       "      <td>Maharashtra</td>\n",
       "      <td>S13</td>\n",
       "      <td>25</td>\n",
       "      <td>Thane</td>\n",
       "      <td>734231</td>\n",
       "      <td>17901</td>\n",
       "      <td>3</td>\n",
       "      <td>517220</td>\n",
       "    </tr>\n",
       "  </tbody>\n",
       "</table>\n",
       "</div>"
      ],
      "text/plain": [
       "  name_of_state_or_ut state_ut_code  constituency_code   constituency_name  \\\n",
       "0           Karnataka           S10                 27       Chikkballapur   \n",
       "1         Maharashtra           S13                 29  MumbaiNorthCentral   \n",
       "2           Karnataka           S10                 25    Bangalorecentral   \n",
       "3        NCT OF Delhi           U05                  6           WestDelhi   \n",
       "4         Maharashtra           S13                 25               Thane   \n",
       "\n",
       "   winner_votes  nota_votes  nota_position  runner_votes  \n",
       "0        822619        6596              3        659159  \n",
       "1        445545        9749              3        429031  \n",
       "2        658915       12126              3        626208  \n",
       "3        842658        8699              3        643645  \n",
       "4        734231       17901              3        517220  "
      ]
     },
     "execution_count": 23,
     "metadata": {},
     "output_type": "execute_result"
    }
   ],
   "source": [
    "nota_in_top_3_df.head()"
   ]
  },
  {
   "cell_type": "markdown",
   "id": "5a041053-d947-4f3a-8c51-6de784fe5581",
   "metadata": {},
   "source": [
    "### State wise distribution"
   ]
  },
  {
   "cell_type": "code",
   "execution_count": 27,
   "id": "7f65fbfc-28bc-4884-97ec-ccd2379cf8bb",
   "metadata": {},
   "outputs": [],
   "source": [
    "chart = alt.Chart(nota_in_top_3_df)"
   ]
  },
  {
   "cell_type": "code",
   "execution_count": 28,
   "id": "3d2d8f0a-0415-48fd-afcc-a896ae95dcb3",
   "metadata": {},
   "outputs": [
    {
     "data": {
      "text/html": [
       "\n",
       "<style>\n",
       "  #altair-viz-cc5a825a40fc42d5b72a38ade8a4c847.vega-embed {\n",
       "    width: 100%;\n",
       "    display: flex;\n",
       "  }\n",
       "\n",
       "  #altair-viz-cc5a825a40fc42d5b72a38ade8a4c847.vega-embed details,\n",
       "  #altair-viz-cc5a825a40fc42d5b72a38ade8a4c847.vega-embed details summary {\n",
       "    position: relative;\n",
       "  }\n",
       "</style>\n",
       "<div id=\"altair-viz-cc5a825a40fc42d5b72a38ade8a4c847\"></div>\n",
       "<script type=\"text/javascript\">\n",
       "  var VEGA_DEBUG = (typeof VEGA_DEBUG == \"undefined\") ? {} : VEGA_DEBUG;\n",
       "  (function(spec, embedOpt){\n",
       "    let outputDiv = document.currentScript.previousElementSibling;\n",
       "    if (outputDiv.id !== \"altair-viz-cc5a825a40fc42d5b72a38ade8a4c847\") {\n",
       "      outputDiv = document.getElementById(\"altair-viz-cc5a825a40fc42d5b72a38ade8a4c847\");\n",
       "    }\n",
       "    const paths = {\n",
       "      \"vega\": \"https://cdn.jsdelivr.net/npm/vega@5?noext\",\n",
       "      \"vega-lib\": \"https://cdn.jsdelivr.net/npm/vega-lib?noext\",\n",
       "      \"vega-lite\": \"https://cdn.jsdelivr.net/npm/vega-lite@5.17.0?noext\",\n",
       "      \"vega-embed\": \"https://cdn.jsdelivr.net/npm/vega-embed@6?noext\",\n",
       "    };\n",
       "\n",
       "    function maybeLoadScript(lib, version) {\n",
       "      var key = `${lib.replace(\"-\", \"\")}_version`;\n",
       "      return (VEGA_DEBUG[key] == version) ?\n",
       "        Promise.resolve(paths[lib]) :\n",
       "        new Promise(function(resolve, reject) {\n",
       "          var s = document.createElement('script');\n",
       "          document.getElementsByTagName(\"head\")[0].appendChild(s);\n",
       "          s.async = true;\n",
       "          s.onload = () => {\n",
       "            VEGA_DEBUG[key] = version;\n",
       "            return resolve(paths[lib]);\n",
       "          };\n",
       "          s.onerror = () => reject(`Error loading script: ${paths[lib]}`);\n",
       "          s.src = paths[lib];\n",
       "        });\n",
       "    }\n",
       "\n",
       "    function showError(err) {\n",
       "      outputDiv.innerHTML = `<div class=\"error\" style=\"color:red;\">${err}</div>`;\n",
       "      throw err;\n",
       "    }\n",
       "\n",
       "    function displayChart(vegaEmbed) {\n",
       "      vegaEmbed(outputDiv, spec, embedOpt)\n",
       "        .catch(err => showError(`Javascript Error: ${err.message}<br>This usually means there's a typo in your chart specification. See the javascript console for the full traceback.`));\n",
       "    }\n",
       "\n",
       "    if(typeof define === \"function\" && define.amd) {\n",
       "      requirejs.config({paths});\n",
       "      require([\"vega-embed\"], displayChart, err => showError(`Error loading script: ${err.message}`));\n",
       "    } else {\n",
       "      maybeLoadScript(\"vega\", \"5\")\n",
       "        .then(() => maybeLoadScript(\"vega-lite\", \"5.17.0\"))\n",
       "        .then(() => maybeLoadScript(\"vega-embed\", \"6\"))\n",
       "        .catch(showError)\n",
       "        .then(() => displayChart(vegaEmbed));\n",
       "    }\n",
       "  })({\"config\": {\"view\": {\"continuousWidth\": 300, \"continuousHeight\": 300}}, \"data\": {\"name\": \"data-0f78a51ae866a7bf0c3733b0be1a1df6\"}, \"mark\": {\"type\": \"bar\"}, \"encoding\": {\"x\": {\"field\": \"name_of_state_or_ut\", \"type\": \"nominal\"}, \"y\": {\"field\": \"count\", \"type\": \"quantitative\"}}, \"transform\": [{\"aggregate\": [{\"op\": \"count\", \"as\": \"count\"}], \"groupby\": [\"name_of_state_or_ut\"]}], \"$schema\": \"https://vega.github.io/schema/vega-lite/v5.17.0.json\", \"datasets\": {\"data-0f78a51ae866a7bf0c3733b0be1a1df6\": [{\"name_of_state_or_ut\": \"Karnataka\", \"state_ut_code\": \"S10\", \"constituency_code\": 27, \"constituency_name\": \"Chikkballapur\", \"winner_votes\": 822619, \"nota_votes\": 6596, \"nota_position\": 3, \"runner_votes\": 659159}, {\"name_of_state_or_ut\": \"Maharashtra\", \"state_ut_code\": \"S13\", \"constituency_code\": 29, \"constituency_name\": \"MumbaiNorthCentral\", \"winner_votes\": 445545, \"nota_votes\": 9749, \"nota_position\": 3, \"runner_votes\": 429031}, {\"name_of_state_or_ut\": \"Karnataka\", \"state_ut_code\": \"S10\", \"constituency_code\": 25, \"constituency_name\": \"Bangalorecentral\", \"winner_votes\": 658915, \"nota_votes\": 12126, \"nota_position\": 3, \"runner_votes\": 626208}, {\"name_of_state_or_ut\": \"NCT OF Delhi\", \"state_ut_code\": \"U05\", \"constituency_code\": 6, \"constituency_name\": \"WestDelhi\", \"winner_votes\": 842658, \"nota_votes\": 8699, \"nota_position\": 3, \"runner_votes\": 643645}, {\"name_of_state_or_ut\": \"Maharashtra\", \"state_ut_code\": \"S13\", \"constituency_code\": 25, \"constituency_name\": \"Thane\", \"winner_votes\": 734231, \"nota_votes\": 17901, \"nota_position\": 3, \"runner_votes\": 517220}, {\"name_of_state_or_ut\": \"Maharashtra\", \"state_ut_code\": \"S13\", \"constituency_code\": 47, \"constituency_name\": \"Kolhapur\", \"winner_votes\": 754522, \"nota_votes\": 5983, \"nota_position\": 3, \"runner_votes\": 599558}, {\"name_of_state_or_ut\": \"Karnataka\", \"state_ut_code\": \"S10\", \"constituency_code\": 26, \"constituency_name\": \"BangaloreSouth\", \"winner_votes\": 750830, \"nota_votes\": 7857, \"nota_position\": 3, \"runner_votes\": 473747}, {\"name_of_state_or_ut\": \"Maharashtra\", \"state_ut_code\": \"S13\", \"constituency_code\": 27, \"constituency_name\": \"MumbaiNorthWest\", \"winner_votes\": 452644, \"nota_votes\": 15161, \"nota_position\": 3, \"runner_votes\": 452596}, {\"name_of_state_or_ut\": \"Karnataka\", \"state_ut_code\": \"S10\", \"constituency_code\": 24, \"constituency_name\": \"BangaloreNorth\", \"winner_votes\": 986049, \"nota_votes\": 13554, \"nota_position\": 3, \"runner_votes\": 726573}, {\"name_of_state_or_ut\": \"Maharashtra\", \"state_ut_code\": \"S13\", \"constituency_code\": 26, \"constituency_name\": \"MumbaiNorth\", \"winner_votes\": 680146, \"nota_votes\": 13346, \"nota_position\": 3, \"runner_votes\": 322538}, {\"name_of_state_or_ut\": \"Karnataka\", \"state_ut_code\": \"S10\", \"constituency_code\": 21, \"constituency_name\": \"Mysore\", \"winner_votes\": 795503, \"nota_votes\": 4490, \"nota_position\": 3, \"runner_votes\": 656241}, {\"name_of_state_or_ut\": \"Gujarat\", \"state_ut_code\": \"S06\", \"constituency_code\": 7, \"constituency_name\": \"AhmedabadEast\", \"winner_votes\": 770459, \"nota_votes\": 10503, \"nota_position\": 3, \"runner_votes\": 308704}, {\"name_of_state_or_ut\": \"Karnataka\", \"state_ut_code\": \"S10\", \"constituency_code\": 11, \"constituency_name\": \"Dharwad\", \"winner_votes\": 716231, \"nota_votes\": 6147, \"nota_position\": 3, \"runner_votes\": 618907}, {\"name_of_state_or_ut\": \"Karnataka\", \"state_ut_code\": \"S10\", \"constituency_code\": 23, \"constituency_name\": \"BangaloreRural\", \"winner_votes\": 1079002, \"nota_votes\": 10649, \"nota_position\": 3, \"runner_votes\": 809355}, {\"name_of_state_or_ut\": \"Andhra Pradesh\", \"state_ut_code\": \"S01\", \"constituency_code\": 3, \"constituency_name\": \"Vizianagaram\", \"winner_votes\": 743113, \"nota_votes\": 23250, \"nota_position\": 3, \"runner_votes\": 493762}, {\"name_of_state_or_ut\": \"Rajasthan\", \"state_ut_code\": \"S20\", \"constituency_code\": 16, \"constituency_name\": \"JODHPUR\", \"winner_votes\": 730056, \"nota_votes\": 10591, \"nota_position\": 3, \"runner_votes\": 614379}, {\"name_of_state_or_ut\": \"Andhra Pradesh\", \"state_ut_code\": \"S01\", \"constituency_code\": 5, \"constituency_name\": \"Anakapalle\", \"winner_votes\": 762069, \"nota_votes\": 26235, \"nota_position\": 3, \"runner_votes\": 465539}, {\"name_of_state_or_ut\": \"Jharkhand\", \"state_ut_code\": \"S27\", \"constituency_code\": 5, \"constituency_name\": \"Kodarma\", \"winner_votes\": 791657, \"nota_votes\": 42152, \"nota_position\": 3, \"runner_votes\": 414643}, {\"name_of_state_or_ut\": \"Rajasthan\", \"state_ut_code\": \"S20\", \"constituency_code\": 24, \"constituency_name\": \"KOTA\", \"winner_votes\": 750496, \"nota_votes\": 10261, \"nota_position\": 3, \"runner_votes\": 708522}, {\"name_of_state_or_ut\": \"Rajasthan\", \"state_ut_code\": \"S20\", \"constituency_code\": 6, \"constituency_name\": \"JAIPURRURAL\", \"winner_votes\": 617877, \"nota_votes\": 7519, \"nota_position\": 3, \"runner_votes\": 616262}, {\"name_of_state_or_ut\": \"Maharashtra\", \"state_ut_code\": \"S13\", \"constituency_code\": 31, \"constituency_name\": \"MumbaiSouth\", \"winner_votes\": 395655, \"nota_votes\": 13411, \"nota_position\": 3, \"runner_votes\": 342982}, {\"name_of_state_or_ut\": \"Rajasthan\", \"state_ut_code\": \"S20\", \"constituency_code\": 13, \"constituency_name\": \"AJMER\", \"winner_votes\": 747462, \"nota_votes\": 11402, \"nota_position\": 3, \"runner_votes\": 417471}, {\"name_of_state_or_ut\": \"Karnataka\", \"state_ut_code\": \"S10\", \"constituency_code\": 5, \"constituency_name\": \"Gulbarga\", \"winner_votes\": 652321, \"nota_votes\": 8429, \"nota_position\": 3, \"runner_votes\": 625116}, {\"name_of_state_or_ut\": \"Karnataka\", \"state_ut_code\": \"S10\", \"constituency_code\": 10, \"constituency_name\": \"Haveri\", \"winner_votes\": 705538, \"nota_votes\": 10865, \"nota_position\": 3, \"runner_votes\": 662025}, {\"name_of_state_or_ut\": \"Gujarat\", \"state_ut_code\": \"S06\", \"constituency_code\": 9, \"constituency_name\": \"Surendranagar\", \"winner_votes\": 669749, \"nota_votes\": 13299, \"nota_position\": 3, \"runner_votes\": 408132}, {\"name_of_state_or_ut\": \"Bihar\", \"state_ut_code\": \"S04\", \"constituency_code\": 38, \"constituency_name\": \"Gaya\", \"winner_votes\": 494960, \"nota_votes\": 17288, \"nota_position\": 3, \"runner_votes\": 393148}, {\"name_of_state_or_ut\": \"Gujarat\", \"state_ut_code\": \"S06\", \"constituency_code\": 5, \"constituency_name\": \"Sabarkantha\", \"winner_votes\": 677318, \"nota_votes\": 21076, \"nota_position\": 3, \"runner_votes\": 521636}, {\"name_of_state_or_ut\": \"Gujarat\", \"state_ut_code\": \"S06\", \"constituency_code\": 6, \"constituency_name\": \"Gandhinagar\", \"winner_votes\": 1010972, \"nota_votes\": 22005, \"nota_position\": 3, \"runner_votes\": 266256}, {\"name_of_state_or_ut\": \"Bihar\", \"state_ut_code\": \"S04\", \"constituency_code\": 21, \"constituency_name\": \"Hajipur\", \"winner_votes\": 615718, \"nota_votes\": 36927, \"nota_position\": 3, \"runner_votes\": 445613}, {\"name_of_state_or_ut\": \"Gujarat\", \"state_ut_code\": \"S06\", \"constituency_code\": 25, \"constituency_name\": \"Navsari\", \"winner_votes\": 1031065, \"nota_votes\": 20462, \"nota_position\": 3, \"runner_votes\": 257514}, {\"name_of_state_or_ut\": \"Madhya Pradesh\", \"state_ut_code\": \"S12\", \"constituency_code\": 26, \"constituency_name\": \"INDORE\", \"winner_votes\": 1226751, \"nota_votes\": 218674, \"nota_position\": 2, \"runner_votes\": 51659}, {\"name_of_state_or_ut\": \"Gujarat\", \"state_ut_code\": \"S06\", \"constituency_code\": 20, \"constituency_name\": \"Vadodara\", \"winner_votes\": 873189, \"nota_votes\": 18388, \"nota_position\": 3, \"runner_votes\": 291063}, {\"name_of_state_or_ut\": \"Bihar\", \"state_ut_code\": \"S04\", \"constituency_code\": 5, \"constituency_name\": \"Sitamarhi\", \"winner_votes\": 515719, \"nota_votes\": 32133, \"nota_position\": 3, \"runner_votes\": 464363}, {\"name_of_state_or_ut\": \"Gujarat\", \"state_ut_code\": \"S06\", \"constituency_code\": 22, \"constituency_name\": \"Bharuch\", \"winner_votes\": 608157, \"nota_votes\": 23283, \"nota_position\": 3, \"runner_votes\": 522461}, {\"name_of_state_or_ut\": \"Gujarat\", \"state_ut_code\": \"S06\", \"constituency_code\": 15, \"constituency_name\": \"Bhavnagar\", \"winner_votes\": 716883, \"nota_votes\": 18765, \"nota_position\": 3, \"runner_votes\": 261594}, {\"name_of_state_or_ut\": \"Uttar Pradesh\", \"state_ut_code\": \"S24\", \"constituency_code\": 25, \"constituency_name\": \"Bareilly\", \"winner_votes\": 567127, \"nota_votes\": 6260, \"nota_position\": 3, \"runner_votes\": 532323}, {\"name_of_state_or_ut\": \"Rajasthan\", \"state_ut_code\": \"S20\", \"constituency_code\": 7, \"constituency_name\": \"JAIPUR\", \"winner_votes\": 886850, \"nota_votes\": 10428, \"nota_position\": 3, \"runner_votes\": 555083}, {\"name_of_state_or_ut\": \"Bihar\", \"state_ut_code\": \"S04\", \"constituency_code\": 22, \"constituency_name\": \"Ujiarpur\", \"winner_votes\": 515965, \"nota_votes\": 23269, \"nota_position\": 3, \"runner_votes\": 455863}, {\"name_of_state_or_ut\": \"Andhra Pradesh\", \"state_ut_code\": \"S01\", \"constituency_code\": 10, \"constituency_name\": \"Eluru\", \"winner_votes\": 746351, \"nota_votes\": 22515, \"nota_position\": 3, \"runner_votes\": 564494}, {\"name_of_state_or_ut\": \"Uttarakhand\", \"state_ut_code\": \"S28\", \"constituency_code\": 2, \"constituency_name\": \"Garhwal\", \"winner_votes\": 432159, \"nota_votes\": 11375, \"nota_position\": 3, \"runner_votes\": 268656}, {\"name_of_state_or_ut\": \"Andhra Pradesh\", \"state_ut_code\": \"S01\", \"constituency_code\": 2, \"constituency_name\": \"Srikakulam\", \"winner_votes\": 754328, \"nota_votes\": 24605, \"nota_position\": 3, \"runner_votes\": 426427}, {\"name_of_state_or_ut\": \"Maharashtra\", \"state_ut_code\": \"S13\", \"constituency_code\": 32, \"constituency_name\": \"Raigad\", \"winner_votes\": 508352, \"nota_votes\": 27270, \"nota_position\": 3, \"runner_votes\": 425568}, {\"name_of_state_or_ut\": \"Karnataka\", \"state_ut_code\": \"S10\", \"constituency_code\": 12, \"constituency_name\": \"UttaraKannada\", \"winner_votes\": 782495, \"nota_votes\": 10176, \"nota_position\": 3, \"runner_votes\": 445067}, {\"name_of_state_or_ut\": \"Gujarat\", \"state_ut_code\": \"S06\", \"constituency_code\": 11, \"constituency_name\": \"Porbandar\", \"winner_votes\": 633118, \"nota_votes\": 13563, \"nota_position\": 3, \"runner_votes\": 249758}, {\"name_of_state_or_ut\": \"Bihar\", \"state_ut_code\": \"S04\", \"constituency_code\": 6, \"constituency_name\": \"Madhubani\", \"winner_votes\": 553428, \"nota_votes\": 20719, \"nota_position\": 3, \"runner_votes\": 401483}, {\"name_of_state_or_ut\": \"Bihar\", \"state_ut_code\": \"S04\", \"constituency_code\": 23, \"constituency_name\": \"Samastipur\", \"winner_votes\": 579786, \"nota_votes\": 32668, \"nota_position\": 3, \"runner_votes\": 392535}, {\"name_of_state_or_ut\": \"Bihar\", \"state_ut_code\": \"S04\", \"constituency_code\": 25, \"constituency_name\": \"Khagaria\", \"winner_votes\": 538657, \"nota_votes\": 31111, \"nota_position\": 3, \"runner_votes\": 377526}, {\"name_of_state_or_ut\": \"Bihar\", \"state_ut_code\": \"S04\", \"constituency_code\": 26, \"constituency_name\": \"Bhagalpur\", \"winner_votes\": 536031, \"nota_votes\": 31803, \"nota_position\": 3, \"runner_votes\": 431163}, {\"name_of_state_or_ut\": \"Bihar\", \"state_ut_code\": \"S04\", \"constituency_code\": 28, \"constituency_name\": \"Munger\", \"winner_votes\": 550146, \"nota_votes\": 21951, \"nota_position\": 3, \"runner_votes\": 469276}, {\"name_of_state_or_ut\": \"Bihar\", \"state_ut_code\": \"S04\", \"constituency_code\": 3, \"constituency_name\": \"PurviChamparan\", \"winner_votes\": 542193, \"nota_votes\": 19788, \"nota_position\": 3, \"runner_votes\": 453906}, {\"name_of_state_or_ut\": \"Gujarat\", \"state_ut_code\": \"S06\", \"constituency_code\": 17, \"constituency_name\": \"Kheda\", \"winner_votes\": 744435, \"nota_votes\": 18824, \"nota_position\": 3, \"runner_votes\": 386677}, {\"name_of_state_or_ut\": \"Rajasthan\", \"state_ut_code\": \"S20\", \"constituency_code\": 18, \"constituency_name\": \"JALORE\", \"winner_votes\": 796783, \"nota_votes\": 18459, \"nota_position\": 3, \"runner_votes\": 595240}, {\"name_of_state_or_ut\": \"Himachal Pradesh\", \"state_ut_code\": \"S08\", \"constituency_code\": 3, \"constituency_name\": \"HAMIRPUR\", \"winner_votes\": 607068, \"nota_votes\": 5178, \"nota_position\": 3, \"runner_votes\": 424711}, {\"name_of_state_or_ut\": \"Gujarat\", \"state_ut_code\": \"S06\", \"constituency_code\": 2, \"constituency_name\": \"Banaskantha\", \"winner_votes\": 671883, \"nota_votes\": 22167, \"nota_position\": 3, \"runner_votes\": 641477}, {\"name_of_state_or_ut\": \"Bihar\", \"state_ut_code\": \"S04\", \"constituency_code\": 4, \"constituency_name\": \"Sheohar\", \"winner_votes\": 476612, \"nota_votes\": 30168, \"nota_position\": 3, \"runner_votes\": 447469}, {\"name_of_state_or_ut\": \"Chhattisgarh\", \"state_ut_code\": \"S26\", \"constituency_code\": 10, \"constituency_name\": \"BASTAR\", \"winner_votes\": 458398, \"nota_votes\": 36758, \"nota_position\": 3, \"runner_votes\": 403153}, {\"name_of_state_or_ut\": \"Gujarat\", \"state_ut_code\": \"S06\", \"constituency_code\": 13, \"constituency_name\": \"Junagadh\", \"winner_votes\": 584049, \"nota_votes\": 14013, \"nota_position\": 3, \"runner_votes\": 448555}, {\"name_of_state_or_ut\": \"Maharashtra\", \"state_ut_code\": \"S13\", \"constituency_code\": 1, \"constituency_name\": \"Nandurbar\", \"winner_votes\": 745998, \"nota_votes\": 14123, \"nota_position\": 3, \"runner_votes\": 586878}, {\"name_of_state_or_ut\": \"Madhya Pradesh\", \"state_ut_code\": \"S12\", \"constituency_code\": 28, \"constituency_name\": \"KHANDWA\", \"winner_votes\": 862679, \"nota_votes\": 12839, \"nota_position\": 3, \"runner_votes\": 592708}, {\"name_of_state_or_ut\": \"Bihar\", \"state_ut_code\": \"S04\", \"constituency_code\": 17, \"constituency_name\": \"Gopalganj\", \"winner_votes\": 511866, \"nota_votes\": 42863, \"nota_position\": 3, \"runner_votes\": 384686}, {\"name_of_state_or_ut\": \"Gujarat\", \"state_ut_code\": \"S06\", \"constituency_code\": 1, \"constituency_name\": \"Kachchh\", \"winner_votes\": 659574, \"nota_votes\": 18742, \"nota_position\": 3, \"runner_votes\": 390792}, {\"name_of_state_or_ut\": \"Assam\", \"state_ut_code\": \"S03\", \"constituency_code\": 10, \"constituency_name\": \"Kaziranga\", \"winner_votes\": 897043, \"nota_votes\": 24431, \"nota_position\": 3, \"runner_votes\": 648096}, {\"name_of_state_or_ut\": \"Bihar\", \"state_ut_code\": \"S04\", \"constituency_code\": 24, \"constituency_name\": \"Begusarai\", \"winner_votes\": 649331, \"nota_votes\": 22382, \"nota_position\": 3, \"runner_votes\": 567851}, {\"name_of_state_or_ut\": \"Bihar\", \"state_ut_code\": \"S04\", \"constituency_code\": 27, \"constituency_name\": \"Banka\", \"winner_votes\": 506678, \"nota_votes\": 34889, \"nota_position\": 3, \"runner_votes\": 402834}, {\"name_of_state_or_ut\": \"Bihar\", \"state_ut_code\": \"S04\", \"constituency_code\": 1, \"constituency_name\": \"ValmikiNagar\", \"winner_votes\": 523422, \"nota_votes\": 30709, \"nota_position\": 3, \"runner_votes\": 424747}, {\"name_of_state_or_ut\": \"Karnataka\", \"state_ut_code\": \"S10\", \"constituency_code\": 9, \"constituency_name\": \"Bellary\", \"winner_votes\": 730845, \"nota_votes\": 7889, \"nota_position\": 3, \"runner_votes\": 631853}, {\"name_of_state_or_ut\": \"Karnataka\", \"state_ut_code\": \"S10\", \"constituency_code\": 15, \"constituency_name\": \"UdupiChikmagalur\", \"winner_votes\": 732234, \"nota_votes\": 11269, \"nota_position\": 3, \"runner_votes\": 473059}, {\"name_of_state_or_ut\": \"Rajasthan\", \"state_ut_code\": \"S20\", \"constituency_code\": 23, \"constituency_name\": \"BHILWARA\", \"winner_votes\": 807640, \"nota_votes\": 13376, \"nota_position\": 3, \"runner_votes\": 453034}, {\"name_of_state_or_ut\": \"Rajasthan\", \"state_ut_code\": \"S20\", \"constituency_code\": 22, \"constituency_name\": \"RAJSAMAND\", \"winner_votes\": 781203, \"nota_votes\": 12411, \"nota_position\": 3, \"runner_votes\": 388980}, {\"name_of_state_or_ut\": \"Gujarat\", \"state_ut_code\": \"S06\", \"constituency_code\": 3, \"constituency_name\": \"Patan\", \"winner_votes\": 591947, \"nota_votes\": 16722, \"nota_position\": 3, \"runner_votes\": 560071}, {\"name_of_state_or_ut\": \"Chhattisgarh\", \"state_ut_code\": \"S26\", \"constituency_code\": 1, \"constituency_name\": \"SURGUJA\", \"winner_votes\": 713200, \"nota_votes\": 28121, \"nota_position\": 3, \"runner_votes\": 648378}, {\"name_of_state_or_ut\": \"Himachal Pradesh\", \"state_ut_code\": \"S08\", \"constituency_code\": 2, \"constituency_name\": \"MANDI\", \"winner_votes\": 537022, \"nota_votes\": 5645, \"nota_position\": 3, \"runner_votes\": 462267}, {\"name_of_state_or_ut\": \"Chhattisgarh\", \"state_ut_code\": \"S26\", \"constituency_code\": 11, \"constituency_name\": \"KANKER\", \"winner_votes\": 597624, \"nota_votes\": 18669, \"nota_position\": 3, \"runner_votes\": 595740}, {\"name_of_state_or_ut\": \"Gujarat\", \"state_ut_code\": \"S06\", \"constituency_code\": 19, \"constituency_name\": \"Dahod\", \"winner_votes\": 688715, \"nota_votes\": 34938, \"nota_position\": 3, \"runner_votes\": 355038}, {\"name_of_state_or_ut\": \"Rajasthan\", \"state_ut_code\": \"S20\", \"constituency_code\": 2, \"constituency_name\": \"BIKANER\", \"winner_votes\": 566737, \"nota_votes\": 12558, \"nota_position\": 3, \"runner_votes\": 511026}, {\"name_of_state_or_ut\": \"Karnataka\", \"state_ut_code\": \"S10\", \"constituency_code\": 17, \"constituency_name\": \"DakshinaKannada\", \"winner_votes\": 764132, \"nota_votes\": 23576, \"nota_position\": 3, \"runner_votes\": 614924}, {\"name_of_state_or_ut\": \"Bihar\", \"state_ut_code\": \"S04\", \"constituency_code\": 37, \"constituency_name\": \"Aurangabad\", \"winner_votes\": 465567, \"nota_votes\": 22627, \"nota_position\": 3, \"runner_votes\": 386456}, {\"name_of_state_or_ut\": \"Bihar\", \"state_ut_code\": \"S04\", \"constituency_code\": 11, \"constituency_name\": \"Katihar\", \"winner_votes\": 567092, \"nota_votes\": 22939, \"nota_position\": 3, \"runner_votes\": 517229}, {\"name_of_state_or_ut\": \"Tripura\", \"state_ut_code\": \"S23\", \"constituency_code\": 2, \"constituency_name\": \"TripuraEast\", \"winner_votes\": 777447, \"nota_votes\": 18303, \"nota_position\": 3, \"runner_votes\": 290628}, {\"name_of_state_or_ut\": \"Gujarat\", \"state_ut_code\": \"S06\", \"constituency_code\": 10, \"constituency_name\": \"Rajkot\", \"winner_votes\": 857984, \"nota_votes\": 15922, \"nota_position\": 3, \"runner_votes\": 373724}, {\"name_of_state_or_ut\": \"Tripura\", \"state_ut_code\": \"S23\", \"constituency_code\": 1, \"constituency_name\": \"TripuraWest\", \"winner_votes\": 881341, \"nota_votes\": 14612, \"nota_position\": 3, \"runner_votes\": 269763}, {\"name_of_state_or_ut\": \"Gujarat\", \"state_ut_code\": \"S06\", \"constituency_code\": 14, \"constituency_name\": \"Amreli\", \"winner_votes\": 580872, \"nota_votes\": 11349, \"nota_position\": 3, \"runner_votes\": 259804}, {\"name_of_state_or_ut\": \"Gujarat\", \"state_ut_code\": \"S06\", \"constituency_code\": 18, \"constituency_name\": \"Panchmahal\", \"winner_votes\": 794579, \"nota_votes\": 20103, \"nota_position\": 3, \"runner_votes\": 285237}, {\"name_of_state_or_ut\": \"Karnataka\", \"state_ut_code\": \"S10\", \"constituency_code\": 6, \"constituency_name\": \"Raichur\", \"winner_votes\": 670966, \"nota_votes\": 9850, \"nota_position\": 3, \"runner_votes\": 591185}, {\"name_of_state_or_ut\": \"Assam\", \"state_ut_code\": \"S03\", \"constituency_code\": 5, \"constituency_name\": \"Guwahati\", \"winner_votes\": 894887, \"nota_votes\": 20249, \"nota_position\": 3, \"runner_votes\": 643797}, {\"name_of_state_or_ut\": \"Madhya Pradesh\", \"state_ut_code\": \"S12\", \"constituency_code\": 23, \"constituency_name\": \"MANDSOUR\", \"winner_votes\": 945761, \"nota_votes\": 11662, \"nota_position\": 3, \"runner_votes\": 445106}, {\"name_of_state_or_ut\": \"Bihar\", \"state_ut_code\": \"S04\", \"constituency_code\": 14, \"constituency_name\": \"Darbhanga\", \"winner_votes\": 566630, \"nota_votes\": 23904, \"nota_position\": 3, \"runner_votes\": 388474}, {\"name_of_state_or_ut\": \"Bihar\", \"state_ut_code\": \"S04\", \"constituency_code\": 13, \"constituency_name\": \"Madhepura\", \"winner_votes\": 640649, \"nota_votes\": 32625, \"nota_position\": 3, \"runner_votes\": 466115}, {\"name_of_state_or_ut\": \"Bihar\", \"state_ut_code\": \"S04\", \"constituency_code\": 40, \"constituency_name\": \"Jamui\", \"winner_votes\": 509046, \"nota_votes\": 26182, \"nota_position\": 3, \"runner_votes\": 396564}, {\"name_of_state_or_ut\": \"Jharkhand\", \"state_ut_code\": \"S27\", \"constituency_code\": 11, \"constituency_name\": \"Khunti\", \"winner_votes\": 511647, \"nota_votes\": 21919, \"nota_position\": 3, \"runner_votes\": 361972}, {\"name_of_state_or_ut\": \"Uttarakhand\", \"state_ut_code\": \"S28\", \"constituency_code\": 3, \"constituency_name\": \"Almora\", \"winner_votes\": 429167, \"nota_votes\": 17019, \"nota_position\": 3, \"runner_votes\": 195070}, {\"name_of_state_or_ut\": \"Madhya Pradesh\", \"state_ut_code\": \"S12\", \"constituency_code\": 25, \"constituency_name\": \"DHAR\", \"winner_votes\": 794449, \"nota_votes\": 15651, \"nota_position\": 3, \"runner_votes\": 575784}, {\"name_of_state_or_ut\": \"Rajasthan\", \"state_ut_code\": \"S20\", \"constituency_code\": 25, \"constituency_name\": \"JHALAWAR-BARAN\", \"winner_votes\": 865376, \"nota_votes\": 16027, \"nota_position\": 3, \"runner_votes\": 494387}, {\"name_of_state_or_ut\": \"Gujarat\", \"state_ut_code\": \"S06\", \"constituency_code\": 26, \"constituency_name\": \"Valsad\", \"winner_votes\": 764226, \"nota_votes\": 18373, \"nota_position\": 3, \"runner_votes\": 553522}, {\"name_of_state_or_ut\": \"Gujarat\", \"state_ut_code\": \"S06\", \"constituency_code\": 16, \"constituency_name\": \"Anand\", \"winner_votes\": 612484, \"nota_votes\": 15930, \"nota_position\": 3, \"runner_votes\": 522545}, {\"name_of_state_or_ut\": \"Gujarat\", \"state_ut_code\": \"S06\", \"constituency_code\": 8, \"constituency_name\": \"AhmedabadWest\", \"winner_votes\": 611704, \"nota_votes\": 14007, \"nota_position\": 3, \"runner_votes\": 325267}, {\"name_of_state_or_ut\": \"Gujarat\", \"state_ut_code\": \"S06\", \"constituency_code\": 21, \"constituency_name\": \"ChhotaUdaipur\", \"winner_votes\": 796589, \"nota_votes\": 29655, \"nota_position\": 3, \"runner_votes\": 397812}, {\"name_of_state_or_ut\": \"Gujarat\", \"state_ut_code\": \"S06\", \"constituency_code\": 4, \"constituency_name\": \"Mahesana\", \"winner_votes\": 686406, \"nota_votes\": 11626, \"nota_position\": 3, \"runner_votes\": 358360}, {\"name_of_state_or_ut\": \"Madhya Pradesh\", \"state_ut_code\": \"S12\", \"constituency_code\": 27, \"constituency_name\": \"KHARGONE\", \"winner_votes\": 819863, \"nota_votes\": 18257, \"nota_position\": 3, \"runner_votes\": 684845}, {\"name_of_state_or_ut\": \"Bihar\", \"state_ut_code\": \"S04\", \"constituency_code\": 19, \"constituency_name\": \"Maharajganj\", \"winner_votes\": 529533, \"nota_votes\": 21687, \"nota_position\": 3, \"runner_votes\": 426882}, {\"name_of_state_or_ut\": \"Assam\", \"state_ut_code\": \"S03\", \"constituency_code\": 14, \"constituency_name\": \"Jorhat\", \"winner_votes\": 751771, \"nota_votes\": 14555, \"nota_position\": 3, \"runner_votes\": 607378}, {\"name_of_state_or_ut\": \"Gujarat\", \"state_ut_code\": \"S06\", \"constituency_code\": 23, \"constituency_name\": \"Bardoli\", \"winner_votes\": 763950, \"nota_votes\": 25542, \"nota_position\": 3, \"runner_votes\": 533697}]}}, {\"mode\": \"vega-lite\"});\n",
       "</script>"
      ],
      "text/plain": [
       "alt.Chart(...)"
      ]
     },
     "metadata": {},
     "output_type": "display_data"
    }
   ],
   "source": [
    "chart = alt.Chart(nota_in_top_3_df).transform_aggregate(count='count()', groupby=['name_of_state_or_ut']).mark_bar().encode(\n",
    "    x='name_of_state_or_ut:N',\n",
    "    y='count:Q'\n",
    ")\n",
    "chart.show()"
   ]
  },
  {
   "cell_type": "markdown",
   "id": "9df3f044-90aa-4b80-8bdd-65c26ad23e08",
   "metadata": {},
   "source": [
    "### Margin of victory of winning candidate in these constituencies"
   ]
  },
  {
   "cell_type": "markdown",
   "id": "905ac6ca-651a-4c11-994b-ea8e610e19e7",
   "metadata": {},
   "source": [
    "#### Dataset generation"
   ]
  },
  {
   "cell_type": "code",
   "execution_count": 29,
   "id": "f06c20fc-8191-4908-9b62-174cf24998b4",
   "metadata": {},
   "outputs": [
    {
     "data": {
      "text/plain": [
       "name_of_state_or_ut        Karnataka\n",
       "state_ut_code                    S10\n",
       "constituency_code                 27\n",
       "constituency_name      Chikkballapur\n",
       "winner_votes                  822619\n",
       "nota_votes                      6596\n",
       "nota_position                      3\n",
       "runner_votes                  659159\n",
       "Name: 0, dtype: object"
      ]
     },
     "execution_count": 29,
     "metadata": {},
     "output_type": "execute_result"
    }
   ],
   "source": [
    "first_row = nota_in_top_3_df.iloc[0]\n",
    "first_row"
   ]
  },
  {
   "cell_type": "code",
   "execution_count": 30,
   "id": "aeeeec52-ea27-4046-8458-4bb6f1f914b5",
   "metadata": {},
   "outputs": [
    {
     "data": {
      "text/plain": [
       "('S10', 27)"
      ]
     },
     "execution_count": 30,
     "metadata": {},
     "output_type": "execute_result"
    }
   ],
   "source": [
    "first_row['state_ut_code'], first_row['constituency_code']"
   ]
  },
  {
   "cell_type": "code",
   "execution_count": 31,
   "id": "9d37878d-dd2f-48e4-9cd0-cb854874a297",
   "metadata": {},
   "outputs": [],
   "source": [
    "constituency_per_candidate_vote = constituency_wise_data_df[\n",
    "                            (constituency_wise_data_df['state_ut_code'] == first_row['state_ut_code']) & \n",
    "                            (constituency_wise_data_df['constituency_code'] == first_row['constituency_code'])\n",
    "                    ].sort_values('total_votes', ascending=False)"
   ]
  },
  {
   "cell_type": "code",
   "execution_count": 32,
   "id": "2371ca8a-d985-4272-9903-c882b7893b13",
   "metadata": {},
   "outputs": [
    {
     "name": "stdout",
     "output_type": "stream",
     "text": [
      "1530820\n"
     ]
    }
   ],
   "source": [
    "total_votes = constituency_per_candidate_vote['total_votes'].sum()\n",
    "print(total_votes)"
   ]
  },
  {
   "cell_type": "code",
   "execution_count": 33,
   "id": "dcb3b576-e880-4ce2-88f0-df30d167783f",
   "metadata": {
    "scrolled": true
   },
   "outputs": [
    {
     "name": "stdout",
     "output_type": "stream",
     "text": [
      "10.677937314641827\n"
     ]
    }
   ],
   "source": [
    "winner_percentage_votes = constituency_per_candidate_vote['total_votes'].iloc[0]/total_votes\n",
    "runner_votes = constituency_per_candidate_vote['total_votes'].iloc[1]/total_votes\n",
    "\n",
    "mov = (winner_percentage_votes - runner_votes) * 100\n",
    "print(mov)"
   ]
  },
  {
   "cell_type": "code",
   "execution_count": null,
   "id": "15efdfc5-74b6-4eef-a046-a0aab4b2993b",
   "metadata": {},
   "outputs": [],
   "source": [
    "nota_in_top_3_df['mov'] = pd.Series(dtype='int')\n",
    "nota_in_top_3_df['winning_party'] = pd.Series(dtype='str')\n",
    "for i in range(len(nota_in_top_3_df)):\n",
    "    row = nota_in_top_3_df.iloc[i]\n",
    "    state_ut_code, constituency_code = row['state_ut_code'], row['constituency_code']\n",
    "    constituency_per_candidate_vote = constituency_wise_data_df[\n",
    "                            (constituency_wise_data_df['state_ut_code'] == state_ut_code) & \n",
    "                            (constituency_wise_data_df['constituency_code'] == constituency_code)\n",
    "                    ].sort_values('total_votes', ascending=False)\n",
    "    total_votes = constituency_per_candidate_vote['total_votes'].sum()\n",
    "    winner_percentage_votes = constituency_per_candidate_vote['total_votes'].iloc[0]/total_votes\n",
    "    runner_votes = constituency_per_candidate_vote['total_votes'].iloc[1]/total_votes\n",
    "    winning_party = constituency_per_candidate_vote['candidate_party'].iloc[0]\n",
    "    \n",
    "    mov = (winner_percentage_votes - runner_votes) * 100\n",
    "    nota_in_top_3_df['mov'].iloc[i] = mov\n",
    "    nota_in_top_3_df['winning_party'].iloc[i] =  winning_party"
   ]
  },
  {
   "cell_type": "code",
   "execution_count": 35,
   "id": "3aab5a43-13c4-4bd4-b587-53df504dfb77",
   "metadata": {},
   "outputs": [
    {
     "data": {
      "text/html": [
       "<div>\n",
       "<style scoped>\n",
       "    .dataframe tbody tr th:only-of-type {\n",
       "        vertical-align: middle;\n",
       "    }\n",
       "\n",
       "    .dataframe tbody tr th {\n",
       "        vertical-align: top;\n",
       "    }\n",
       "\n",
       "    .dataframe thead th {\n",
       "        text-align: right;\n",
       "    }\n",
       "</style>\n",
       "<table border=\"1\" class=\"dataframe\">\n",
       "  <thead>\n",
       "    <tr style=\"text-align: right;\">\n",
       "      <th></th>\n",
       "      <th>name_of_state_or_ut</th>\n",
       "      <th>state_ut_code</th>\n",
       "      <th>constituency_code</th>\n",
       "      <th>constituency_name</th>\n",
       "      <th>winner_votes</th>\n",
       "      <th>nota_votes</th>\n",
       "      <th>nota_position</th>\n",
       "      <th>runner_votes</th>\n",
       "      <th>mov</th>\n",
       "      <th>winning_party</th>\n",
       "    </tr>\n",
       "  </thead>\n",
       "  <tbody>\n",
       "    <tr>\n",
       "      <th>0</th>\n",
       "      <td>Karnataka</td>\n",
       "      <td>S10</td>\n",
       "      <td>27</td>\n",
       "      <td>Chikkballapur</td>\n",
       "      <td>822619</td>\n",
       "      <td>6596</td>\n",
       "      <td>3</td>\n",
       "      <td>659159</td>\n",
       "      <td>10.677937</td>\n",
       "      <td>Bharatiya Janata Party</td>\n",
       "    </tr>\n",
       "    <tr>\n",
       "      <th>1</th>\n",
       "      <td>Maharashtra</td>\n",
       "      <td>S13</td>\n",
       "      <td>29</td>\n",
       "      <td>MumbaiNorthCentral</td>\n",
       "      <td>445545</td>\n",
       "      <td>9749</td>\n",
       "      <td>3</td>\n",
       "      <td>429031</td>\n",
       "      <td>1.813605</td>\n",
       "      <td>Indian National Congress</td>\n",
       "    </tr>\n",
       "    <tr>\n",
       "      <th>2</th>\n",
       "      <td>Karnataka</td>\n",
       "      <td>S10</td>\n",
       "      <td>25</td>\n",
       "      <td>Bangalorecentral</td>\n",
       "      <td>658915</td>\n",
       "      <td>12126</td>\n",
       "      <td>3</td>\n",
       "      <td>626208</td>\n",
       "      <td>2.484372</td>\n",
       "      <td>Bharatiya Janata Party</td>\n",
       "    </tr>\n",
       "    <tr>\n",
       "      <th>3</th>\n",
       "      <td>NCT OF Delhi</td>\n",
       "      <td>U05</td>\n",
       "      <td>6</td>\n",
       "      <td>WestDelhi</td>\n",
       "      <td>842658</td>\n",
       "      <td>8699</td>\n",
       "      <td>3</td>\n",
       "      <td>643645</td>\n",
       "      <td>13.054364</td>\n",
       "      <td>Bharatiya Janata Party</td>\n",
       "    </tr>\n",
       "    <tr>\n",
       "      <th>4</th>\n",
       "      <td>Maharashtra</td>\n",
       "      <td>S13</td>\n",
       "      <td>25</td>\n",
       "      <td>Thane</td>\n",
       "      <td>734231</td>\n",
       "      <td>17901</td>\n",
       "      <td>3</td>\n",
       "      <td>517220</td>\n",
       "      <td>16.577519</td>\n",
       "      <td>Shiv Sena</td>\n",
       "    </tr>\n",
       "  </tbody>\n",
       "</table>\n",
       "</div>"
      ],
      "text/plain": [
       "  name_of_state_or_ut state_ut_code  constituency_code   constituency_name  \\\n",
       "0           Karnataka           S10                 27       Chikkballapur   \n",
       "1         Maharashtra           S13                 29  MumbaiNorthCentral   \n",
       "2           Karnataka           S10                 25    Bangalorecentral   \n",
       "3        NCT OF Delhi           U05                  6           WestDelhi   \n",
       "4         Maharashtra           S13                 25               Thane   \n",
       "\n",
       "   winner_votes  nota_votes  nota_position  runner_votes        mov  \\\n",
       "0        822619        6596              3        659159  10.677937   \n",
       "1        445545        9749              3        429031   1.813605   \n",
       "2        658915       12126              3        626208   2.484372   \n",
       "3        842658        8699              3        643645  13.054364   \n",
       "4        734231       17901              3        517220  16.577519   \n",
       "\n",
       "              winning_party  \n",
       "0    Bharatiya Janata Party  \n",
       "1  Indian National Congress  \n",
       "2    Bharatiya Janata Party  \n",
       "3    Bharatiya Janata Party  \n",
       "4                 Shiv Sena  "
      ]
     },
     "execution_count": 35,
     "metadata": {},
     "output_type": "execute_result"
    }
   ],
   "source": [
    "nota_in_top_3_df.head()"
   ]
  },
  {
   "cell_type": "code",
   "execution_count": null,
   "id": "c9edd672-8d55-419a-99a5-9b4189c378cb",
   "metadata": {},
   "outputs": [],
   "source": []
  },
  {
   "cell_type": "code",
   "execution_count": 36,
   "id": "24fa9de0-74d5-4d88-80b0-a9d41ed75daa",
   "metadata": {},
   "outputs": [],
   "source": [
    "nota_in_top_3_df.to_csv('NOTA In Top 3.csv', index=False)"
   ]
  },
  {
   "cell_type": "markdown",
   "id": "39fd43bf-9c9e-4e7a-be17-98c5864bdc6c",
   "metadata": {},
   "source": [
    "#### Analysis"
   ]
  },
  {
   "cell_type": "code",
   "execution_count": 37,
   "id": "414ac991-9a2e-4ae3-bdf4-39fe9283e7c8",
   "metadata": {},
   "outputs": [],
   "source": [
    "parties = list(nota_in_top_3_df['winning_party'].value_counts().index)"
   ]
  },
  {
   "cell_type": "code",
   "execution_count": 38,
   "id": "c89b79f5-cc9d-458b-8033-da4bb8603cff",
   "metadata": {},
   "outputs": [
    {
     "data": {
      "text/plain": [
       "['Bharatiya Janata Party',\n",
       " 'Indian National Congress',\n",
       " 'Janata Dal  (United)',\n",
       " 'Lok Janshakti Party(Ram Vilas)',\n",
       " 'Telugu Desam',\n",
       " 'Shiv Sena',\n",
       " 'Shiv Sena (Uddhav Balasaheb Thackrey)',\n",
       " 'Hindustani Awam Morcha (Secular)',\n",
       " 'Nationalist Congress Party',\n",
       " 'Rashtriya Janata Dal']"
      ]
     },
     "execution_count": 38,
     "metadata": {},
     "output_type": "execute_result"
    }
   ],
   "source": [
    "parties"
   ]
  },
  {
   "cell_type": "code",
   "execution_count": 39,
   "id": "b90c5a66-706e-412f-bea1-35cfbc489238",
   "metadata": {},
   "outputs": [],
   "source": [
    "color_mapping = {\n",
    "    parties[0]: '#ffa15a', #BJP\n",
    "    parties[1]: '#636efa', #INC\n",
    "    parties[2]: '#ef553b', #JD(U)\n",
    "    parties[3]: '#ff6692', #LJP\n",
    "    parties[4]: '#FFA500', #TDP\n",
    "    parties[5]: '#FF4433', #Shiv Sena\n",
    "    parties[6]: '#00FFFF', #Shiva Sena Uddhav Thackrey\n",
    "    parties[7]: '#FFAC1C', #HAM (S)\n",
    "    parties[8]: '#DAA06D', #NCP\n",
    "    parties[9]: '#088F8F', #RJD\n",
    "}"
   ]
  },
  {
   "cell_type": "code",
   "execution_count": 42,
   "id": "334885e1-6b33-4cbc-9d45-6982c8aac977",
   "metadata": {},
   "outputs": [
    {
     "data": {
      "application/vnd.plotly.v1+json": {
       "config": {
        "plotlyServerURL": "https://plot.ly"
       },
       "data": [
        {
         "branchvalues": "total",
         "customdata": [
          [
           "Bharatiya Janata Party"
          ],
          [
           "Janata Dal  (United)"
          ],
          [
           "Shiv Sena (Uddhav Balasaheb Thackrey)"
          ],
          [
           "Shiv Sena"
          ],
          [
           "Indian National Congress"
          ],
          [
           "Bharatiya Janata Party"
          ],
          [
           "Bharatiya Janata Party"
          ],
          [
           "Bharatiya Janata Party"
          ],
          [
           "Bharatiya Janata Party"
          ],
          [
           "Indian National Congress"
          ],
          [
           "Bharatiya Janata Party"
          ],
          [
           "Bharatiya Janata Party"
          ],
          [
           "Bharatiya Janata Party"
          ],
          [
           "Indian National Congress"
          ],
          [
           "Bharatiya Janata Party"
          ],
          [
           "Bharatiya Janata Party"
          ],
          [
           "Bharatiya Janata Party"
          ],
          [
           "Bharatiya Janata Party"
          ],
          [
           "Bharatiya Janata Party"
          ],
          [
           "Bharatiya Janata Party"
          ],
          [
           "Indian National Congress"
          ],
          [
           "Bharatiya Janata Party"
          ],
          [
           "Bharatiya Janata Party"
          ],
          [
           "Janata Dal  (United)"
          ],
          [
           "Bharatiya Janata Party"
          ],
          [
           "Bharatiya Janata Party"
          ],
          [
           "Bharatiya Janata Party"
          ],
          [
           "Bharatiya Janata Party"
          ],
          [
           "Bharatiya Janata Party"
          ],
          [
           "Bharatiya Janata Party"
          ],
          [
           "Shiv Sena"
          ],
          [
           "Bharatiya Janata Party"
          ],
          [
           "Lok Janshakti Party(Ram Vilas)"
          ],
          [
           "Bharatiya Janata Party"
          ],
          [
           "Bharatiya Janata Party"
          ],
          [
           "Nationalist Congress Party"
          ],
          [
           "Indian National Congress"
          ],
          [
           "Bharatiya Janata Party"
          ],
          [
           "Bharatiya Janata Party"
          ],
          [
           "Bharatiya Janata Party"
          ],
          [
           "Bharatiya Janata Party"
          ],
          [
           "Bharatiya Janata Party"
          ],
          [
           "Bharatiya Janata Party"
          ],
          [
           "Bharatiya Janata Party"
          ],
          [
           "Bharatiya Janata Party"
          ],
          [
           "Janata Dal  (United)"
          ],
          [
           "Bharatiya Janata Party"
          ],
          [
           "Bharatiya Janata Party"
          ],
          [
           "Bharatiya Janata Party"
          ],
          [
           "Janata Dal  (United)"
          ],
          [
           "Bharatiya Janata Party"
          ],
          [
           "Bharatiya Janata Party"
          ],
          [
           "Bharatiya Janata Party"
          ],
          [
           "Indian National Congress"
          ],
          [
           "Bharatiya Janata Party"
          ],
          [
           "Bharatiya Janata Party"
          ],
          [
           "Bharatiya Janata Party"
          ],
          [
           "Bharatiya Janata Party"
          ],
          [
           "Bharatiya Janata Party"
          ],
          [
           "Bharatiya Janata Party"
          ],
          [
           "Bharatiya Janata Party"
          ],
          [
           "Bharatiya Janata Party"
          ],
          [
           "Bharatiya Janata Party"
          ],
          [
           "Lok Janshakti Party(Ram Vilas)"
          ],
          [
           "Bharatiya Janata Party"
          ],
          [
           "Telugu Desam"
          ],
          [
           "Indian National Congress"
          ],
          [
           "Bharatiya Janata Party"
          ],
          [
           "Janata Dal  (United)"
          ],
          [
           "Bharatiya Janata Party"
          ],
          [
           "Hindustani Awam Morcha (Secular)"
          ],
          [
           "Bharatiya Janata Party"
          ],
          [
           "Bharatiya Janata Party"
          ],
          [
           "Telugu Desam"
          ],
          [
           "Telugu Desam"
          ],
          [
           "Bharatiya Janata Party"
          ],
          [
           "Bharatiya Janata Party"
          ],
          [
           "Bharatiya Janata Party"
          ],
          [
           "Lok Janshakti Party(Ram Vilas)"
          ],
          [
           "Bharatiya Janata Party"
          ],
          [
           "Bharatiya Janata Party"
          ],
          [
           "Bharatiya Janata Party"
          ],
          [
           "Bharatiya Janata Party"
          ],
          [
           "Bharatiya Janata Party"
          ],
          [
           "Janata Dal  (United)"
          ],
          [
           "Bharatiya Janata Party"
          ],
          [
           "Indian National Congress"
          ],
          [
           "Janata Dal  (United)"
          ],
          [
           "Indian National Congress"
          ],
          [
           "Lok Janshakti Party(Ram Vilas)"
          ],
          [
           "Bharatiya Janata Party"
          ],
          [
           "Bharatiya Janata Party"
          ],
          [
           "Janata Dal  (United)"
          ],
          [
           "Bharatiya Janata Party"
          ],
          [
           "Bharatiya Janata Party"
          ],
          [
           "Bharatiya Janata Party"
          ],
          [
           "Rashtriya Janata Dal"
          ],
          [
           "Bharatiya Janata Party"
          ],
          [
           "Indian National Congress"
          ],
          [
           "Bharatiya Janata Party"
          ],
          [
           "Bharatiya Janata Party"
          ],
          [
           "Bharatiya Janata Party"
          ],
          [
           "(?)"
          ],
          [
           "(?)"
          ],
          [
           "(?)"
          ],
          [
           "Bharatiya Janata Party"
          ],
          [
           "(?)"
          ],
          [
           "Bharatiya Janata Party"
          ],
          [
           "(?)"
          ],
          [
           "(?)"
          ],
          [
           "Bharatiya Janata Party"
          ],
          [
           "(?)"
          ],
          [
           "Bharatiya Janata Party"
          ],
          [
           "Bharatiya Janata Party"
          ],
          [
           "Bharatiya Janata Party"
          ],
          [
           "Bharatiya Janata Party"
          ],
          [
           "Bharatiya Janata Party"
          ]
         ],
         "domain": {
          "x": [
           0,
           1
          ],
          "y": [
           0,
           1
          ]
         },
         "hovertemplate": "labels=%{label}<br>mov=%{value}<br>parent=%{parent}<br>id=%{id}<br>winning_party=%{customdata[0]}<extra></extra>",
         "ids": [
          "Rajasthan/AJMER",
          "Bihar/Munger",
          "Maharashtra/MumbaiSouth",
          "Maharashtra/MumbaiNorthWest",
          "Maharashtra/MumbaiNorthCentral",
          "Maharashtra/MumbaiNorth",
          "Gujarat/Mahesana",
          "Bihar/Maharajganj",
          "Himachal Pradesh/MANDI",
          "Maharashtra/Kolhapur",
          "Jharkhand/Kodarma",
          "Gujarat/Kheda",
          "Assam/Kaziranga",
          "Bihar/Katihar",
          "Madhya Pradesh/KHARGONE",
          "Madhya Pradesh/KHANDWA",
          "Gujarat/Junagadh",
          "Rajasthan/JALORE",
          "Karnataka/Mysore",
          "Rajasthan/JAIPURRURAL",
          "Maharashtra/Nandurbar",
          "Gujarat/Porbandar",
          "Gujarat/Valsad",
          "Bihar/ValmikiNagar",
          "Gujarat/Vadodara",
          "Karnataka/UttaraKannada",
          "Bihar/Ujiarpur",
          "Karnataka/UdupiChikmagalur",
          "Tripura/TripuraWest",
          "Tripura/TripuraEast",
          "Maharashtra/Thane",
          "Gujarat/Surendranagar",
          "Bihar/Samastipur",
          "Gujarat/Sabarkantha",
          "Chhattisgarh/SURGUJA",
          "Maharashtra/Raigad",
          "Karnataka/Raichur",
          "Rajasthan/RAJSAMAND",
          "Bihar/PurviChamparan",
          "Gujarat/Navsari",
          "Rajasthan/JAIPUR",
          "Chhattisgarh/KANKER",
          "Gujarat/Bhavnagar",
          "Madhya Pradesh/DHAR",
          "Gujarat/ChhotaUdaipur",
          "Bihar/Bhagalpur",
          "Bihar/Begusarai",
          "Uttar Pradesh/Bareilly",
          "Gujarat/Bardoli",
          "Bihar/Banka",
          "Karnataka/Bangalorecentral",
          "Karnataka/BangaloreRural",
          "Karnataka/BangaloreNorth",
          "Gujarat/Banaskantha",
          "Rajasthan/BIKANER",
          "Rajasthan/BHILWARA",
          "Chhattisgarh/BASTAR",
          "Gujarat/Anand",
          "Uttarakhand/Almora",
          "Gujarat/AhmedabadWest",
          "Gujarat/Dahod",
          "Bihar/Darbhanga",
          "NCT OF Delhi/WestDelhi",
          "Bihar/Hajipur",
          "Assam/Guwahati",
          "Andhra Pradesh/Eluru",
          "Karnataka/Gulbarga",
          "Karnataka/Dharwad",
          "Bihar/Gopalganj",
          "Uttarakhand/Garhwal",
          "Bihar/Gaya",
          "Karnataka/Chikkballapur",
          "Andhra Pradesh/Anakapalle",
          "Andhra Pradesh/Srikakulam",
          "Andhra Pradesh/Vizianagaram",
          "Gujarat/Rajkot",
          "Gujarat/AhmedabadEast",
          "Rajasthan/KOTA",
          "Bihar/Khagaria",
          "Gujarat/Bharuch",
          "Gujarat/Patan",
          "Bihar/Madhubani",
          "Madhya Pradesh/MANDSOUR",
          "Gujarat/Kachchh",
          "Bihar/Madhepura",
          "Gujarat/Gandhinagar",
          "Jharkhand/Khunti",
          "Bihar/Sheohar",
          "Assam/Jorhat",
          "Bihar/Jamui",
          "Rajasthan/JHALAWAR-BARAN",
          "Rajasthan/JODHPUR",
          "Bihar/Sitamarhi",
          "Karnataka/DakshinaKannada",
          "Madhya Pradesh/INDORE",
          "Gujarat/Panchmahal",
          "Bihar/Aurangabad",
          "Gujarat/Amreli",
          "Karnataka/Bellary",
          "Karnataka/BangaloreSouth",
          "Himachal Pradesh/HAMIRPUR",
          "Karnataka/Haveri",
          "Andhra Pradesh",
          "Assam",
          "Bihar",
          "Chhattisgarh",
          "Gujarat",
          "Himachal Pradesh",
          "Jharkhand",
          "Karnataka",
          "Madhya Pradesh",
          "Maharashtra",
          "NCT OF Delhi",
          "Rajasthan",
          "Tripura",
          "Uttar Pradesh",
          "Uttarakhand"
         ],
         "labels": [
          "AJMER",
          "Munger",
          "MumbaiSouth",
          "MumbaiNorthWest",
          "MumbaiNorthCentral",
          "MumbaiNorth",
          "Mahesana",
          "Maharajganj",
          "MANDI",
          "Kolhapur",
          "Kodarma",
          "Kheda",
          "Kaziranga",
          "Katihar",
          "KHARGONE",
          "KHANDWA",
          "Junagadh",
          "JALORE",
          "Mysore",
          "JAIPURRURAL",
          "Nandurbar",
          "Porbandar",
          "Valsad",
          "ValmikiNagar",
          "Vadodara",
          "UttaraKannada",
          "Ujiarpur",
          "UdupiChikmagalur",
          "TripuraWest",
          "TripuraEast",
          "Thane",
          "Surendranagar",
          "Samastipur",
          "Sabarkantha",
          "SURGUJA",
          "Raigad",
          "Raichur",
          "RAJSAMAND",
          "PurviChamparan",
          "Navsari",
          "JAIPUR",
          "KANKER",
          "Bhavnagar",
          "DHAR",
          "ChhotaUdaipur",
          "Bhagalpur",
          "Begusarai",
          "Bareilly",
          "Bardoli",
          "Banka",
          "Bangalorecentral",
          "BangaloreRural",
          "BangaloreNorth",
          "Banaskantha",
          "BIKANER",
          "BHILWARA",
          "BASTAR",
          "Anand",
          "Almora",
          "AhmedabadWest",
          "Dahod",
          "Darbhanga",
          "WestDelhi",
          "Hajipur",
          "Guwahati",
          "Eluru",
          "Gulbarga",
          "Dharwad",
          "Gopalganj",
          "Garhwal",
          "Gaya",
          "Chikkballapur",
          "Anakapalle",
          "Srikakulam",
          "Vizianagaram",
          "Rajkot",
          "AhmedabadEast",
          "KOTA",
          "Khagaria",
          "Bharuch",
          "Patan",
          "Madhubani",
          "MANDSOUR",
          "Kachchh",
          "Madhepura",
          "Gandhinagar",
          "Khunti",
          "Sheohar",
          "Jorhat",
          "Jamui",
          "JHALAWAR-BARAN",
          "JODHPUR",
          "Sitamarhi",
          "DakshinaKannada",
          "INDORE",
          "Panchmahal",
          "Aurangabad",
          "Amreli",
          "Bellary",
          "BangaloreSouth",
          "HAMIRPUR",
          "Haveri",
          "Andhra Pradesh",
          "Assam",
          "Bihar",
          "Chhattisgarh",
          "Gujarat",
          "Himachal Pradesh",
          "Jharkhand",
          "Karnataka",
          "Madhya Pradesh",
          "Maharashtra",
          "NCT OF Delhi",
          "Rajasthan",
          "Tripura",
          "Uttar Pradesh",
          "Uttarakhand"
         ],
         "marker": {
          "colors": [
           "#ffa15a",
           "#ef553b",
           "#00FFFF",
           "#FF4433",
           "#636efa",
           "#ffa15a",
           "#ffa15a",
           "#ffa15a",
           "#ffa15a",
           "#636efa",
           "#ffa15a",
           "#ffa15a",
           "#ffa15a",
           "#636efa",
           "#ffa15a",
           "#ffa15a",
           "#ffa15a",
           "#ffa15a",
           "#ffa15a",
           "#ffa15a",
           "#636efa",
           "#ffa15a",
           "#ffa15a",
           "#ef553b",
           "#ffa15a",
           "#ffa15a",
           "#ffa15a",
           "#ffa15a",
           "#ffa15a",
           "#ffa15a",
           "#FF4433",
           "#ffa15a",
           "#ff6692",
           "#ffa15a",
           "#ffa15a",
           "#DAA06D",
           "#636efa",
           "#ffa15a",
           "#ffa15a",
           "#ffa15a",
           "#ffa15a",
           "#ffa15a",
           "#ffa15a",
           "#ffa15a",
           "#ffa15a",
           "#ef553b",
           "#ffa15a",
           "#ffa15a",
           "#ffa15a",
           "#ef553b",
           "#ffa15a",
           "#ffa15a",
           "#ffa15a",
           "#636efa",
           "#ffa15a",
           "#ffa15a",
           "#ffa15a",
           "#ffa15a",
           "#ffa15a",
           "#ffa15a",
           "#ffa15a",
           "#ffa15a",
           "#ffa15a",
           "#ff6692",
           "#ffa15a",
           "#FFA500",
           "#636efa",
           "#ffa15a",
           "#ef553b",
           "#ffa15a",
           "#FFAC1C",
           "#ffa15a",
           "#ffa15a",
           "#FFA500",
           "#FFA500",
           "#ffa15a",
           "#ffa15a",
           "#ffa15a",
           "#ff6692",
           "#ffa15a",
           "#ffa15a",
           "#ffa15a",
           "#ffa15a",
           "#ffa15a",
           "#ef553b",
           "#ffa15a",
           "#636efa",
           "#ef553b",
           "#636efa",
           "#ff6692",
           "#ffa15a",
           "#ffa15a",
           "#ef553b",
           "#ffa15a",
           "#ffa15a",
           "#ffa15a",
           "#088F8F",
           "#ffa15a",
           "#636efa",
           "#ffa15a",
           "#ffa15a",
           "#ffa15a",
           "#636efa",
           "#636efa",
           "#636efa",
           "#ffa15a",
           "#636efa",
           "#ffa15a",
           "#636efa",
           "#636efa",
           "#ffa15a",
           "#636efa",
           "#ffa15a",
           "#ffa15a",
           "#ffa15a",
           "#ffa15a",
           "#ffa15a"
          ]
         },
         "name": "",
         "parents": [
          "Rajasthan",
          "Bihar",
          "Maharashtra",
          "Maharashtra",
          "Maharashtra",
          "Maharashtra",
          "Gujarat",
          "Bihar",
          "Himachal Pradesh",
          "Maharashtra",
          "Jharkhand",
          "Gujarat",
          "Assam",
          "Bihar",
          "Madhya Pradesh",
          "Madhya Pradesh",
          "Gujarat",
          "Rajasthan",
          "Karnataka",
          "Rajasthan",
          "Maharashtra",
          "Gujarat",
          "Gujarat",
          "Bihar",
          "Gujarat",
          "Karnataka",
          "Bihar",
          "Karnataka",
          "Tripura",
          "Tripura",
          "Maharashtra",
          "Gujarat",
          "Bihar",
          "Gujarat",
          "Chhattisgarh",
          "Maharashtra",
          "Karnataka",
          "Rajasthan",
          "Bihar",
          "Gujarat",
          "Rajasthan",
          "Chhattisgarh",
          "Gujarat",
          "Madhya Pradesh",
          "Gujarat",
          "Bihar",
          "Bihar",
          "Uttar Pradesh",
          "Gujarat",
          "Bihar",
          "Karnataka",
          "Karnataka",
          "Karnataka",
          "Gujarat",
          "Rajasthan",
          "Rajasthan",
          "Chhattisgarh",
          "Gujarat",
          "Uttarakhand",
          "Gujarat",
          "Gujarat",
          "Bihar",
          "NCT OF Delhi",
          "Bihar",
          "Assam",
          "Andhra Pradesh",
          "Karnataka",
          "Karnataka",
          "Bihar",
          "Uttarakhand",
          "Bihar",
          "Karnataka",
          "Andhra Pradesh",
          "Andhra Pradesh",
          "Andhra Pradesh",
          "Gujarat",
          "Gujarat",
          "Rajasthan",
          "Bihar",
          "Gujarat",
          "Gujarat",
          "Bihar",
          "Madhya Pradesh",
          "Gujarat",
          "Bihar",
          "Gujarat",
          "Jharkhand",
          "Bihar",
          "Assam",
          "Bihar",
          "Rajasthan",
          "Rajasthan",
          "Bihar",
          "Karnataka",
          "Madhya Pradesh",
          "Gujarat",
          "Bihar",
          "Gujarat",
          "Karnataka",
          "Karnataka",
          "Himachal Pradesh",
          "Karnataka",
          "",
          "",
          "",
          "",
          "",
          "",
          "",
          "",
          "",
          "",
          "",
          "",
          "",
          "",
          ""
         ],
         "type": "treemap",
         "values": [
          27.472258506017834,
          7.099582909380459,
          6.813104940674908,
          0.0050264990748116745,
          1.8136052240264822,
          34.53504755705737,
          30.464132121501414,
          10.122284685374055,
          7.359151809885711,
          11.121876718011436,
          27.51999322609937,
          30.425531191106337,
          15.273412407964237,
          4.256170905794566,
          8.661785064967564,
          17.848826677209622,
          12.683699460708281,
          13.888731922658677,
          9.381241693180003,
          0.12796599828533428,
          11.417345151538855,
          41.26689896520581,
          15.476883909414575,
          8.95555575724023,
          48.024294043059065,
          26.721446101043668,
          5.767569870680223,
          21.081113177129335,
          50.55161599888909,
          42.91630853047354,
          16.577519273253948,
          23.123768646525427,
          17.1069220312226,
          12.264625109701122,
          4.454296765752586,
          8.16996818228472,
          6.138799140363449,
          32.33148961776561,
          8.222779801953639,
          57.80464439223564,
          22.673171785153407,
          0.14888231579962552,
          43.47546675426267,
          15.344438487513374,
          31.456261206150575,
          9.855264777775375,
          6.293481056606575,
          3.1087268368409693,
          17.19161702130837,
          10.239460437507086,
          2.484371558134768,
          14.047480125446727,
          14.80601470809767,
          2.2098941567828545,
          4.981838212543882,
          27.185476791922692,
          5.483946217719959,
          7.7004612279949205,
          35.01840696368122,
          29.63204730583895,
          29.838039012996585,
          17.394921225092368,
          13.05436426775048,
          14.723575377989206,
          15.699120101488756,
          13.158505957458816,
          2.075961653657404,
          7.122183753863004,
          11.963948234616812,
          22.171972699818692,
          10.564961667614426,
          10.677937314641827,
          22.374016472853597,
          26.535948452924124,
          19.192036587487166,
          38.024658786282664,
          40.923428154127436,
          2.797973812074339,
          15.17392508103445,
          7.147504011796846,
          2.671639601885806,
          14.784553889745144,
          34.92555242721968,
          24.542782450370126,
          14.427934314021307,
          56.34096483437004,
          15.979275784097485,
          2.76079431452384,
          10.379323729836965,
          11.486745238365126,
          26.101520335516494,
          8.359143194506874,
          4.694367052044251,
          10.538999978810121,
          64.5389022054229,
          45.014878519342076,
          8.363745929716243,
          36.63378311460409,
          7.122167270780788,
          22.178314664839572,
          17.41272249664124,
          3.1173968987227463,
          81.2605074707237,
          41.35185623928996,
          214.25854455829798,
          10.08712529927217,
          684.3379039975716,
          24.771874306526954,
          43.499269010196855,
          157.4934280387111,
          141.31950486233313,
          90.45349354592253,
          13.05436426775048,
          165.91957017644515,
          93.46792452936263,
          3.1087268368409693,
          57.19037966349991
         ]
        }
       ],
       "layout": {
        "autosize": true,
        "legend": {
         "tracegroupgap": 0
        },
        "margin": {
         "b": 25,
         "l": 25,
         "r": 25,
         "t": 50
        },
        "template": {
         "data": {
          "bar": [
           {
            "error_x": {
             "color": "#2a3f5f"
            },
            "error_y": {
             "color": "#2a3f5f"
            },
            "marker": {
             "line": {
              "color": "#E5ECF6",
              "width": 0.5
             },
             "pattern": {
              "fillmode": "overlay",
              "size": 10,
              "solidity": 0.2
             }
            },
            "type": "bar"
           }
          ],
          "barpolar": [
           {
            "marker": {
             "line": {
              "color": "#E5ECF6",
              "width": 0.5
             },
             "pattern": {
              "fillmode": "overlay",
              "size": 10,
              "solidity": 0.2
             }
            },
            "type": "barpolar"
           }
          ],
          "carpet": [
           {
            "aaxis": {
             "endlinecolor": "#2a3f5f",
             "gridcolor": "white",
             "linecolor": "white",
             "minorgridcolor": "white",
             "startlinecolor": "#2a3f5f"
            },
            "baxis": {
             "endlinecolor": "#2a3f5f",
             "gridcolor": "white",
             "linecolor": "white",
             "minorgridcolor": "white",
             "startlinecolor": "#2a3f5f"
            },
            "type": "carpet"
           }
          ],
          "choropleth": [
           {
            "colorbar": {
             "outlinewidth": 0,
             "ticks": ""
            },
            "type": "choropleth"
           }
          ],
          "contour": [
           {
            "colorbar": {
             "outlinewidth": 0,
             "ticks": ""
            },
            "colorscale": [
             [
              0,
              "#0d0887"
             ],
             [
              0.1111111111111111,
              "#46039f"
             ],
             [
              0.2222222222222222,
              "#7201a8"
             ],
             [
              0.3333333333333333,
              "#9c179e"
             ],
             [
              0.4444444444444444,
              "#bd3786"
             ],
             [
              0.5555555555555556,
              "#d8576b"
             ],
             [
              0.6666666666666666,
              "#ed7953"
             ],
             [
              0.7777777777777778,
              "#fb9f3a"
             ],
             [
              0.8888888888888888,
              "#fdca26"
             ],
             [
              1,
              "#f0f921"
             ]
            ],
            "type": "contour"
           }
          ],
          "contourcarpet": [
           {
            "colorbar": {
             "outlinewidth": 0,
             "ticks": ""
            },
            "type": "contourcarpet"
           }
          ],
          "heatmap": [
           {
            "colorbar": {
             "outlinewidth": 0,
             "ticks": ""
            },
            "colorscale": [
             [
              0,
              "#0d0887"
             ],
             [
              0.1111111111111111,
              "#46039f"
             ],
             [
              0.2222222222222222,
              "#7201a8"
             ],
             [
              0.3333333333333333,
              "#9c179e"
             ],
             [
              0.4444444444444444,
              "#bd3786"
             ],
             [
              0.5555555555555556,
              "#d8576b"
             ],
             [
              0.6666666666666666,
              "#ed7953"
             ],
             [
              0.7777777777777778,
              "#fb9f3a"
             ],
             [
              0.8888888888888888,
              "#fdca26"
             ],
             [
              1,
              "#f0f921"
             ]
            ],
            "type": "heatmap"
           }
          ],
          "heatmapgl": [
           {
            "colorbar": {
             "outlinewidth": 0,
             "ticks": ""
            },
            "colorscale": [
             [
              0,
              "#0d0887"
             ],
             [
              0.1111111111111111,
              "#46039f"
             ],
             [
              0.2222222222222222,
              "#7201a8"
             ],
             [
              0.3333333333333333,
              "#9c179e"
             ],
             [
              0.4444444444444444,
              "#bd3786"
             ],
             [
              0.5555555555555556,
              "#d8576b"
             ],
             [
              0.6666666666666666,
              "#ed7953"
             ],
             [
              0.7777777777777778,
              "#fb9f3a"
             ],
             [
              0.8888888888888888,
              "#fdca26"
             ],
             [
              1,
              "#f0f921"
             ]
            ],
            "type": "heatmapgl"
           }
          ],
          "histogram": [
           {
            "marker": {
             "pattern": {
              "fillmode": "overlay",
              "size": 10,
              "solidity": 0.2
             }
            },
            "type": "histogram"
           }
          ],
          "histogram2d": [
           {
            "colorbar": {
             "outlinewidth": 0,
             "ticks": ""
            },
            "colorscale": [
             [
              0,
              "#0d0887"
             ],
             [
              0.1111111111111111,
              "#46039f"
             ],
             [
              0.2222222222222222,
              "#7201a8"
             ],
             [
              0.3333333333333333,
              "#9c179e"
             ],
             [
              0.4444444444444444,
              "#bd3786"
             ],
             [
              0.5555555555555556,
              "#d8576b"
             ],
             [
              0.6666666666666666,
              "#ed7953"
             ],
             [
              0.7777777777777778,
              "#fb9f3a"
             ],
             [
              0.8888888888888888,
              "#fdca26"
             ],
             [
              1,
              "#f0f921"
             ]
            ],
            "type": "histogram2d"
           }
          ],
          "histogram2dcontour": [
           {
            "colorbar": {
             "outlinewidth": 0,
             "ticks": ""
            },
            "colorscale": [
             [
              0,
              "#0d0887"
             ],
             [
              0.1111111111111111,
              "#46039f"
             ],
             [
              0.2222222222222222,
              "#7201a8"
             ],
             [
              0.3333333333333333,
              "#9c179e"
             ],
             [
              0.4444444444444444,
              "#bd3786"
             ],
             [
              0.5555555555555556,
              "#d8576b"
             ],
             [
              0.6666666666666666,
              "#ed7953"
             ],
             [
              0.7777777777777778,
              "#fb9f3a"
             ],
             [
              0.8888888888888888,
              "#fdca26"
             ],
             [
              1,
              "#f0f921"
             ]
            ],
            "type": "histogram2dcontour"
           }
          ],
          "mesh3d": [
           {
            "colorbar": {
             "outlinewidth": 0,
             "ticks": ""
            },
            "type": "mesh3d"
           }
          ],
          "parcoords": [
           {
            "line": {
             "colorbar": {
              "outlinewidth": 0,
              "ticks": ""
             }
            },
            "type": "parcoords"
           }
          ],
          "pie": [
           {
            "automargin": true,
            "type": "pie"
           }
          ],
          "scatter": [
           {
            "fillpattern": {
             "fillmode": "overlay",
             "size": 10,
             "solidity": 0.2
            },
            "type": "scatter"
           }
          ],
          "scatter3d": [
           {
            "line": {
             "colorbar": {
              "outlinewidth": 0,
              "ticks": ""
             }
            },
            "marker": {
             "colorbar": {
              "outlinewidth": 0,
              "ticks": ""
             }
            },
            "type": "scatter3d"
           }
          ],
          "scattercarpet": [
           {
            "marker": {
             "colorbar": {
              "outlinewidth": 0,
              "ticks": ""
             }
            },
            "type": "scattercarpet"
           }
          ],
          "scattergeo": [
           {
            "marker": {
             "colorbar": {
              "outlinewidth": 0,
              "ticks": ""
             }
            },
            "type": "scattergeo"
           }
          ],
          "scattergl": [
           {
            "marker": {
             "colorbar": {
              "outlinewidth": 0,
              "ticks": ""
             }
            },
            "type": "scattergl"
           }
          ],
          "scattermapbox": [
           {
            "marker": {
             "colorbar": {
              "outlinewidth": 0,
              "ticks": ""
             }
            },
            "type": "scattermapbox"
           }
          ],
          "scatterpolar": [
           {
            "marker": {
             "colorbar": {
              "outlinewidth": 0,
              "ticks": ""
             }
            },
            "type": "scatterpolar"
           }
          ],
          "scatterpolargl": [
           {
            "marker": {
             "colorbar": {
              "outlinewidth": 0,
              "ticks": ""
             }
            },
            "type": "scatterpolargl"
           }
          ],
          "scatterternary": [
           {
            "marker": {
             "colorbar": {
              "outlinewidth": 0,
              "ticks": ""
             }
            },
            "type": "scatterternary"
           }
          ],
          "surface": [
           {
            "colorbar": {
             "outlinewidth": 0,
             "ticks": ""
            },
            "colorscale": [
             [
              0,
              "#0d0887"
             ],
             [
              0.1111111111111111,
              "#46039f"
             ],
             [
              0.2222222222222222,
              "#7201a8"
             ],
             [
              0.3333333333333333,
              "#9c179e"
             ],
             [
              0.4444444444444444,
              "#bd3786"
             ],
             [
              0.5555555555555556,
              "#d8576b"
             ],
             [
              0.6666666666666666,
              "#ed7953"
             ],
             [
              0.7777777777777778,
              "#fb9f3a"
             ],
             [
              0.8888888888888888,
              "#fdca26"
             ],
             [
              1,
              "#f0f921"
             ]
            ],
            "type": "surface"
           }
          ],
          "table": [
           {
            "cells": {
             "fill": {
              "color": "#EBF0F8"
             },
             "line": {
              "color": "white"
             }
            },
            "header": {
             "fill": {
              "color": "#C8D4E3"
             },
             "line": {
              "color": "white"
             }
            },
            "type": "table"
           }
          ]
         },
         "layout": {
          "annotationdefaults": {
           "arrowcolor": "#2a3f5f",
           "arrowhead": 0,
           "arrowwidth": 1
          },
          "autotypenumbers": "strict",
          "coloraxis": {
           "colorbar": {
            "outlinewidth": 0,
            "ticks": ""
           }
          },
          "colorscale": {
           "diverging": [
            [
             0,
             "#8e0152"
            ],
            [
             0.1,
             "#c51b7d"
            ],
            [
             0.2,
             "#de77ae"
            ],
            [
             0.3,
             "#f1b6da"
            ],
            [
             0.4,
             "#fde0ef"
            ],
            [
             0.5,
             "#f7f7f7"
            ],
            [
             0.6,
             "#e6f5d0"
            ],
            [
             0.7,
             "#b8e186"
            ],
            [
             0.8,
             "#7fbc41"
            ],
            [
             0.9,
             "#4d9221"
            ],
            [
             1,
             "#276419"
            ]
           ],
           "sequential": [
            [
             0,
             "#0d0887"
            ],
            [
             0.1111111111111111,
             "#46039f"
            ],
            [
             0.2222222222222222,
             "#7201a8"
            ],
            [
             0.3333333333333333,
             "#9c179e"
            ],
            [
             0.4444444444444444,
             "#bd3786"
            ],
            [
             0.5555555555555556,
             "#d8576b"
            ],
            [
             0.6666666666666666,
             "#ed7953"
            ],
            [
             0.7777777777777778,
             "#fb9f3a"
            ],
            [
             0.8888888888888888,
             "#fdca26"
            ],
            [
             1,
             "#f0f921"
            ]
           ],
           "sequentialminus": [
            [
             0,
             "#0d0887"
            ],
            [
             0.1111111111111111,
             "#46039f"
            ],
            [
             0.2222222222222222,
             "#7201a8"
            ],
            [
             0.3333333333333333,
             "#9c179e"
            ],
            [
             0.4444444444444444,
             "#bd3786"
            ],
            [
             0.5555555555555556,
             "#d8576b"
            ],
            [
             0.6666666666666666,
             "#ed7953"
            ],
            [
             0.7777777777777778,
             "#fb9f3a"
            ],
            [
             0.8888888888888888,
             "#fdca26"
            ],
            [
             1,
             "#f0f921"
            ]
           ]
          },
          "colorway": [
           "#636efa",
           "#EF553B",
           "#00cc96",
           "#ab63fa",
           "#FFA15A",
           "#19d3f3",
           "#FF6692",
           "#B6E880",
           "#FF97FF",
           "#FECB52"
          ],
          "font": {
           "color": "#2a3f5f"
          },
          "geo": {
           "bgcolor": "white",
           "lakecolor": "white",
           "landcolor": "#E5ECF6",
           "showlakes": true,
           "showland": true,
           "subunitcolor": "white"
          },
          "hoverlabel": {
           "align": "left"
          },
          "hovermode": "closest",
          "mapbox": {
           "style": "light"
          },
          "paper_bgcolor": "white",
          "plot_bgcolor": "#E5ECF6",
          "polar": {
           "angularaxis": {
            "gridcolor": "white",
            "linecolor": "white",
            "ticks": ""
           },
           "bgcolor": "#E5ECF6",
           "radialaxis": {
            "gridcolor": "white",
            "linecolor": "white",
            "ticks": ""
           }
          },
          "scene": {
           "xaxis": {
            "backgroundcolor": "#E5ECF6",
            "gridcolor": "white",
            "gridwidth": 2,
            "linecolor": "white",
            "showbackground": true,
            "ticks": "",
            "zerolinecolor": "white"
           },
           "yaxis": {
            "backgroundcolor": "#E5ECF6",
            "gridcolor": "white",
            "gridwidth": 2,
            "linecolor": "white",
            "showbackground": true,
            "ticks": "",
            "zerolinecolor": "white"
           },
           "zaxis": {
            "backgroundcolor": "#E5ECF6",
            "gridcolor": "white",
            "gridwidth": 2,
            "linecolor": "white",
            "showbackground": true,
            "ticks": "",
            "zerolinecolor": "white"
           }
          },
          "shapedefaults": {
           "line": {
            "color": "#2a3f5f"
           }
          },
          "ternary": {
           "aaxis": {
            "gridcolor": "white",
            "linecolor": "white",
            "ticks": ""
           },
           "baxis": {
            "gridcolor": "white",
            "linecolor": "white",
            "ticks": ""
           },
           "bgcolor": "#E5ECF6",
           "caxis": {
            "gridcolor": "white",
            "linecolor": "white",
            "ticks": ""
           }
          },
          "title": {
           "x": 0.05
          },
          "xaxis": {
           "automargin": true,
           "gridcolor": "white",
           "linecolor": "white",
           "ticks": "",
           "title": {
            "standoff": 15
           },
           "zerolinecolor": "white",
           "zerolinewidth": 2
          },
          "yaxis": {
           "automargin": true,
           "gridcolor": "white",
           "linecolor": "white",
           "ticks": "",
           "title": {
            "standoff": 15
           },
           "zerolinecolor": "white",
           "zerolinewidth": 2
          }
         }
        }
       }
      },
      "image/png": "[encoded data removed]",
      "text/html": [
       "<div>                            <div id=\"d2567c44-73eb-491c-b9a0-2af63831e13a\" class=\"plotly-graph-div\" style=\"height:525px; width:100%;\"></div>            <script type=\"text/javascript\">                require([\"plotly\"], function(Plotly) {                    window.PLOTLYENV=window.PLOTLYENV || {};                                    if (document.getElementById(\"d2567c44-73eb-491c-b9a0-2af63831e13a\")) {                    Plotly.newPlot(                        \"d2567c44-73eb-491c-b9a0-2af63831e13a\",                        [{\"branchvalues\":\"total\",\"customdata\":[[\"Bharatiya Janata Party\"],[\"Janata Dal  (United)\"],[\"Shiv Sena (Uddhav Balasaheb Thackrey)\"],[\"Shiv Sena\"],[\"Indian National Congress\"],[\"Bharatiya Janata Party\"],[\"Bharatiya Janata Party\"],[\"Bharatiya Janata Party\"],[\"Bharatiya Janata Party\"],[\"Indian National Congress\"],[\"Bharatiya Janata Party\"],[\"Bharatiya Janata Party\"],[\"Bharatiya Janata Party\"],[\"Indian National Congress\"],[\"Bharatiya Janata Party\"],[\"Bharatiya Janata Party\"],[\"Bharatiya Janata Party\"],[\"Bharatiya Janata Party\"],[\"Bharatiya Janata Party\"],[\"Bharatiya Janata Party\"],[\"Indian National Congress\"],[\"Bharatiya Janata Party\"],[\"Bharatiya Janata Party\"],[\"Janata Dal  (United)\"],[\"Bharatiya Janata Party\"],[\"Bharatiya Janata Party\"],[\"Bharatiya Janata Party\"],[\"Bharatiya Janata Party\"],[\"Bharatiya Janata Party\"],[\"Bharatiya Janata Party\"],[\"Shiv Sena\"],[\"Bharatiya Janata Party\"],[\"Lok Janshakti Party(Ram Vilas)\"],[\"Bharatiya Janata Party\"],[\"Bharatiya Janata Party\"],[\"Nationalist Congress Party\"],[\"Indian National Congress\"],[\"Bharatiya Janata Party\"],[\"Bharatiya Janata Party\"],[\"Bharatiya Janata Party\"],[\"Bharatiya Janata Party\"],[\"Bharatiya Janata Party\"],[\"Bharatiya Janata Party\"],[\"Bharatiya Janata Party\"],[\"Bharatiya Janata Party\"],[\"Janata Dal  (United)\"],[\"Bharatiya Janata Party\"],[\"Bharatiya Janata Party\"],[\"Bharatiya Janata Party\"],[\"Janata Dal  (United)\"],[\"Bharatiya Janata Party\"],[\"Bharatiya Janata Party\"],[\"Bharatiya Janata Party\"],[\"Indian National Congress\"],[\"Bharatiya Janata Party\"],[\"Bharatiya Janata Party\"],[\"Bharatiya Janata Party\"],[\"Bharatiya Janata Party\"],[\"Bharatiya Janata Party\"],[\"Bharatiya Janata Party\"],[\"Bharatiya Janata Party\"],[\"Bharatiya Janata Party\"],[\"Bharatiya Janata Party\"],[\"Lok Janshakti Party(Ram Vilas)\"],[\"Bharatiya Janata Party\"],[\"Telugu Desam\"],[\"Indian National Congress\"],[\"Bharatiya Janata Party\"],[\"Janata Dal  (United)\"],[\"Bharatiya Janata Party\"],[\"Hindustani Awam Morcha (Secular)\"],[\"Bharatiya Janata Party\"],[\"Bharatiya Janata Party\"],[\"Telugu Desam\"],[\"Telugu Desam\"],[\"Bharatiya Janata Party\"],[\"Bharatiya Janata Party\"],[\"Bharatiya Janata Party\"],[\"Lok Janshakti Party(Ram Vilas)\"],[\"Bharatiya Janata Party\"],[\"Bharatiya Janata Party\"],[\"Bharatiya Janata Party\"],[\"Bharatiya Janata Party\"],[\"Bharatiya Janata Party\"],[\"Janata Dal  (United)\"],[\"Bharatiya Janata Party\"],[\"Indian National Congress\"],[\"Janata Dal  (United)\"],[\"Indian National Congress\"],[\"Lok Janshakti Party(Ram Vilas)\"],[\"Bharatiya Janata Party\"],[\"Bharatiya Janata Party\"],[\"Janata Dal  (United)\"],[\"Bharatiya Janata Party\"],[\"Bharatiya Janata Party\"],[\"Bharatiya Janata Party\"],[\"Rashtriya Janata Dal\"],[\"Bharatiya Janata Party\"],[\"Indian National Congress\"],[\"Bharatiya Janata Party\"],[\"Bharatiya Janata Party\"],[\"Bharatiya Janata Party\"],[\"(?)\"],[\"(?)\"],[\"(?)\"],[\"Bharatiya Janata Party\"],[\"(?)\"],[\"Bharatiya Janata Party\"],[\"(?)\"],[\"(?)\"],[\"Bharatiya Janata Party\"],[\"(?)\"],[\"Bharatiya Janata Party\"],[\"Bharatiya Janata Party\"],[\"Bharatiya Janata Party\"],[\"Bharatiya Janata Party\"],[\"Bharatiya Janata Party\"]],\"domain\":{\"x\":[0.0,1.0],\"y\":[0.0,1.0]},\"hovertemplate\":\"labels=%{label}\\u003cbr\\u003emov=%{value}\\u003cbr\\u003eparent=%{parent}\\u003cbr\\u003eid=%{id}\\u003cbr\\u003ewinning_party=%{customdata[0]}\\u003cextra\\u003e\\u003c\\u002fextra\\u003e\",\"ids\":[\"Rajasthan\\u002fAJMER\",\"Bihar\\u002fMunger\",\"Maharashtra\\u002fMumbaiSouth\",\"Maharashtra\\u002fMumbaiNorthWest\",\"Maharashtra\\u002fMumbaiNorthCentral\",\"Maharashtra\\u002fMumbaiNorth\",\"Gujarat\\u002fMahesana\",\"Bihar\\u002fMaharajganj\",\"Himachal Pradesh\\u002fMANDI\",\"Maharashtra\\u002fKolhapur\",\"Jharkhand\\u002fKodarma\",\"Gujarat\\u002fKheda\",\"Assam\\u002fKaziranga\",\"Bihar\\u002fKatihar\",\"Madhya Pradesh\\u002fKHARGONE\",\"Madhya Pradesh\\u002fKHANDWA\",\"Gujarat\\u002fJunagadh\",\"Rajasthan\\u002fJALORE\",\"Karnataka\\u002fMysore\",\"Rajasthan\\u002fJAIPURRURAL\",\"Maharashtra\\u002fNandurbar\",\"Gujarat\\u002fPorbandar\",\"Gujarat\\u002fValsad\",\"Bihar\\u002fValmikiNagar\",\"Gujarat\\u002fVadodara\",\"Karnataka\\u002fUttaraKannada\",\"Bihar\\u002fUjiarpur\",\"Karnataka\\u002fUdupiChikmagalur\",\"Tripura\\u002fTripuraWest\",\"Tripura\\u002fTripuraEast\",\"Maharashtra\\u002fThane\",\"Gujarat\\u002fSurendranagar\",\"Bihar\\u002fSamastipur\",\"Gujarat\\u002fSabarkantha\",\"Chhattisgarh\\u002fSURGUJA\",\"Maharashtra\\u002fRaigad\",\"Karnataka\\u002fRaichur\",\"Rajasthan\\u002fRAJSAMAND\",\"Bihar\\u002fPurviChamparan\",\"Gujarat\\u002fNavsari\",\"Rajasthan\\u002fJAIPUR\",\"Chhattisgarh\\u002fKANKER\",\"Gujarat\\u002fBhavnagar\",\"Madhya Pradesh\\u002fDHAR\",\"Gujarat\\u002fChhotaUdaipur\",\"Bihar\\u002fBhagalpur\",\"Bihar\\u002fBegusarai\",\"Uttar Pradesh\\u002fBareilly\",\"Gujarat\\u002fBardoli\",\"Bihar\\u002fBanka\",\"Karnataka\\u002fBangalorecentral\",\"Karnataka\\u002fBangaloreRural\",\"Karnataka\\u002fBangaloreNorth\",\"Gujarat\\u002fBanaskantha\",\"Rajasthan\\u002fBIKANER\",\"Rajasthan\\u002fBHILWARA\",\"Chhattisgarh\\u002fBASTAR\",\"Gujarat\\u002fAnand\",\"Uttarakhand\\u002fAlmora\",\"Gujarat\\u002fAhmedabadWest\",\"Gujarat\\u002fDahod\",\"Bihar\\u002fDarbhanga\",\"NCT OF Delhi\\u002fWestDelhi\",\"Bihar\\u002fHajipur\",\"Assam\\u002fGuwahati\",\"Andhra Pradesh\\u002fEluru\",\"Karnataka\\u002fGulbarga\",\"Karnataka\\u002fDharwad\",\"Bihar\\u002fGopalganj\",\"Uttarakhand\\u002fGarhwal\",\"Bihar\\u002fGaya\",\"Karnataka\\u002fChikkballapur\",\"Andhra Pradesh\\u002fAnakapalle\",\"Andhra Pradesh\\u002fSrikakulam\",\"Andhra Pradesh\\u002fVizianagaram\",\"Gujarat\\u002fRajkot\",\"Gujarat\\u002fAhmedabadEast\",\"Rajasthan\\u002fKOTA\",\"Bihar\\u002fKhagaria\",\"Gujarat\\u002fBharuch\",\"Gujarat\\u002fPatan\",\"Bihar\\u002fMadhubani\",\"Madhya Pradesh\\u002fMANDSOUR\",\"Gujarat\\u002fKachchh\",\"Bihar\\u002fMadhepura\",\"Gujarat\\u002fGandhinagar\",\"Jharkhand\\u002fKhunti\",\"Bihar\\u002fSheohar\",\"Assam\\u002fJorhat\",\"Bihar\\u002fJamui\",\"Rajasthan\\u002fJHALAWAR-BARAN\",\"Rajasthan\\u002fJODHPUR\",\"Bihar\\u002fSitamarhi\",\"Karnataka\\u002fDakshinaKannada\",\"Madhya Pradesh\\u002fINDORE\",\"Gujarat\\u002fPanchmahal\",\"Bihar\\u002fAurangabad\",\"Gujarat\\u002fAmreli\",\"Karnataka\\u002fBellary\",\"Karnataka\\u002fBangaloreSouth\",\"Himachal Pradesh\\u002fHAMIRPUR\",\"Karnataka\\u002fHaveri\",\"Andhra Pradesh\",\"Assam\",\"Bihar\",\"Chhattisgarh\",\"Gujarat\",\"Himachal Pradesh\",\"Jharkhand\",\"Karnataka\",\"Madhya Pradesh\",\"Maharashtra\",\"NCT OF Delhi\",\"Rajasthan\",\"Tripura\",\"Uttar Pradesh\",\"Uttarakhand\"],\"labels\":[\"AJMER\",\"Munger\",\"MumbaiSouth\",\"MumbaiNorthWest\",\"MumbaiNorthCentral\",\"MumbaiNorth\",\"Mahesana\",\"Maharajganj\",\"MANDI\",\"Kolhapur\",\"Kodarma\",\"Kheda\",\"Kaziranga\",\"Katihar\",\"KHARGONE\",\"KHANDWA\",\"Junagadh\",\"JALORE\",\"Mysore\",\"JAIPURRURAL\",\"Nandurbar\",\"Porbandar\",\"Valsad\",\"ValmikiNagar\",\"Vadodara\",\"UttaraKannada\",\"Ujiarpur\",\"UdupiChikmagalur\",\"TripuraWest\",\"TripuraEast\",\"Thane\",\"Surendranagar\",\"Samastipur\",\"Sabarkantha\",\"SURGUJA\",\"Raigad\",\"Raichur\",\"RAJSAMAND\",\"PurviChamparan\",\"Navsari\",\"JAIPUR\",\"KANKER\",\"Bhavnagar\",\"DHAR\",\"ChhotaUdaipur\",\"Bhagalpur\",\"Begusarai\",\"Bareilly\",\"Bardoli\",\"Banka\",\"Bangalorecentral\",\"BangaloreRural\",\"BangaloreNorth\",\"Banaskantha\",\"BIKANER\",\"BHILWARA\",\"BASTAR\",\"Anand\",\"Almora\",\"AhmedabadWest\",\"Dahod\",\"Darbhanga\",\"WestDelhi\",\"Hajipur\",\"Guwahati\",\"Eluru\",\"Gulbarga\",\"Dharwad\",\"Gopalganj\",\"Garhwal\",\"Gaya\",\"Chikkballapur\",\"Anakapalle\",\"Srikakulam\",\"Vizianagaram\",\"Rajkot\",\"AhmedabadEast\",\"KOTA\",\"Khagaria\",\"Bharuch\",\"Patan\",\"Madhubani\",\"MANDSOUR\",\"Kachchh\",\"Madhepura\",\"Gandhinagar\",\"Khunti\",\"Sheohar\",\"Jorhat\",\"Jamui\",\"JHALAWAR-BARAN\",\"JODHPUR\",\"Sitamarhi\",\"DakshinaKannada\",\"INDORE\",\"Panchmahal\",\"Aurangabad\",\"Amreli\",\"Bellary\",\"BangaloreSouth\",\"HAMIRPUR\",\"Haveri\",\"Andhra Pradesh\",\"Assam\",\"Bihar\",\"Chhattisgarh\",\"Gujarat\",\"Himachal Pradesh\",\"Jharkhand\",\"Karnataka\",\"Madhya Pradesh\",\"Maharashtra\",\"NCT OF Delhi\",\"Rajasthan\",\"Tripura\",\"Uttar Pradesh\",\"Uttarakhand\"],\"marker\":{\"colors\":[\"#ffa15a\",\"#ef553b\",\"#00FFFF\",\"#FF4433\",\"#636efa\",\"#ffa15a\",\"#ffa15a\",\"#ffa15a\",\"#ffa15a\",\"#636efa\",\"#ffa15a\",\"#ffa15a\",\"#ffa15a\",\"#636efa\",\"#ffa15a\",\"#ffa15a\",\"#ffa15a\",\"#ffa15a\",\"#ffa15a\",\"#ffa15a\",\"#636efa\",\"#ffa15a\",\"#ffa15a\",\"#ef553b\",\"#ffa15a\",\"#ffa15a\",\"#ffa15a\",\"#ffa15a\",\"#ffa15a\",\"#ffa15a\",\"#FF4433\",\"#ffa15a\",\"#ff6692\",\"#ffa15a\",\"#ffa15a\",\"#DAA06D\",\"#636efa\",\"#ffa15a\",\"#ffa15a\",\"#ffa15a\",\"#ffa15a\",\"#ffa15a\",\"#ffa15a\",\"#ffa15a\",\"#ffa15a\",\"#ef553b\",\"#ffa15a\",\"#ffa15a\",\"#ffa15a\",\"#ef553b\",\"#ffa15a\",\"#ffa15a\",\"#ffa15a\",\"#636efa\",\"#ffa15a\",\"#ffa15a\",\"#ffa15a\",\"#ffa15a\",\"#ffa15a\",\"#ffa15a\",\"#ffa15a\",\"#ffa15a\",\"#ffa15a\",\"#ff6692\",\"#ffa15a\",\"#FFA500\",\"#636efa\",\"#ffa15a\",\"#ef553b\",\"#ffa15a\",\"#FFAC1C\",\"#ffa15a\",\"#ffa15a\",\"#FFA500\",\"#FFA500\",\"#ffa15a\",\"#ffa15a\",\"#ffa15a\",\"#ff6692\",\"#ffa15a\",\"#ffa15a\",\"#ffa15a\",\"#ffa15a\",\"#ffa15a\",\"#ef553b\",\"#ffa15a\",\"#636efa\",\"#ef553b\",\"#636efa\",\"#ff6692\",\"#ffa15a\",\"#ffa15a\",\"#ef553b\",\"#ffa15a\",\"#ffa15a\",\"#ffa15a\",\"#088F8F\",\"#ffa15a\",\"#636efa\",\"#ffa15a\",\"#ffa15a\",\"#ffa15a\",\"#636efa\",\"#636efa\",\"#636efa\",\"#ffa15a\",\"#636efa\",\"#ffa15a\",\"#636efa\",\"#636efa\",\"#ffa15a\",\"#636efa\",\"#ffa15a\",\"#ffa15a\",\"#ffa15a\",\"#ffa15a\",\"#ffa15a\"]},\"name\":\"\",\"parents\":[\"Rajasthan\",\"Bihar\",\"Maharashtra\",\"Maharashtra\",\"Maharashtra\",\"Maharashtra\",\"Gujarat\",\"Bihar\",\"Himachal Pradesh\",\"Maharashtra\",\"Jharkhand\",\"Gujarat\",\"Assam\",\"Bihar\",\"Madhya Pradesh\",\"Madhya Pradesh\",\"Gujarat\",\"Rajasthan\",\"Karnataka\",\"Rajasthan\",\"Maharashtra\",\"Gujarat\",\"Gujarat\",\"Bihar\",\"Gujarat\",\"Karnataka\",\"Bihar\",\"Karnataka\",\"Tripura\",\"Tripura\",\"Maharashtra\",\"Gujarat\",\"Bihar\",\"Gujarat\",\"Chhattisgarh\",\"Maharashtra\",\"Karnataka\",\"Rajasthan\",\"Bihar\",\"Gujarat\",\"Rajasthan\",\"Chhattisgarh\",\"Gujarat\",\"Madhya Pradesh\",\"Gujarat\",\"Bihar\",\"Bihar\",\"Uttar Pradesh\",\"Gujarat\",\"Bihar\",\"Karnataka\",\"Karnataka\",\"Karnataka\",\"Gujarat\",\"Rajasthan\",\"Rajasthan\",\"Chhattisgarh\",\"Gujarat\",\"Uttarakhand\",\"Gujarat\",\"Gujarat\",\"Bihar\",\"NCT OF Delhi\",\"Bihar\",\"Assam\",\"Andhra Pradesh\",\"Karnataka\",\"Karnataka\",\"Bihar\",\"Uttarakhand\",\"Bihar\",\"Karnataka\",\"Andhra Pradesh\",\"Andhra Pradesh\",\"Andhra Pradesh\",\"Gujarat\",\"Gujarat\",\"Rajasthan\",\"Bihar\",\"Gujarat\",\"Gujarat\",\"Bihar\",\"Madhya Pradesh\",\"Gujarat\",\"Bihar\",\"Gujarat\",\"Jharkhand\",\"Bihar\",\"Assam\",\"Bihar\",\"Rajasthan\",\"Rajasthan\",\"Bihar\",\"Karnataka\",\"Madhya Pradesh\",\"Gujarat\",\"Bihar\",\"Gujarat\",\"Karnataka\",\"Karnataka\",\"Himachal Pradesh\",\"Karnataka\",\"\",\"\",\"\",\"\",\"\",\"\",\"\",\"\",\"\",\"\",\"\",\"\",\"\",\"\",\"\"],\"values\":[27.472258506017834,7.099582909380459,6.813104940674908,0.0050264990748116745,1.8136052240264822,34.53504755705737,30.464132121501414,10.122284685374055,7.359151809885711,11.121876718011436,27.51999322609937,30.425531191106337,15.273412407964237,4.256170905794566,8.661785064967564,17.848826677209622,12.683699460708281,13.888731922658677,9.381241693180003,0.12796599828533428,11.417345151538855,41.26689896520581,15.476883909414575,8.95555575724023,48.024294043059065,26.721446101043668,5.767569870680223,21.081113177129335,50.55161599888909,42.91630853047354,16.577519273253948,23.123768646525427,17.1069220312226,12.264625109701122,4.454296765752586,8.16996818228472,6.138799140363449,32.33148961776561,8.222779801953639,57.80464439223564,22.673171785153407,0.14888231579962552,43.47546675426267,15.344438487513374,31.456261206150575,9.855264777775375,6.293481056606575,3.1087268368409693,17.19161702130837,10.239460437507086,2.484371558134768,14.047480125446727,14.80601470809767,2.2098941567828545,4.981838212543882,27.185476791922692,5.483946217719959,7.7004612279949205,35.01840696368122,29.63204730583895,29.838039012996585,17.394921225092368,13.05436426775048,14.723575377989206,15.699120101488756,13.158505957458816,2.075961653657404,7.122183753863004,11.963948234616812,22.171972699818692,10.564961667614426,10.677937314641827,22.374016472853597,26.535948452924124,19.192036587487166,38.024658786282664,40.923428154127436,2.797973812074339,15.17392508103445,7.147504011796846,2.671639601885806,14.784553889745144,34.92555242721968,24.542782450370126,14.427934314021307,56.34096483437004,15.979275784097485,2.76079431452384,10.379323729836965,11.486745238365126,26.101520335516494,8.359143194506874,4.694367052044251,10.538999978810121,64.5389022054229,45.014878519342076,8.363745929716243,36.63378311460409,7.122167270780788,22.178314664839572,17.41272249664124,3.1173968987227463,81.2605074707237,41.35185623928996,214.25854455829798,10.08712529927217,684.3379039975716,24.771874306526954,43.499269010196855,157.4934280387111,141.31950486233313,90.45349354592253,13.05436426775048,165.91957017644515,93.46792452936263,3.1087268368409693,57.19037966349991],\"type\":\"treemap\"}],                        {\"template\":{\"data\":{\"histogram2dcontour\":[{\"type\":\"histogram2dcontour\",\"colorbar\":{\"outlinewidth\":0,\"ticks\":\"\"},\"colorscale\":[[0.0,\"#0d0887\"],[0.1111111111111111,\"#46039f\"],[0.2222222222222222,\"#7201a8\"],[0.3333333333333333,\"#9c179e\"],[0.4444444444444444,\"#bd3786\"],[0.5555555555555556,\"#d8576b\"],[0.6666666666666666,\"#ed7953\"],[0.7777777777777778,\"#fb9f3a\"],[0.8888888888888888,\"#fdca26\"],[1.0,\"#f0f921\"]]}],\"choropleth\":[{\"type\":\"choropleth\",\"colorbar\":{\"outlinewidth\":0,\"ticks\":\"\"}}],\"histogram2d\":[{\"type\":\"histogram2d\",\"colorbar\":{\"outlinewidth\":0,\"ticks\":\"\"},\"colorscale\":[[0.0,\"#0d0887\"],[0.1111111111111111,\"#46039f\"],[0.2222222222222222,\"#7201a8\"],[0.3333333333333333,\"#9c179e\"],[0.4444444444444444,\"#bd3786\"],[0.5555555555555556,\"#d8576b\"],[0.6666666666666666,\"#ed7953\"],[0.7777777777777778,\"#fb9f3a\"],[0.8888888888888888,\"#fdca26\"],[1.0,\"#f0f921\"]]}],\"heatmap\":[{\"type\":\"heatmap\",\"colorbar\":{\"outlinewidth\":0,\"ticks\":\"\"},\"colorscale\":[[0.0,\"#0d0887\"],[0.1111111111111111,\"#46039f\"],[0.2222222222222222,\"#7201a8\"],[0.3333333333333333,\"#9c179e\"],[0.4444444444444444,\"#bd3786\"],[0.5555555555555556,\"#d8576b\"],[0.6666666666666666,\"#ed7953\"],[0.7777777777777778,\"#fb9f3a\"],[0.8888888888888888,\"#fdca26\"],[1.0,\"#f0f921\"]]}],\"heatmapgl\":[{\"type\":\"heatmapgl\",\"colorbar\":{\"outlinewidth\":0,\"ticks\":\"\"},\"colorscale\":[[0.0,\"#0d0887\"],[0.1111111111111111,\"#46039f\"],[0.2222222222222222,\"#7201a8\"],[0.3333333333333333,\"#9c179e\"],[0.4444444444444444,\"#bd3786\"],[0.5555555555555556,\"#d8576b\"],[0.6666666666666666,\"#ed7953\"],[0.7777777777777778,\"#fb9f3a\"],[0.8888888888888888,\"#fdca26\"],[1.0,\"#f0f921\"]]}],\"contourcarpet\":[{\"type\":\"contourcarpet\",\"colorbar\":{\"outlinewidth\":0,\"ticks\":\"\"}}],\"contour\":[{\"type\":\"contour\",\"colorbar\":{\"outlinewidth\":0,\"ticks\":\"\"},\"colorscale\":[[0.0,\"#0d0887\"],[0.1111111111111111,\"#46039f\"],[0.2222222222222222,\"#7201a8\"],[0.3333333333333333,\"#9c179e\"],[0.4444444444444444,\"#bd3786\"],[0.5555555555555556,\"#d8576b\"],[0.6666666666666666,\"#ed7953\"],[0.7777777777777778,\"#fb9f3a\"],[0.8888888888888888,\"#fdca26\"],[1.0,\"#f0f921\"]]}],\"surface\":[{\"type\":\"surface\",\"colorbar\":{\"outlinewidth\":0,\"ticks\":\"\"},\"colorscale\":[[0.0,\"#0d0887\"],[0.1111111111111111,\"#46039f\"],[0.2222222222222222,\"#7201a8\"],[0.3333333333333333,\"#9c179e\"],[0.4444444444444444,\"#bd3786\"],[0.5555555555555556,\"#d8576b\"],[0.6666666666666666,\"#ed7953\"],[0.7777777777777778,\"#fb9f3a\"],[0.8888888888888888,\"#fdca26\"],[1.0,\"#f0f921\"]]}],\"mesh3d\":[{\"type\":\"mesh3d\",\"colorbar\":{\"outlinewidth\":0,\"ticks\":\"\"}}],\"scatter\":[{\"fillpattern\":{\"fillmode\":\"overlay\",\"size\":10,\"solidity\":0.2},\"type\":\"scatter\"}],\"parcoords\":[{\"type\":\"parcoords\",\"line\":{\"colorbar\":{\"outlinewidth\":0,\"ticks\":\"\"}}}],\"scatterpolargl\":[{\"type\":\"scatterpolargl\",\"marker\":{\"colorbar\":{\"outlinewidth\":0,\"ticks\":\"\"}}}],\"bar\":[{\"error_x\":{\"color\":\"#2a3f5f\"},\"error_y\":{\"color\":\"#2a3f5f\"},\"marker\":{\"line\":{\"color\":\"#E5ECF6\",\"width\":0.5},\"pattern\":{\"fillmode\":\"overlay\",\"size\":10,\"solidity\":0.2}},\"type\":\"bar\"}],\"scattergeo\":[{\"type\":\"scattergeo\",\"marker\":{\"colorbar\":{\"outlinewidth\":0,\"ticks\":\"\"}}}],\"scatterpolar\":[{\"type\":\"scatterpolar\",\"marker\":{\"colorbar\":{\"outlinewidth\":0,\"ticks\":\"\"}}}],\"histogram\":[{\"marker\":{\"pattern\":{\"fillmode\":\"overlay\",\"size\":10,\"solidity\":0.2}},\"type\":\"histogram\"}],\"scattergl\":[{\"type\":\"scattergl\",\"marker\":{\"colorbar\":{\"outlinewidth\":0,\"ticks\":\"\"}}}],\"scatter3d\":[{\"type\":\"scatter3d\",\"line\":{\"colorbar\":{\"outlinewidth\":0,\"ticks\":\"\"}},\"marker\":{\"colorbar\":{\"outlinewidth\":0,\"ticks\":\"\"}}}],\"scattermapbox\":[{\"type\":\"scattermapbox\",\"marker\":{\"colorbar\":{\"outlinewidth\":0,\"ticks\":\"\"}}}],\"scatterternary\":[{\"type\":\"scatterternary\",\"marker\":{\"colorbar\":{\"outlinewidth\":0,\"ticks\":\"\"}}}],\"scattercarpet\":[{\"type\":\"scattercarpet\",\"marker\":{\"colorbar\":{\"outlinewidth\":0,\"ticks\":\"\"}}}],\"carpet\":[{\"aaxis\":{\"endlinecolor\":\"#2a3f5f\",\"gridcolor\":\"white\",\"linecolor\":\"white\",\"minorgridcolor\":\"white\",\"startlinecolor\":\"#2a3f5f\"},\"baxis\":{\"endlinecolor\":\"#2a3f5f\",\"gridcolor\":\"white\",\"linecolor\":\"white\",\"minorgridcolor\":\"white\",\"startlinecolor\":\"#2a3f5f\"},\"type\":\"carpet\"}],\"table\":[{\"cells\":{\"fill\":{\"color\":\"#EBF0F8\"},\"line\":{\"color\":\"white\"}},\"header\":{\"fill\":{\"color\":\"#C8D4E3\"},\"line\":{\"color\":\"white\"}},\"type\":\"table\"}],\"barpolar\":[{\"marker\":{\"line\":{\"color\":\"#E5ECF6\",\"width\":0.5},\"pattern\":{\"fillmode\":\"overlay\",\"size\":10,\"solidity\":0.2}},\"type\":\"barpolar\"}],\"pie\":[{\"automargin\":true,\"type\":\"pie\"}]},\"layout\":{\"autotypenumbers\":\"strict\",\"colorway\":[\"#636efa\",\"#EF553B\",\"#00cc96\",\"#ab63fa\",\"#FFA15A\",\"#19d3f3\",\"#FF6692\",\"#B6E880\",\"#FF97FF\",\"#FECB52\"],\"font\":{\"color\":\"#2a3f5f\"},\"hovermode\":\"closest\",\"hoverlabel\":{\"align\":\"left\"},\"paper_bgcolor\":\"white\",\"plot_bgcolor\":\"#E5ECF6\",\"polar\":{\"bgcolor\":\"#E5ECF6\",\"angularaxis\":{\"gridcolor\":\"white\",\"linecolor\":\"white\",\"ticks\":\"\"},\"radialaxis\":{\"gridcolor\":\"white\",\"linecolor\":\"white\",\"ticks\":\"\"}},\"ternary\":{\"bgcolor\":\"#E5ECF6\",\"aaxis\":{\"gridcolor\":\"white\",\"linecolor\":\"white\",\"ticks\":\"\"},\"baxis\":{\"gridcolor\":\"white\",\"linecolor\":\"white\",\"ticks\":\"\"},\"caxis\":{\"gridcolor\":\"white\",\"linecolor\":\"white\",\"ticks\":\"\"}},\"coloraxis\":{\"colorbar\":{\"outlinewidth\":0,\"ticks\":\"\"}},\"colorscale\":{\"sequential\":[[0.0,\"#0d0887\"],[0.1111111111111111,\"#46039f\"],[0.2222222222222222,\"#7201a8\"],[0.3333333333333333,\"#9c179e\"],[0.4444444444444444,\"#bd3786\"],[0.5555555555555556,\"#d8576b\"],[0.6666666666666666,\"#ed7953\"],[0.7777777777777778,\"#fb9f3a\"],[0.8888888888888888,\"#fdca26\"],[1.0,\"#f0f921\"]],\"sequentialminus\":[[0.0,\"#0d0887\"],[0.1111111111111111,\"#46039f\"],[0.2222222222222222,\"#7201a8\"],[0.3333333333333333,\"#9c179e\"],[0.4444444444444444,\"#bd3786\"],[0.5555555555555556,\"#d8576b\"],[0.6666666666666666,\"#ed7953\"],[0.7777777777777778,\"#fb9f3a\"],[0.8888888888888888,\"#fdca26\"],[1.0,\"#f0f921\"]],\"diverging\":[[0,\"#8e0152\"],[0.1,\"#c51b7d\"],[0.2,\"#de77ae\"],[0.3,\"#f1b6da\"],[0.4,\"#fde0ef\"],[0.5,\"#f7f7f7\"],[0.6,\"#e6f5d0\"],[0.7,\"#b8e186\"],[0.8,\"#7fbc41\"],[0.9,\"#4d9221\"],[1,\"#276419\"]]},\"xaxis\":{\"gridcolor\":\"white\",\"linecolor\":\"white\",\"ticks\":\"\",\"title\":{\"standoff\":15},\"zerolinecolor\":\"white\",\"automargin\":true,\"zerolinewidth\":2},\"yaxis\":{\"gridcolor\":\"white\",\"linecolor\":\"white\",\"ticks\":\"\",\"title\":{\"standoff\":15},\"zerolinecolor\":\"white\",\"automargin\":true,\"zerolinewidth\":2},\"scene\":{\"xaxis\":{\"backgroundcolor\":\"#E5ECF6\",\"gridcolor\":\"white\",\"linecolor\":\"white\",\"showbackground\":true,\"ticks\":\"\",\"zerolinecolor\":\"white\",\"gridwidth\":2},\"yaxis\":{\"backgroundcolor\":\"#E5ECF6\",\"gridcolor\":\"white\",\"linecolor\":\"white\",\"showbackground\":true,\"ticks\":\"\",\"zerolinecolor\":\"white\",\"gridwidth\":2},\"zaxis\":{\"backgroundcolor\":\"#E5ECF6\",\"gridcolor\":\"white\",\"linecolor\":\"white\",\"showbackground\":true,\"ticks\":\"\",\"zerolinecolor\":\"white\",\"gridwidth\":2}},\"shapedefaults\":{\"line\":{\"color\":\"#2a3f5f\"}},\"annotationdefaults\":{\"arrowcolor\":\"#2a3f5f\",\"arrowhead\":0,\"arrowwidth\":1},\"geo\":{\"bgcolor\":\"white\",\"landcolor\":\"#E5ECF6\",\"subunitcolor\":\"white\",\"showland\":true,\"showlakes\":true,\"lakecolor\":\"white\"},\"title\":{\"x\":0.05},\"mapbox\":{\"style\":\"light\"}}},\"legend\":{\"tracegroupgap\":0},\"margin\":{\"t\":50,\"l\":25,\"r\":25,\"b\":25}},                        {\"responsive\": true}                    ).then(function(){\n",
       "                            \n",
       "var gd = document.getElementById('d2567c44-73eb-491c-b9a0-2af63831e13a');\n",
       "var x = new MutationObserver(function (mutations, observer) {{\n",
       "        var display = window.getComputedStyle(gd).display;\n",
       "        if (!display || display === 'none') {{\n",
       "            console.log([gd, 'removed!']);\n",
       "            Plotly.purge(gd);\n",
       "            observer.disconnect();\n",
       "        }}\n",
       "}});\n",
       "\n",
       "// Listen for the removal of the full notebook cells\n",
       "var notebookContainer = gd.closest('#notebook-container');\n",
       "if (notebookContainer) {{\n",
       "    x.observe(notebookContainer, {childList: true});\n",
       "}}\n",
       "\n",
       "// Listen for the clearing of the current output cell\n",
       "var outputEl = gd.closest('.output');\n",
       "if (outputEl) {{\n",
       "    x.observe(outputEl, {childList: true});\n",
       "}}\n",
       "\n",
       "                        })                };                });            </script>        </div>"
      ]
     },
     "metadata": {},
     "output_type": "display_data"
    }
   ],
   "source": [
    "fig = px.treemap(\n",
    "    nota_in_top_3_df, \n",
    "    path = ['name_of_state_or_ut', 'constituency_name'], \n",
    "    values = 'mov',\n",
    "    # color='winning_party',\n",
    "    color = nota_in_top_3_df['winning_party'],\n",
    "    color_discrete_map = color_mapping\n",
    ")\n",
    "fig.update_layout(margin = dict(t=50, l=25, r=25, b=25))\n",
    "fig.show()"
   ]
  },
  {
   "cell_type": "code",
   "execution_count": 43,
   "id": "7a173fc8-842a-4860-a610-3ce737a07a71",
   "metadata": {},
   "outputs": [
    {
     "data": {
      "text/plain": [
       "<Axes: ylabel='Density'>"
      ]
     },
     "execution_count": 43,
     "metadata": {},
     "output_type": "execute_result"
    },
    {
     "data": {
      "image/png": "[encoded data removed]",
      "text/plain": [
       "<Figure size 640x480 with 1 Axes>"
      ]
     },
     "metadata": {},
     "output_type": "display_data"
    }
   ],
   "source": [
    "nota_in_top_3_df['mov'].plot.kde()"
   ]
  },
  {
   "cell_type": "code",
   "execution_count": 44,
   "id": "b1e895d3-1352-4bfa-923e-0ccd40775c3e",
   "metadata": {},
   "outputs": [
    {
     "data": {
      "text/plain": [
       "array([[<Axes: title={'center': 'mov'}>]], dtype=object)"
      ]
     },
     "execution_count": 44,
     "metadata": {},
     "output_type": "execute_result"
    },
    {
     "data": {
      "image/png": "[encoded data removed]",
      "text/plain": [
       "<Figure size 640x480 with 1 Axes>"
      ]
     },
     "metadata": {},
     "output_type": "display_data"
    }
   ],
   "source": [
    "nota_in_top_3_df.hist(column='mov', bins=25)"
   ]
  },
  {
   "cell_type": "markdown",
   "id": "0824ec50-7a76-4504-b02c-b130eef41ec3",
   "metadata": {},
   "source": [
    "#### Did NOTA change election potential"
   ]
  },
  {
   "cell_type": "code",
   "execution_count": 45,
   "id": "e6bf272f-8b56-4a87-97de-05447e1bf72e",
   "metadata": {},
   "outputs": [
    {
     "data": {
      "text/html": [
       "<div>\n",
       "<style scoped>\n",
       "    .dataframe tbody tr th:only-of-type {\n",
       "        vertical-align: middle;\n",
       "    }\n",
       "\n",
       "    .dataframe tbody tr th {\n",
       "        vertical-align: top;\n",
       "    }\n",
       "\n",
       "    .dataframe thead th {\n",
       "        text-align: right;\n",
       "    }\n",
       "</style>\n",
       "<table border=\"1\" class=\"dataframe\">\n",
       "  <thead>\n",
       "    <tr style=\"text-align: right;\">\n",
       "      <th></th>\n",
       "      <th>name_of_state_or_ut</th>\n",
       "      <th>state_ut_code</th>\n",
       "      <th>constituency_code</th>\n",
       "      <th>constituency_name</th>\n",
       "      <th>winner_votes</th>\n",
       "      <th>nota_votes</th>\n",
       "      <th>nota_position</th>\n",
       "      <th>runner_votes</th>\n",
       "      <th>mov</th>\n",
       "      <th>winning_party</th>\n",
       "    </tr>\n",
       "  </thead>\n",
       "  <tbody>\n",
       "    <tr>\n",
       "      <th>0</th>\n",
       "      <td>Karnataka</td>\n",
       "      <td>S10</td>\n",
       "      <td>27</td>\n",
       "      <td>Chikkballapur</td>\n",
       "      <td>822619</td>\n",
       "      <td>6596</td>\n",
       "      <td>3</td>\n",
       "      <td>659159</td>\n",
       "      <td>10.677937</td>\n",
       "      <td>Bharatiya Janata Party</td>\n",
       "    </tr>\n",
       "    <tr>\n",
       "      <th>1</th>\n",
       "      <td>Maharashtra</td>\n",
       "      <td>S13</td>\n",
       "      <td>29</td>\n",
       "      <td>MumbaiNorthCentral</td>\n",
       "      <td>445545</td>\n",
       "      <td>9749</td>\n",
       "      <td>3</td>\n",
       "      <td>429031</td>\n",
       "      <td>1.813605</td>\n",
       "      <td>Indian National Congress</td>\n",
       "    </tr>\n",
       "    <tr>\n",
       "      <th>2</th>\n",
       "      <td>Karnataka</td>\n",
       "      <td>S10</td>\n",
       "      <td>25</td>\n",
       "      <td>Bangalorecentral</td>\n",
       "      <td>658915</td>\n",
       "      <td>12126</td>\n",
       "      <td>3</td>\n",
       "      <td>626208</td>\n",
       "      <td>2.484372</td>\n",
       "      <td>Bharatiya Janata Party</td>\n",
       "    </tr>\n",
       "    <tr>\n",
       "      <th>3</th>\n",
       "      <td>NCT OF Delhi</td>\n",
       "      <td>U05</td>\n",
       "      <td>6</td>\n",
       "      <td>WestDelhi</td>\n",
       "      <td>842658</td>\n",
       "      <td>8699</td>\n",
       "      <td>3</td>\n",
       "      <td>643645</td>\n",
       "      <td>13.054364</td>\n",
       "      <td>Bharatiya Janata Party</td>\n",
       "    </tr>\n",
       "    <tr>\n",
       "      <th>4</th>\n",
       "      <td>Maharashtra</td>\n",
       "      <td>S13</td>\n",
       "      <td>25</td>\n",
       "      <td>Thane</td>\n",
       "      <td>734231</td>\n",
       "      <td>17901</td>\n",
       "      <td>3</td>\n",
       "      <td>517220</td>\n",
       "      <td>16.577519</td>\n",
       "      <td>Shiv Sena</td>\n",
       "    </tr>\n",
       "  </tbody>\n",
       "</table>\n",
       "</div>"
      ],
      "text/plain": [
       "  name_of_state_or_ut state_ut_code  constituency_code   constituency_name  \\\n",
       "0           Karnataka           S10                 27       Chikkballapur   \n",
       "1         Maharashtra           S13                 29  MumbaiNorthCentral   \n",
       "2           Karnataka           S10                 25    Bangalorecentral   \n",
       "3        NCT OF Delhi           U05                  6           WestDelhi   \n",
       "4         Maharashtra           S13                 25               Thane   \n",
       "\n",
       "   winner_votes  nota_votes  nota_position  runner_votes        mov  \\\n",
       "0        822619        6596              3        659159  10.677937   \n",
       "1        445545        9749              3        429031   1.813605   \n",
       "2        658915       12126              3        626208   2.484372   \n",
       "3        842658        8699              3        643645  13.054364   \n",
       "4        734231       17901              3        517220  16.577519   \n",
       "\n",
       "              winning_party  \n",
       "0    Bharatiya Janata Party  \n",
       "1  Indian National Congress  \n",
       "2    Bharatiya Janata Party  \n",
       "3    Bharatiya Janata Party  \n",
       "4                 Shiv Sena  "
      ]
     },
     "execution_count": 45,
     "metadata": {},
     "output_type": "execute_result"
    }
   ],
   "source": [
    "nota_in_top_3_df.head()"
   ]
  },
  {
   "cell_type": "code",
   "execution_count": 78,
   "id": "54f46144-b58b-46f0-800f-e1abdce0c4b5",
   "metadata": {},
   "outputs": [],
   "source": [
    "nota_game_changer_df = nota_in_top_3_df[\n",
    "    nota_in_top_3_df['nota_votes'] > (nota_in_top_3_df['winner_votes'] - nota_in_top_3_df['runner_votes']) \n",
    "]"
   ]
  },
  {
   "cell_type": "code",
   "execution_count": 79,
   "id": "fadfcc90-999c-4c4f-ab24-66da1c4c7133",
   "metadata": {},
   "outputs": [
    {
     "data": {
      "text/html": [
       "<div>\n",
       "<style scoped>\n",
       "    .dataframe tbody tr th:only-of-type {\n",
       "        vertical-align: middle;\n",
       "    }\n",
       "\n",
       "    .dataframe tbody tr th {\n",
       "        vertical-align: top;\n",
       "    }\n",
       "\n",
       "    .dataframe thead th {\n",
       "        text-align: right;\n",
       "    }\n",
       "</style>\n",
       "<table border=\"1\" class=\"dataframe\">\n",
       "  <thead>\n",
       "    <tr style=\"text-align: right;\">\n",
       "      <th></th>\n",
       "      <th>name_of_state_or_ut</th>\n",
       "      <th>state_ut_code</th>\n",
       "      <th>constituency_code</th>\n",
       "      <th>constituency_name</th>\n",
       "      <th>winner_votes</th>\n",
       "      <th>nota_votes</th>\n",
       "      <th>nota_position</th>\n",
       "      <th>runner_votes</th>\n",
       "      <th>mov</th>\n",
       "      <th>winning_party</th>\n",
       "    </tr>\n",
       "  </thead>\n",
       "  <tbody>\n",
       "    <tr>\n",
       "      <th>7</th>\n",
       "      <td>Maharashtra</td>\n",
       "      <td>S13</td>\n",
       "      <td>27</td>\n",
       "      <td>MumbaiNorthWest</td>\n",
       "      <td>452644</td>\n",
       "      <td>15161</td>\n",
       "      <td>3</td>\n",
       "      <td>452596</td>\n",
       "      <td>0.005026</td>\n",
       "      <td>Shiv Sena</td>\n",
       "    </tr>\n",
       "    <tr>\n",
       "      <th>19</th>\n",
       "      <td>Rajasthan</td>\n",
       "      <td>S20</td>\n",
       "      <td>6</td>\n",
       "      <td>JAIPURRURAL</td>\n",
       "      <td>617877</td>\n",
       "      <td>7519</td>\n",
       "      <td>3</td>\n",
       "      <td>616262</td>\n",
       "      <td>0.127966</td>\n",
       "      <td>Bharatiya Janata Party</td>\n",
       "    </tr>\n",
       "    <tr>\n",
       "      <th>54</th>\n",
       "      <td>Bihar</td>\n",
       "      <td>S04</td>\n",
       "      <td>4</td>\n",
       "      <td>Sheohar</td>\n",
       "      <td>476612</td>\n",
       "      <td>30168</td>\n",
       "      <td>3</td>\n",
       "      <td>447469</td>\n",
       "      <td>2.760794</td>\n",
       "      <td>Janata Dal  (United)</td>\n",
       "    </tr>\n",
       "    <tr>\n",
       "      <th>72</th>\n",
       "      <td>Chhattisgarh</td>\n",
       "      <td>S26</td>\n",
       "      <td>11</td>\n",
       "      <td>KANKER</td>\n",
       "      <td>597624</td>\n",
       "      <td>18669</td>\n",
       "      <td>3</td>\n",
       "      <td>595740</td>\n",
       "      <td>0.148882</td>\n",
       "      <td>Bharatiya Janata Party</td>\n",
       "    </tr>\n",
       "  </tbody>\n",
       "</table>\n",
       "</div>"
      ],
      "text/plain": [
       "   name_of_state_or_ut state_ut_code  constituency_code constituency_name  \\\n",
       "7          Maharashtra           S13                 27   MumbaiNorthWest   \n",
       "19           Rajasthan           S20                  6       JAIPURRURAL   \n",
       "54               Bihar           S04                  4           Sheohar   \n",
       "72        Chhattisgarh           S26                 11            KANKER   \n",
       "\n",
       "    winner_votes  nota_votes  nota_position  runner_votes       mov  \\\n",
       "7         452644       15161              3        452596  0.005026   \n",
       "19        617877        7519              3        616262  0.127966   \n",
       "54        476612       30168              3        447469  2.760794   \n",
       "72        597624       18669              3        595740  0.148882   \n",
       "\n",
       "             winning_party  \n",
       "7                Shiv Sena  \n",
       "19  Bharatiya Janata Party  \n",
       "54    Janata Dal  (United)  \n",
       "72  Bharatiya Janata Party  "
      ]
     },
     "execution_count": 79,
     "metadata": {},
     "output_type": "execute_result"
    }
   ],
   "source": [
    "nota_game_changer_df"
   ]
  },
  {
   "cell_type": "code",
   "execution_count": 81,
   "id": "498fe311-1c57-4b2c-a28f-05420b1084d1",
   "metadata": {},
   "outputs": [
    {
     "data": {
      "application/vnd.plotly.v1+json": {
       "config": {
        "plotlyServerURL": "https://plot.ly"
       },
       "data": [
        {
         "branchvalues": "total",
         "customdata": [
          [
           "Bharatiya Janata Party"
          ],
          [
           "Janata Dal  (United)"
          ],
          [
           "Shiv Sena"
          ],
          [
           "Bharatiya Janata Party"
          ],
          [
           "Janata Dal  (United)"
          ],
          [
           "Bharatiya Janata Party"
          ],
          [
           "Shiv Sena"
          ],
          [
           "Bharatiya Janata Party"
          ]
         ],
         "domain": {
          "x": [
           0,
           1
          ],
          "y": [
           0,
           1
          ]
         },
         "hovertemplate": "labels=%{label}<br>mov=%{value}<br>parent=%{parent}<br>id=%{id}<br>winning_party=%{customdata[0]}<extra></extra>",
         "ids": [
          "Chhattisgarh/KANKER",
          "Bihar/Sheohar",
          "Maharashtra/MumbaiNorthWest",
          "Rajasthan/JAIPURRURAL",
          "Bihar",
          "Chhattisgarh",
          "Maharashtra",
          "Rajasthan"
         ],
         "labels": [
          "KANKER",
          "Sheohar",
          "MumbaiNorthWest",
          "JAIPURRURAL",
          "Bihar",
          "Chhattisgarh",
          "Maharashtra",
          "Rajasthan"
         ],
         "marker": {
          "colors": [
           "#ffa15a",
           "#ef553b",
           "#FF4433",
           "#ffa15a",
           "#ef553b",
           "#ffa15a",
           "#FF4433",
           "#ffa15a"
          ]
         },
         "name": "",
         "parents": [
          "Chhattisgarh",
          "Bihar",
          "Maharashtra",
          "Rajasthan",
          "",
          "",
          "",
          ""
         ],
         "type": "treemap",
         "values": [
          0.14888231579962552,
          2.76079431452384,
          0.0050264990748116745,
          0.12796599828533428,
          2.76079431452384,
          0.14888231579962552,
          0.0050264990748116745,
          0.12796599828533428
         ]
        }
       ],
       "layout": {
        "autosize": true,
        "legend": {
         "tracegroupgap": 0
        },
        "margin": {
         "b": 25,
         "l": 25,
         "r": 25,
         "t": 50
        },
        "template": {
         "data": {
          "bar": [
           {
            "error_x": {
             "color": "#2a3f5f"
            },
            "error_y": {
             "color": "#2a3f5f"
            },
            "marker": {
             "line": {
              "color": "#E5ECF6",
              "width": 0.5
             },
             "pattern": {
              "fillmode": "overlay",
              "size": 10,
              "solidity": 0.2
             }
            },
            "type": "bar"
           }
          ],
          "barpolar": [
           {
            "marker": {
             "line": {
              "color": "#E5ECF6",
              "width": 0.5
             },
             "pattern": {
              "fillmode": "overlay",
              "size": 10,
              "solidity": 0.2
             }
            },
            "type": "barpolar"
           }
          ],
          "carpet": [
           {
            "aaxis": {
             "endlinecolor": "#2a3f5f",
             "gridcolor": "white",
             "linecolor": "white",
             "minorgridcolor": "white",
             "startlinecolor": "#2a3f5f"
            },
            "baxis": {
             "endlinecolor": "#2a3f5f",
             "gridcolor": "white",
             "linecolor": "white",
             "minorgridcolor": "white",
             "startlinecolor": "#2a3f5f"
            },
            "type": "carpet"
           }
          ],
          "choropleth": [
           {
            "colorbar": {
             "outlinewidth": 0,
             "ticks": ""
            },
            "type": "choropleth"
           }
          ],
          "contour": [
           {
            "colorbar": {
             "outlinewidth": 0,
             "ticks": ""
            },
            "colorscale": [
             [
              0,
              "#0d0887"
             ],
             [
              0.1111111111111111,
              "#46039f"
             ],
             [
              0.2222222222222222,
              "#7201a8"
             ],
             [
              0.3333333333333333,
              "#9c179e"
             ],
             [
              0.4444444444444444,
              "#bd3786"
             ],
             [
              0.5555555555555556,
              "#d8576b"
             ],
             [
              0.6666666666666666,
              "#ed7953"
             ],
             [
              0.7777777777777778,
              "#fb9f3a"
             ],
             [
              0.8888888888888888,
              "#fdca26"
             ],
             [
              1,
              "#f0f921"
             ]
            ],
            "type": "contour"
           }
          ],
          "contourcarpet": [
           {
            "colorbar": {
             "outlinewidth": 0,
             "ticks": ""
            },
            "type": "contourcarpet"
           }
          ],
          "heatmap": [
           {
            "colorbar": {
             "outlinewidth": 0,
             "ticks": ""
            },
            "colorscale": [
             [
              0,
              "#0d0887"
             ],
             [
              0.1111111111111111,
              "#46039f"
             ],
             [
              0.2222222222222222,
              "#7201a8"
             ],
             [
              0.3333333333333333,
              "#9c179e"
             ],
             [
              0.4444444444444444,
              "#bd3786"
             ],
             [
              0.5555555555555556,
              "#d8576b"
             ],
             [
              0.6666666666666666,
              "#ed7953"
             ],
             [
              0.7777777777777778,
              "#fb9f3a"
             ],
             [
              0.8888888888888888,
              "#fdca26"
             ],
             [
              1,
              "#f0f921"
             ]
            ],
            "type": "heatmap"
           }
          ],
          "heatmapgl": [
           {
            "colorbar": {
             "outlinewidth": 0,
             "ticks": ""
            },
            "colorscale": [
             [
              0,
              "#0d0887"
             ],
             [
              0.1111111111111111,
              "#46039f"
             ],
             [
              0.2222222222222222,
              "#7201a8"
             ],
             [
              0.3333333333333333,
              "#9c179e"
             ],
             [
              0.4444444444444444,
              "#bd3786"
             ],
             [
              0.5555555555555556,
              "#d8576b"
             ],
             [
              0.6666666666666666,
              "#ed7953"
             ],
             [
              0.7777777777777778,
              "#fb9f3a"
             ],
             [
              0.8888888888888888,
              "#fdca26"
             ],
             [
              1,
              "#f0f921"
             ]
            ],
            "type": "heatmapgl"
           }
          ],
          "histogram": [
           {
            "marker": {
             "pattern": {
              "fillmode": "overlay",
              "size": 10,
              "solidity": 0.2
             }
            },
            "type": "histogram"
           }
          ],
          "histogram2d": [
           {
            "colorbar": {
             "outlinewidth": 0,
             "ticks": ""
            },
            "colorscale": [
             [
              0,
              "#0d0887"
             ],
             [
              0.1111111111111111,
              "#46039f"
             ],
             [
              0.2222222222222222,
              "#7201a8"
             ],
             [
              0.3333333333333333,
              "#9c179e"
             ],
             [
              0.4444444444444444,
              "#bd3786"
             ],
             [
              0.5555555555555556,
              "#d8576b"
             ],
             [
              0.6666666666666666,
              "#ed7953"
             ],
             [
              0.7777777777777778,
              "#fb9f3a"
             ],
             [
              0.8888888888888888,
              "#fdca26"
             ],
             [
              1,
              "#f0f921"
             ]
            ],
            "type": "histogram2d"
           }
          ],
          "histogram2dcontour": [
           {
            "colorbar": {
             "outlinewidth": 0,
             "ticks": ""
            },
            "colorscale": [
             [
              0,
              "#0d0887"
             ],
             [
              0.1111111111111111,
              "#46039f"
             ],
             [
              0.2222222222222222,
              "#7201a8"
             ],
             [
              0.3333333333333333,
              "#9c179e"
             ],
             [
              0.4444444444444444,
              "#bd3786"
             ],
             [
              0.5555555555555556,
              "#d8576b"
             ],
             [
              0.6666666666666666,
              "#ed7953"
             ],
             [
              0.7777777777777778,
              "#fb9f3a"
             ],
             [
              0.8888888888888888,
              "#fdca26"
             ],
             [
              1,
              "#f0f921"
             ]
            ],
            "type": "histogram2dcontour"
           }
          ],
          "mesh3d": [
           {
            "colorbar": {
             "outlinewidth": 0,
             "ticks": ""
            },
            "type": "mesh3d"
           }
          ],
          "parcoords": [
           {
            "line": {
             "colorbar": {
              "outlinewidth": 0,
              "ticks": ""
             }
            },
            "type": "parcoords"
           }
          ],
          "pie": [
           {
            "automargin": true,
            "type": "pie"
           }
          ],
          "scatter": [
           {
            "fillpattern": {
             "fillmode": "overlay",
             "size": 10,
             "solidity": 0.2
            },
            "type": "scatter"
           }
          ],
          "scatter3d": [
           {
            "line": {
             "colorbar": {
              "outlinewidth": 0,
              "ticks": ""
             }
            },
            "marker": {
             "colorbar": {
              "outlinewidth": 0,
              "ticks": ""
             }
            },
            "type": "scatter3d"
           }
          ],
          "scattercarpet": [
           {
            "marker": {
             "colorbar": {
              "outlinewidth": 0,
              "ticks": ""
             }
            },
            "type": "scattercarpet"
           }
          ],
          "scattergeo": [
           {
            "marker": {
             "colorbar": {
              "outlinewidth": 0,
              "ticks": ""
             }
            },
            "type": "scattergeo"
           }
          ],
          "scattergl": [
           {
            "marker": {
             "colorbar": {
              "outlinewidth": 0,
              "ticks": ""
             }
            },
            "type": "scattergl"
           }
          ],
          "scattermapbox": [
           {
            "marker": {
             "colorbar": {
              "outlinewidth": 0,
              "ticks": ""
             }
            },
            "type": "scattermapbox"
           }
          ],
          "scatterpolar": [
           {
            "marker": {
             "colorbar": {
              "outlinewidth": 0,
              "ticks": ""
             }
            },
            "type": "scatterpolar"
           }
          ],
          "scatterpolargl": [
           {
            "marker": {
             "colorbar": {
              "outlinewidth": 0,
              "ticks": ""
             }
            },
            "type": "scatterpolargl"
           }
          ],
          "scatterternary": [
           {
            "marker": {
             "colorbar": {
              "outlinewidth": 0,
              "ticks": ""
             }
            },
            "type": "scatterternary"
           }
          ],
          "surface": [
           {
            "colorbar": {
             "outlinewidth": 0,
             "ticks": ""
            },
            "colorscale": [
             [
              0,
              "#0d0887"
             ],
             [
              0.1111111111111111,
              "#46039f"
             ],
             [
              0.2222222222222222,
              "#7201a8"
             ],
             [
              0.3333333333333333,
              "#9c179e"
             ],
             [
              0.4444444444444444,
              "#bd3786"
             ],
             [
              0.5555555555555556,
              "#d8576b"
             ],
             [
              0.6666666666666666,
              "#ed7953"
             ],
             [
              0.7777777777777778,
              "#fb9f3a"
             ],
             [
              0.8888888888888888,
              "#fdca26"
             ],
             [
              1,
              "#f0f921"
             ]
            ],
            "type": "surface"
           }
          ],
          "table": [
           {
            "cells": {
             "fill": {
              "color": "#EBF0F8"
             },
             "line": {
              "color": "white"
             }
            },
            "header": {
             "fill": {
              "color": "#C8D4E3"
             },
             "line": {
              "color": "white"
             }
            },
            "type": "table"
           }
          ]
         },
         "layout": {
          "annotationdefaults": {
           "arrowcolor": "#2a3f5f",
           "arrowhead": 0,
           "arrowwidth": 1
          },
          "autotypenumbers": "strict",
          "coloraxis": {
           "colorbar": {
            "outlinewidth": 0,
            "ticks": ""
           }
          },
          "colorscale": {
           "diverging": [
            [
             0,
             "#8e0152"
            ],
            [
             0.1,
             "#c51b7d"
            ],
            [
             0.2,
             "#de77ae"
            ],
            [
             0.3,
             "#f1b6da"
            ],
            [
             0.4,
             "#fde0ef"
            ],
            [
             0.5,
             "#f7f7f7"
            ],
            [
             0.6,
             "#e6f5d0"
            ],
            [
             0.7,
             "#b8e186"
            ],
            [
             0.8,
             "#7fbc41"
            ],
            [
             0.9,
             "#4d9221"
            ],
            [
             1,
             "#276419"
            ]
           ],
           "sequential": [
            [
             0,
             "#0d0887"
            ],
            [
             0.1111111111111111,
             "#46039f"
            ],
            [
             0.2222222222222222,
             "#7201a8"
            ],
            [
             0.3333333333333333,
             "#9c179e"
            ],
            [
             0.4444444444444444,
             "#bd3786"
            ],
            [
             0.5555555555555556,
             "#d8576b"
            ],
            [
             0.6666666666666666,
             "#ed7953"
            ],
            [
             0.7777777777777778,
             "#fb9f3a"
            ],
            [
             0.8888888888888888,
             "#fdca26"
            ],
            [
             1,
             "#f0f921"
            ]
           ],
           "sequentialminus": [
            [
             0,
             "#0d0887"
            ],
            [
             0.1111111111111111,
             "#46039f"
            ],
            [
             0.2222222222222222,
             "#7201a8"
            ],
            [
             0.3333333333333333,
             "#9c179e"
            ],
            [
             0.4444444444444444,
             "#bd3786"
            ],
            [
             0.5555555555555556,
             "#d8576b"
            ],
            [
             0.6666666666666666,
             "#ed7953"
            ],
            [
             0.7777777777777778,
             "#fb9f3a"
            ],
            [
             0.8888888888888888,
             "#fdca26"
            ],
            [
             1,
             "#f0f921"
            ]
           ]
          },
          "colorway": [
           "#636efa",
           "#EF553B",
           "#00cc96",
           "#ab63fa",
           "#FFA15A",
           "#19d3f3",
           "#FF6692",
           "#B6E880",
           "#FF97FF",
           "#FECB52"
          ],
          "font": {
           "color": "#2a3f5f"
          },
          "geo": {
           "bgcolor": "white",
           "lakecolor": "white",
           "landcolor": "#E5ECF6",
           "showlakes": true,
           "showland": true,
           "subunitcolor": "white"
          },
          "hoverlabel": {
           "align": "left"
          },
          "hovermode": "closest",
          "mapbox": {
           "style": "light"
          },
          "paper_bgcolor": "white",
          "plot_bgcolor": "#E5ECF6",
          "polar": {
           "angularaxis": {
            "gridcolor": "white",
            "linecolor": "white",
            "ticks": ""
           },
           "bgcolor": "#E5ECF6",
           "radialaxis": {
            "gridcolor": "white",
            "linecolor": "white",
            "ticks": ""
           }
          },
          "scene": {
           "xaxis": {
            "backgroundcolor": "#E5ECF6",
            "gridcolor": "white",
            "gridwidth": 2,
            "linecolor": "white",
            "showbackground": true,
            "ticks": "",
            "zerolinecolor": "white"
           },
           "yaxis": {
            "backgroundcolor": "#E5ECF6",
            "gridcolor": "white",
            "gridwidth": 2,
            "linecolor": "white",
            "showbackground": true,
            "ticks": "",
            "zerolinecolor": "white"
           },
           "zaxis": {
            "backgroundcolor": "#E5ECF6",
            "gridcolor": "white",
            "gridwidth": 2,
            "linecolor": "white",
            "showbackground": true,
            "ticks": "",
            "zerolinecolor": "white"
           }
          },
          "shapedefaults": {
           "line": {
            "color": "#2a3f5f"
           }
          },
          "ternary": {
           "aaxis": {
            "gridcolor": "white",
            "linecolor": "white",
            "ticks": ""
           },
           "baxis": {
            "gridcolor": "white",
            "linecolor": "white",
            "ticks": ""
           },
           "bgcolor": "#E5ECF6",
           "caxis": {
            "gridcolor": "white",
            "linecolor": "white",
            "ticks": ""
           }
          },
          "title": {
           "x": 0.05
          },
          "xaxis": {
           "automargin": true,
           "gridcolor": "white",
           "linecolor": "white",
           "ticks": "",
           "title": {
            "standoff": 15
           },
           "zerolinecolor": "white",
           "zerolinewidth": 2
          },
          "yaxis": {
           "automargin": true,
           "gridcolor": "white",
           "linecolor": "white",
           "ticks": "",
           "title": {
            "standoff": 15
           },
           "zerolinecolor": "white",
           "zerolinewidth": 2
          }
         }
        }
       }
      },
      "image/png": "[encoded data removed]",
      "text/html": [
       "<div>                            <div id=\"010e1e26-8122-4c17-b102-3985d528da5a\" class=\"plotly-graph-div\" style=\"height:525px; width:100%;\"></div>            <script type=\"text/javascript\">                require([\"plotly\"], function(Plotly) {                    window.PLOTLYENV=window.PLOTLYENV || {};                                    if (document.getElementById(\"010e1e26-8122-4c17-b102-3985d528da5a\")) {                    Plotly.newPlot(                        \"010e1e26-8122-4c17-b102-3985d528da5a\",                        [{\"branchvalues\":\"total\",\"customdata\":[[\"Bharatiya Janata Party\"],[\"Janata Dal  (United)\"],[\"Shiv Sena\"],[\"Bharatiya Janata Party\"],[\"Janata Dal  (United)\"],[\"Bharatiya Janata Party\"],[\"Shiv Sena\"],[\"Bharatiya Janata Party\"]],\"domain\":{\"x\":[0.0,1.0],\"y\":[0.0,1.0]},\"hovertemplate\":\"labels=%{label}\\u003cbr\\u003emov=%{value}\\u003cbr\\u003eparent=%{parent}\\u003cbr\\u003eid=%{id}\\u003cbr\\u003ewinning_party=%{customdata[0]}\\u003cextra\\u003e\\u003c\\u002fextra\\u003e\",\"ids\":[\"Chhattisgarh\\u002fKANKER\",\"Bihar\\u002fSheohar\",\"Maharashtra\\u002fMumbaiNorthWest\",\"Rajasthan\\u002fJAIPURRURAL\",\"Bihar\",\"Chhattisgarh\",\"Maharashtra\",\"Rajasthan\"],\"labels\":[\"KANKER\",\"Sheohar\",\"MumbaiNorthWest\",\"JAIPURRURAL\",\"Bihar\",\"Chhattisgarh\",\"Maharashtra\",\"Rajasthan\"],\"marker\":{\"colors\":[\"#ffa15a\",\"#ef553b\",\"#FF4433\",\"#ffa15a\",\"#ef553b\",\"#ffa15a\",\"#FF4433\",\"#ffa15a\"]},\"name\":\"\",\"parents\":[\"Chhattisgarh\",\"Bihar\",\"Maharashtra\",\"Rajasthan\",\"\",\"\",\"\",\"\"],\"values\":[0.14888231579962552,2.76079431452384,0.0050264990748116745,0.12796599828533428,2.76079431452384,0.14888231579962552,0.0050264990748116745,0.12796599828533428],\"type\":\"treemap\"}],                        {\"template\":{\"data\":{\"histogram2dcontour\":[{\"type\":\"histogram2dcontour\",\"colorbar\":{\"outlinewidth\":0,\"ticks\":\"\"},\"colorscale\":[[0.0,\"#0d0887\"],[0.1111111111111111,\"#46039f\"],[0.2222222222222222,\"#7201a8\"],[0.3333333333333333,\"#9c179e\"],[0.4444444444444444,\"#bd3786\"],[0.5555555555555556,\"#d8576b\"],[0.6666666666666666,\"#ed7953\"],[0.7777777777777778,\"#fb9f3a\"],[0.8888888888888888,\"#fdca26\"],[1.0,\"#f0f921\"]]}],\"choropleth\":[{\"type\":\"choropleth\",\"colorbar\":{\"outlinewidth\":0,\"ticks\":\"\"}}],\"histogram2d\":[{\"type\":\"histogram2d\",\"colorbar\":{\"outlinewidth\":0,\"ticks\":\"\"},\"colorscale\":[[0.0,\"#0d0887\"],[0.1111111111111111,\"#46039f\"],[0.2222222222222222,\"#7201a8\"],[0.3333333333333333,\"#9c179e\"],[0.4444444444444444,\"#bd3786\"],[0.5555555555555556,\"#d8576b\"],[0.6666666666666666,\"#ed7953\"],[0.7777777777777778,\"#fb9f3a\"],[0.8888888888888888,\"#fdca26\"],[1.0,\"#f0f921\"]]}],\"heatmap\":[{\"type\":\"heatmap\",\"colorbar\":{\"outlinewidth\":0,\"ticks\":\"\"},\"colorscale\":[[0.0,\"#0d0887\"],[0.1111111111111111,\"#46039f\"],[0.2222222222222222,\"#7201a8\"],[0.3333333333333333,\"#9c179e\"],[0.4444444444444444,\"#bd3786\"],[0.5555555555555556,\"#d8576b\"],[0.6666666666666666,\"#ed7953\"],[0.7777777777777778,\"#fb9f3a\"],[0.8888888888888888,\"#fdca26\"],[1.0,\"#f0f921\"]]}],\"heatmapgl\":[{\"type\":\"heatmapgl\",\"colorbar\":{\"outlinewidth\":0,\"ticks\":\"\"},\"colorscale\":[[0.0,\"#0d0887\"],[0.1111111111111111,\"#46039f\"],[0.2222222222222222,\"#7201a8\"],[0.3333333333333333,\"#9c179e\"],[0.4444444444444444,\"#bd3786\"],[0.5555555555555556,\"#d8576b\"],[0.6666666666666666,\"#ed7953\"],[0.7777777777777778,\"#fb9f3a\"],[0.8888888888888888,\"#fdca26\"],[1.0,\"#f0f921\"]]}],\"contourcarpet\":[{\"type\":\"contourcarpet\",\"colorbar\":{\"outlinewidth\":0,\"ticks\":\"\"}}],\"contour\":[{\"type\":\"contour\",\"colorbar\":{\"outlinewidth\":0,\"ticks\":\"\"},\"colorscale\":[[0.0,\"#0d0887\"],[0.1111111111111111,\"#46039f\"],[0.2222222222222222,\"#7201a8\"],[0.3333333333333333,\"#9c179e\"],[0.4444444444444444,\"#bd3786\"],[0.5555555555555556,\"#d8576b\"],[0.6666666666666666,\"#ed7953\"],[0.7777777777777778,\"#fb9f3a\"],[0.8888888888888888,\"#fdca26\"],[1.0,\"#f0f921\"]]}],\"surface\":[{\"type\":\"surface\",\"colorbar\":{\"outlinewidth\":0,\"ticks\":\"\"},\"colorscale\":[[0.0,\"#0d0887\"],[0.1111111111111111,\"#46039f\"],[0.2222222222222222,\"#7201a8\"],[0.3333333333333333,\"#9c179e\"],[0.4444444444444444,\"#bd3786\"],[0.5555555555555556,\"#d8576b\"],[0.6666666666666666,\"#ed7953\"],[0.7777777777777778,\"#fb9f3a\"],[0.8888888888888888,\"#fdca26\"],[1.0,\"#f0f921\"]]}],\"mesh3d\":[{\"type\":\"mesh3d\",\"colorbar\":{\"outlinewidth\":0,\"ticks\":\"\"}}],\"scatter\":[{\"fillpattern\":{\"fillmode\":\"overlay\",\"size\":10,\"solidity\":0.2},\"type\":\"scatter\"}],\"parcoords\":[{\"type\":\"parcoords\",\"line\":{\"colorbar\":{\"outlinewidth\":0,\"ticks\":\"\"}}}],\"scatterpolargl\":[{\"type\":\"scatterpolargl\",\"marker\":{\"colorbar\":{\"outlinewidth\":0,\"ticks\":\"\"}}}],\"bar\":[{\"error_x\":{\"color\":\"#2a3f5f\"},\"error_y\":{\"color\":\"#2a3f5f\"},\"marker\":{\"line\":{\"color\":\"#E5ECF6\",\"width\":0.5},\"pattern\":{\"fillmode\":\"overlay\",\"size\":10,\"solidity\":0.2}},\"type\":\"bar\"}],\"scattergeo\":[{\"type\":\"scattergeo\",\"marker\":{\"colorbar\":{\"outlinewidth\":0,\"ticks\":\"\"}}}],\"scatterpolar\":[{\"type\":\"scatterpolar\",\"marker\":{\"colorbar\":{\"outlinewidth\":0,\"ticks\":\"\"}}}],\"histogram\":[{\"marker\":{\"pattern\":{\"fillmode\":\"overlay\",\"size\":10,\"solidity\":0.2}},\"type\":\"histogram\"}],\"scattergl\":[{\"type\":\"scattergl\",\"marker\":{\"colorbar\":{\"outlinewidth\":0,\"ticks\":\"\"}}}],\"scatter3d\":[{\"type\":\"scatter3d\",\"line\":{\"colorbar\":{\"outlinewidth\":0,\"ticks\":\"\"}},\"marker\":{\"colorbar\":{\"outlinewidth\":0,\"ticks\":\"\"}}}],\"scattermapbox\":[{\"type\":\"scattermapbox\",\"marker\":{\"colorbar\":{\"outlinewidth\":0,\"ticks\":\"\"}}}],\"scatterternary\":[{\"type\":\"scatterternary\",\"marker\":{\"colorbar\":{\"outlinewidth\":0,\"ticks\":\"\"}}}],\"scattercarpet\":[{\"type\":\"scattercarpet\",\"marker\":{\"colorbar\":{\"outlinewidth\":0,\"ticks\":\"\"}}}],\"carpet\":[{\"aaxis\":{\"endlinecolor\":\"#2a3f5f\",\"gridcolor\":\"white\",\"linecolor\":\"white\",\"minorgridcolor\":\"white\",\"startlinecolor\":\"#2a3f5f\"},\"baxis\":{\"endlinecolor\":\"#2a3f5f\",\"gridcolor\":\"white\",\"linecolor\":\"white\",\"minorgridcolor\":\"white\",\"startlinecolor\":\"#2a3f5f\"},\"type\":\"carpet\"}],\"table\":[{\"cells\":{\"fill\":{\"color\":\"#EBF0F8\"},\"line\":{\"color\":\"white\"}},\"header\":{\"fill\":{\"color\":\"#C8D4E3\"},\"line\":{\"color\":\"white\"}},\"type\":\"table\"}],\"barpolar\":[{\"marker\":{\"line\":{\"color\":\"#E5ECF6\",\"width\":0.5},\"pattern\":{\"fillmode\":\"overlay\",\"size\":10,\"solidity\":0.2}},\"type\":\"barpolar\"}],\"pie\":[{\"automargin\":true,\"type\":\"pie\"}]},\"layout\":{\"autotypenumbers\":\"strict\",\"colorway\":[\"#636efa\",\"#EF553B\",\"#00cc96\",\"#ab63fa\",\"#FFA15A\",\"#19d3f3\",\"#FF6692\",\"#B6E880\",\"#FF97FF\",\"#FECB52\"],\"font\":{\"color\":\"#2a3f5f\"},\"hovermode\":\"closest\",\"hoverlabel\":{\"align\":\"left\"},\"paper_bgcolor\":\"white\",\"plot_bgcolor\":\"#E5ECF6\",\"polar\":{\"bgcolor\":\"#E5ECF6\",\"angularaxis\":{\"gridcolor\":\"white\",\"linecolor\":\"white\",\"ticks\":\"\"},\"radialaxis\":{\"gridcolor\":\"white\",\"linecolor\":\"white\",\"ticks\":\"\"}},\"ternary\":{\"bgcolor\":\"#E5ECF6\",\"aaxis\":{\"gridcolor\":\"white\",\"linecolor\":\"white\",\"ticks\":\"\"},\"baxis\":{\"gridcolor\":\"white\",\"linecolor\":\"white\",\"ticks\":\"\"},\"caxis\":{\"gridcolor\":\"white\",\"linecolor\":\"white\",\"ticks\":\"\"}},\"coloraxis\":{\"colorbar\":{\"outlinewidth\":0,\"ticks\":\"\"}},\"colorscale\":{\"sequential\":[[0.0,\"#0d0887\"],[0.1111111111111111,\"#46039f\"],[0.2222222222222222,\"#7201a8\"],[0.3333333333333333,\"#9c179e\"],[0.4444444444444444,\"#bd3786\"],[0.5555555555555556,\"#d8576b\"],[0.6666666666666666,\"#ed7953\"],[0.7777777777777778,\"#fb9f3a\"],[0.8888888888888888,\"#fdca26\"],[1.0,\"#f0f921\"]],\"sequentialminus\":[[0.0,\"#0d0887\"],[0.1111111111111111,\"#46039f\"],[0.2222222222222222,\"#7201a8\"],[0.3333333333333333,\"#9c179e\"],[0.4444444444444444,\"#bd3786\"],[0.5555555555555556,\"#d8576b\"],[0.6666666666666666,\"#ed7953\"],[0.7777777777777778,\"#fb9f3a\"],[0.8888888888888888,\"#fdca26\"],[1.0,\"#f0f921\"]],\"diverging\":[[0,\"#8e0152\"],[0.1,\"#c51b7d\"],[0.2,\"#de77ae\"],[0.3,\"#f1b6da\"],[0.4,\"#fde0ef\"],[0.5,\"#f7f7f7\"],[0.6,\"#e6f5d0\"],[0.7,\"#b8e186\"],[0.8,\"#7fbc41\"],[0.9,\"#4d9221\"],[1,\"#276419\"]]},\"xaxis\":{\"gridcolor\":\"white\",\"linecolor\":\"white\",\"ticks\":\"\",\"title\":{\"standoff\":15},\"zerolinecolor\":\"white\",\"automargin\":true,\"zerolinewidth\":2},\"yaxis\":{\"gridcolor\":\"white\",\"linecolor\":\"white\",\"ticks\":\"\",\"title\":{\"standoff\":15},\"zerolinecolor\":\"white\",\"automargin\":true,\"zerolinewidth\":2},\"scene\":{\"xaxis\":{\"backgroundcolor\":\"#E5ECF6\",\"gridcolor\":\"white\",\"linecolor\":\"white\",\"showbackground\":true,\"ticks\":\"\",\"zerolinecolor\":\"white\",\"gridwidth\":2},\"yaxis\":{\"backgroundcolor\":\"#E5ECF6\",\"gridcolor\":\"white\",\"linecolor\":\"white\",\"showbackground\":true,\"ticks\":\"\",\"zerolinecolor\":\"white\",\"gridwidth\":2},\"zaxis\":{\"backgroundcolor\":\"#E5ECF6\",\"gridcolor\":\"white\",\"linecolor\":\"white\",\"showbackground\":true,\"ticks\":\"\",\"zerolinecolor\":\"white\",\"gridwidth\":2}},\"shapedefaults\":{\"line\":{\"color\":\"#2a3f5f\"}},\"annotationdefaults\":{\"arrowcolor\":\"#2a3f5f\",\"arrowhead\":0,\"arrowwidth\":1},\"geo\":{\"bgcolor\":\"white\",\"landcolor\":\"#E5ECF6\",\"subunitcolor\":\"white\",\"showland\":true,\"showlakes\":true,\"lakecolor\":\"white\"},\"title\":{\"x\":0.05},\"mapbox\":{\"style\":\"light\"}}},\"legend\":{\"tracegroupgap\":0},\"margin\":{\"t\":50,\"l\":25,\"r\":25,\"b\":25}},                        {\"responsive\": true}                    ).then(function(){\n",
       "                            \n",
       "var gd = document.getElementById('010e1e26-8122-4c17-b102-3985d528da5a');\n",
       "var x = new MutationObserver(function (mutations, observer) {{\n",
       "        var display = window.getComputedStyle(gd).display;\n",
       "        if (!display || display === 'none') {{\n",
       "            console.log([gd, 'removed!']);\n",
       "            Plotly.purge(gd);\n",
       "            observer.disconnect();\n",
       "        }}\n",
       "}});\n",
       "\n",
       "// Listen for the removal of the full notebook cells\n",
       "var notebookContainer = gd.closest('#notebook-container');\n",
       "if (notebookContainer) {{\n",
       "    x.observe(notebookContainer, {childList: true});\n",
       "}}\n",
       "\n",
       "// Listen for the clearing of the current output cell\n",
       "var outputEl = gd.closest('.output');\n",
       "if (outputEl) {{\n",
       "    x.observe(outputEl, {childList: true});\n",
       "}}\n",
       "\n",
       "                        })                };                });            </script>        </div>"
      ]
     },
     "metadata": {},
     "output_type": "display_data"
    }
   ],
   "source": [
    "fig = px.treemap(\n",
    "    nota_game_changer_df, \n",
    "    path = ['name_of_state_or_ut', 'constituency_name'], \n",
    "    values = 'mov',\n",
    "    # color='winning_party',\n",
    "    color = nota_game_changer_df['winning_party'],\n",
    "    color_discrete_map = color_mapping\n",
    ")\n",
    "fig.update_layout(margin = dict(t=50, l=25, r=25, b=25))\n",
    "fig.show()"
   ]
  },
  {
   "cell_type": "code",
   "execution_count": null,
   "id": "0754d833-df5e-4d6e-ba90-8e544cba6376",
   "metadata": {},
   "outputs": [],
   "source": []
  },
  {
   "cell_type": "code",
   "execution_count": null,
   "id": "d9cd03cc-c5dd-4ccc-95c8-731d0f7bcd72",
   "metadata": {},
   "outputs": [],
   "source": [
    "########## Add number of urban constituencies that voted NOTA\n",
    "########## Check the distribution of win percentage where NOTA is third"
   ]
  }
 ],
 "metadata": {
  "kernelspec": {
   "display_name": "Python 3 (ipykernel)",
   "language": "python",
   "name": "python3"
  },
  "language_info": {
   "codemirror_mode": {
    "name": "ipython",
    "version": 3
   },
   "file_extension": ".py",
   "mimetype": "text/x-python",
   "name": "python",
   "nbconvert_exporter": "python",
   "pygments_lexer": "ipython3",
   "version": "3.9.19"
  }
 },
 "nbformat": 4,
 "nbformat_minor": 5
}
